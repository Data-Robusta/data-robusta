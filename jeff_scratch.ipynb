{
 "cells": [
  {
   "cell_type": "code",
   "execution_count": 2,
   "metadata": {},
   "outputs": [],
   "source": [
    "import pandas as pd\n",
    "import matplotlib.pyplot as plt\n",
    "%matplotlib inline\n",
    "#import colombia_weather\n",
    "import prepare\n",
    "import explore"
   ]
  },
  {
   "cell_type": "code",
   "execution_count": 178,
   "metadata": {},
   "outputs": [],
   "source": [
    "import seaborn as sns\n",
    "%matplotlib inline\n",
    "import pylab as pl\n",
    "import warnings\n",
    "warnings.filterwarnings(\"ignore\")"
   ]
  },
  {
   "cell_type": "code",
   "execution_count": 4,
   "metadata": {},
   "outputs": [],
   "source": [
    "#matplot lib needs this to avoid datatype error with pandas\n",
    "pd.plotting.register_matplotlib_converters()"
   ]
  },
  {
   "cell_type": "code",
   "execution_count": null,
   "metadata": {},
   "outputs": [],
   "source": [
    "blob = prepare.get_data()"
   ]
  },
  {
   "cell_type": "code",
   "execution_count": null,
   "metadata": {},
   "outputs": [],
   "source": [
    "blob.tail()"
   ]
  },
  {
   "cell_type": "code",
   "execution_count": null,
   "metadata": {},
   "outputs": [],
   "source": [
    "df = pd.read_csv(\"psd_coffee.csv\")"
   ]
  },
  {
   "cell_type": "code",
   "execution_count": null,
   "metadata": {},
   "outputs": [],
   "source": [
    "df = df[df.Country_Name == \"Colombia\"]"
   ]
  },
  {
   "cell_type": "code",
   "execution_count": null,
   "metadata": {},
   "outputs": [],
   "source": [
    "df.dtypes"
   ]
  },
  {
   "cell_type": "code",
   "execution_count": null,
   "metadata": {},
   "outputs": [],
   "source": [
    "df[df.Market_Year == 2015]"
   ]
  },
  {
   "cell_type": "code",
   "execution_count": null,
   "metadata": {},
   "outputs": [],
   "source": [
    "import colombia_weather"
   ]
  },
  {
   "cell_type": "code",
   "execution_count": null,
   "metadata": {},
   "outputs": [],
   "source": [
    "pd.DataFrame.from_dict(colombia_weather.stations,orient=\"index\")"
   ]
  },
  {
   "cell_type": "code",
   "execution_count": null,
   "metadata": {},
   "outputs": [],
   "source": [
    "from colombia_weather import weather_stations"
   ]
  },
  {
   "cell_type": "code",
   "execution_count": null,
   "metadata": {
    "scrolled": false
   },
   "outputs": [],
   "source": [
    "colombia_weather.weather_stations"
   ]
  },
  {
   "cell_type": "code",
   "execution_count": null,
   "metadata": {
    "scrolled": true
   },
   "outputs": [],
   "source": [
    "colombia_weather.get_weather()"
   ]
  },
  {
   "cell_type": "code",
   "execution_count": null,
   "metadata": {},
   "outputs": [],
   "source": [
    "df = pd.read_csv(\"coffee_data/coffee.csv\")"
   ]
  },
  {
   "cell_type": "code",
   "execution_count": null,
   "metadata": {},
   "outputs": [],
   "source": [
    "df.price_adjusted_inflation.plot()"
   ]
  },
  {
   "cell_type": "code",
   "execution_count": null,
   "metadata": {},
   "outputs": [],
   "source": [
    "df"
   ]
  },
  {
   "cell_type": "code",
   "execution_count": null,
   "metadata": {},
   "outputs": [],
   "source": [
    "df.date = df.date.apply(pd.to_datetime)"
   ]
  },
  {
   "cell_type": "code",
   "execution_count": null,
   "metadata": {},
   "outputs": [],
   "source": [
    "df.set_index('date',inplace=True)"
   ]
  },
  {
   "cell_type": "code",
   "execution_count": null,
   "metadata": {},
   "outputs": [],
   "source": [
    "df.price_adjusted_inflation.plot()\n",
    "plt.title(\"Price of coffee 1958-\")"
   ]
  },
  {
   "cell_type": "code",
   "execution_count": null,
   "metadata": {},
   "outputs": [],
   "source": []
  },
  {
   "cell_type": "code",
   "execution_count": null,
   "metadata": {},
   "outputs": [],
   "source": [
    "import plotly\n",
    "import pandas as pd\n",
    "import plotly.graph_objects as go"
   ]
  },
  {
   "cell_type": "code",
   "execution_count": null,
   "metadata": {},
   "outputs": [],
   "source": [
    "url = \"https://raw.githubusercontent.com/plotly/datasets/master/gapminderDataFiveYear.csv\"\n",
    "dataset = pd.read_csv(url)"
   ]
  },
  {
   "cell_type": "code",
   "execution_count": null,
   "metadata": {},
   "outputs": [],
   "source": [
    "years = [\"1952\", \"1962\", \"1967\", \"1972\", \"1977\", \"1982\", \"1987\", \"1992\", \"1997\", \"2002\",\"2007\"]"
   ]
  },
  {
   "cell_type": "code",
   "execution_count": null,
   "metadata": {},
   "outputs": [],
   "source": [
    "continents = list(dataset['continent'].unique())"
   ]
  },
  {
   "cell_type": "code",
   "execution_count": null,
   "metadata": {},
   "outputs": [],
   "source": [
    "fig_dict = {\n",
    "    \"data\": [],\n",
    "    \"layout\":{},\n",
    "    \"frames\": []\n",
    "    }"
   ]
  },
  {
   "cell_type": "code",
   "execution_count": null,
   "metadata": {},
   "outputs": [],
   "source": []
  },
  {
   "cell_type": "code",
   "execution_count": null,
   "metadata": {},
   "outputs": [],
   "source": [
    "fig_dict['layout']['xaxis'] = {\"range\": [30,85],'title':'Life Expactancy'}"
   ]
  },
  {
   "cell_type": "code",
   "execution_count": null,
   "metadata": {},
   "outputs": [],
   "source": [
    "# Libraries\n",
    "import numpy as np\n",
    "import matplotlib.pyplot as plt\n",
    "from matplotlib.sankey import Sankey\n",
    " \n",
    "# basic sankey chart\n",
    "Sankey(flows=[1, -0.20, -0.15, -0.05, -0.50, -0.10], labels=['Colombia', 'First', 'Second', 'Third', 'Fourth', 'Fifth'], orientations=[0, 1, -1, -1, 0,1]).finish()\n",
    "plt.title(\"Sankey diagram with default settings\")\n"
   ]
  },
  {
   "cell_type": "code",
   "execution_count": null,
   "metadata": {},
   "outputs": [],
   "source": [
    "import plotly.graph_objects as go\n",
    "\n",
    "fig = go.Figure(go.Sankey(\n",
    "    arrangement = \"snap\",\n",
    "    node = {\n",
    "        \"label\": [\"A\", \"B\", \"C\", \"D\", \"E\", \"F\"],\n",
    "        \"x\": [0.5, 0.1, 0.5, 0.7, 0.3, 0.5],\n",
    "        \"y\": [0.7, 0.5, 0.2, 0.4, 0.2, 0.3],\n",
    "        'pad':10},  # 10 Pixels \n",
    "    link = {\n",
    "        \"source\": [0, 0, 1, 2, 5, 4, 3, 5],\n",
    "        \"target\": [5, 3, 4, 3, 0, 2, 2, 3],\n",
    "        \"value\": [1, 2, 1, 1, 1, 1, 1, 2]}))\n",
    "\n",
    "fig.show()"
   ]
  },
  {
   "cell_type": "code",
   "execution_count": null,
   "metadata": {},
   "outputs": [],
   "source": [
    "import plotly.graph_objects as go\n",
    "import urllib, json\n",
    "\n",
    "url = 'https://raw.githubusercontent.com/plotly/plotly.js/master/test/image/mocks/sankey_energy.json'\n",
    "response = urllib.request.urlopen(url)\n",
    "data = json.loads(response.read())\n",
    "\n",
    "fig = go.Figure(data=[go.Sankey(\n",
    "    valueformat = \".0f\",\n",
    "    valuesuffix = \"TWh\",\n",
    "    node = dict(\n",
    "      pad = 15,\n",
    "      thickness = 15,\n",
    "      line = dict(color = \"black\", width = 0.5),\n",
    "      label =  data['data'][0]['node']['label'],\n",
    "      color =  data['data'][0]['node']['color']\n",
    "    ),\n",
    "    link = dict(\n",
    "      source =  data['data'][0]['link']['source'],\n",
    "      target =  data['data'][0]['link']['target'],\n",
    "      value =  data['data'][0]['link']['value'],\n",
    "      label =  data['data'][0]['link']['label']\n",
    "  ))])\n",
    "\n",
    "fig.update_layout(\n",
    "    hovermode = 'x',\n",
    "    title=\"Energy forecast for 2050<br>Source: Department of Energy & Climate Change, Tom Counsell via <a href='https://bost.ocks.org/mike/sankey/'>Mike Bostock</a>\",\n",
    "    font=dict(size = 10, color = 'white'),\n",
    "    plot_bgcolor='black',\n",
    "    paper_bgcolor='black'\n",
    ")\n",
    "\n",
    "fig.show()"
   ]
  },
  {
   "cell_type": "code",
   "execution_count": null,
   "metadata": {},
   "outputs": [],
   "source": [
    "country_code = pd.read_json('coffee_data/country_codes.json')"
   ]
  },
  {
   "cell_type": "code",
   "execution_count": null,
   "metadata": {},
   "outputs": [],
   "source": [
    "country_code.columns = ['country','dest']"
   ]
  },
  {
   "cell_type": "code",
   "execution_count": null,
   "metadata": {},
   "outputs": [],
   "source": [
    "country_code"
   ]
  },
  {
   "cell_type": "code",
   "execution_count": null,
   "metadata": {},
   "outputs": [],
   "source": [
    "coffee_export_by_country = pd.read_csv(\"coffee_data/coffee_export_numbers.csv\")"
   ]
  },
  {
   "cell_type": "code",
   "execution_count": null,
   "metadata": {},
   "outputs": [],
   "source": [
    "coffee_export_by_country.shape"
   ]
  },
  {
   "cell_type": "code",
   "execution_count": null,
   "metadata": {},
   "outputs": [],
   "source": [
    "coffee_export_by_country = pd.merge(coffee_export_by_country,country_code,on=\"dest\",how=\"outer\")"
   ]
  },
  {
   "cell_type": "code",
   "execution_count": null,
   "metadata": {},
   "outputs": [],
   "source": [
    "coffee_export_by_country.to_csv(\"coffee_data/coffee_export_by_country.csv\")"
   ]
  },
  {
   "cell_type": "code",
   "execution_count": null,
   "metadata": {},
   "outputs": [],
   "source": [
    "df = pd.read_csv('coffee_data/coffee_export_by_country.csv')"
   ]
  },
  {
   "cell_type": "code",
   "execution_count": null,
   "metadata": {},
   "outputs": [],
   "source": [
    "df.shape"
   ]
  },
  {
   "cell_type": "code",
   "execution_count": null,
   "metadata": {},
   "outputs": [],
   "source": [
    "df = colombia_weather.get_weather()"
   ]
  },
  {
   "cell_type": "code",
   "execution_count": null,
   "metadata": {},
   "outputs": [],
   "source": [
    "df[df.PRCP >=0].shape[0]/df.shape[0]"
   ]
  },
  {
   "cell_type": "code",
   "execution_count": null,
   "metadata": {},
   "outputs": [],
   "source": [
    "df[df.DATE > '1990-01-01'].head(5)"
   ]
  },
  {
   "cell_type": "code",
   "execution_count": null,
   "metadata": {},
   "outputs": [],
   "source": [
    "df.DATE = pd.to_datetime(df.DATE)\n",
    "df[\"DATE2\"] = df.DATE"
   ]
  },
  {
   "cell_type": "code",
   "execution_count": null,
   "metadata": {},
   "outputs": [],
   "source": []
  },
  {
   "cell_type": "code",
   "execution_count": null,
   "metadata": {},
   "outputs": [],
   "source": [
    "df.dtypes"
   ]
  },
  {
   "cell_type": "code",
   "execution_count": null,
   "metadata": {},
   "outputs": [],
   "source": [
    "df.set_index('DATE',inplace=True)"
   ]
  },
  {
   "cell_type": "code",
   "execution_count": null,
   "metadata": {},
   "outputs": [],
   "source": [
    "stations = df.NAME.unique()"
   ]
  },
  {
   "cell_type": "code",
   "execution_count": null,
   "metadata": {},
   "outputs": [],
   "source": []
  },
  {
   "cell_type": "code",
   "execution_count": null,
   "metadata": {},
   "outputs": [],
   "source": [
    "station_activity = pd.DataFrame(df.NAME.unique(),columns=['station_name'])"
   ]
  },
  {
   "cell_type": "code",
   "execution_count": null,
   "metadata": {},
   "outputs": [],
   "source": [
    "station_activity.head(2)"
   ]
  },
  {
   "cell_type": "code",
   "execution_count": null,
   "metadata": {},
   "outputs": [],
   "source": [
    "station_activity = station_activity.sort_values(by='station_name').set_index('station_name')"
   ]
  },
  {
   "cell_type": "code",
   "execution_count": null,
   "metadata": {},
   "outputs": [],
   "source": [
    "station_activity.head()"
   ]
  },
  {
   "cell_type": "code",
   "execution_count": null,
   "metadata": {},
   "outputs": [],
   "source": [
    "station_activity = pd.concat([station_activity,df.sort_values(by='NAME').groupby(\"NAME\")['DATE2'].min()],axis=1).rename(columns={\"DATE2\":\"first_date_record\"})\n",
    "station_activity = pd.concat([station_activity,df.sort_values(by='NAME').groupby(\"NAME\")['DATE2'].max()],axis=1).rename(columns={\"DATE2\":\"last_date_record\"})"
   ]
  },
  {
   "cell_type": "code",
   "execution_count": null,
   "metadata": {},
   "outputs": [],
   "source": [
    "station_activity"
   ]
  },
  {
   "cell_type": "code",
   "execution_count": null,
   "metadata": {},
   "outputs": [],
   "source": [
    "grouper = df.groupby([pd.Grouper(freq='1M'),'NAME'])"
   ]
  },
  {
   "cell_type": "code",
   "execution_count": null,
   "metadata": {},
   "outputs": [],
   "source": [
    "grouper = grouper.mean().reset_index(level='NAME')"
   ]
  },
  {
   "cell_type": "code",
   "execution_count": null,
   "metadata": {},
   "outputs": [],
   "source": [
    "grouper.groupby([pd.Grouper(freq='Y')])"
   ]
  },
  {
   "cell_type": "code",
   "execution_count": null,
   "metadata": {},
   "outputs": [],
   "source": [
    "year_1960 = grouper[grouper.index < '1961-01-01']"
   ]
  },
  {
   "cell_type": "code",
   "execution_count": null,
   "metadata": {},
   "outputs": [],
   "source": [
    "year_1960.NAME.nunique()"
   ]
  },
  {
   "cell_type": "code",
   "execution_count": null,
   "metadata": {},
   "outputs": [],
   "source": [
    "grouper.groupby([pd.Grouper(freq='Y')])['NAME'].nunique()"
   ]
  },
  {
   "cell_type": "code",
   "execution_count": null,
   "metadata": {},
   "outputs": [],
   "source": [
    "def weather_stations_by_year():\n",
    "    df = colombia_weather.get_weather()\n",
    "    df.DATE = pd.to_datetime(df.DATE)\n",
    "    df.set_index('DATE',inplace=True)\n",
    "    return df.groupby([pd.Grouper(freq='Y')])['NAME'].nunique()"
   ]
  },
  {
   "cell_type": "code",
   "execution_count": null,
   "metadata": {},
   "outputs": [],
   "source": [
    "df = weather_stations_by_year()"
   ]
  },
  {
   "cell_type": "code",
   "execution_count": null,
   "metadata": {},
   "outputs": [],
   "source": [
    "df = prepare.get_data()"
   ]
  },
  {
   "cell_type": "code",
   "execution_count": null,
   "metadata": {},
   "outputs": [],
   "source": [
    "weather_stations = pd.DataFrame.from_dict(colombia_weather.weather_stations,orient='index')"
   ]
  },
  {
   "cell_type": "code",
   "execution_count": null,
   "metadata": {},
   "outputs": [],
   "source": [
    "weather_stations = weather_stations.sort_index()"
   ]
  },
  {
   "cell_type": "code",
   "execution_count": null,
   "metadata": {},
   "outputs": [],
   "source": [
    "station_dates = pd.concat([weather_stations,station_activity],axis=1)"
   ]
  },
  {
   "cell_type": "code",
   "execution_count": null,
   "metadata": {},
   "outputs": [],
   "source": [
    "station_dates = station_dates.dropna().rename(columns = {0: \"department\"})"
   ]
  },
  {
   "cell_type": "code",
   "execution_count": null,
   "metadata": {},
   "outputs": [],
   "source": [
    "station_dates.sort_values(by='first_date_record')"
   ]
  },
  {
   "cell_type": "code",
   "execution_count": null,
   "metadata": {},
   "outputs": [],
   "source": [
    "station_dates.to_csv('weather_data/station_dates.csv')"
   ]
  },
  {
   "cell_type": "code",
   "execution_count": null,
   "metadata": {},
   "outputs": [],
   "source": [
    "blob = pd.read_csv('coffee_data/coffee_export_by_country.csv')"
   ]
  },
  {
   "cell_type": "code",
   "execution_count": null,
   "metadata": {},
   "outputs": [],
   "source": []
  },
  {
   "cell_type": "code",
   "execution_count": null,
   "metadata": {},
   "outputs": [],
   "source": [
    "df = prepare.get_data()"
   ]
  },
  {
   "cell_type": "code",
   "execution_count": null,
   "metadata": {},
   "outputs": [],
   "source": [
    "df.head(5)"
   ]
  },
  {
   "cell_type": "code",
   "execution_count": null,
   "metadata": {},
   "outputs": [],
   "source": [
    "weather_stations = pd.DataFrame.from_dict(colombia_weather.weather_stations,orient=\"index\")"
   ]
  },
  {
   "cell_type": "code",
   "execution_count": null,
   "metadata": {},
   "outputs": [],
   "source": [
    "weather_stations.reset_index(inplace=True)\n",
    "df.reset_index(inplace=True)"
   ]
  },
  {
   "cell_type": "code",
   "execution_count": null,
   "metadata": {},
   "outputs": [],
   "source": [
    "weather_stations"
   ]
  },
  {
   "cell_type": "code",
   "execution_count": null,
   "metadata": {},
   "outputs": [],
   "source": [
    "df.shape"
   ]
  },
  {
   "cell_type": "code",
   "execution_count": null,
   "metadata": {},
   "outputs": [],
   "source": [
    "station_dates = pd.merge(df,weather_stations,how='left',left_on='region',right_on=0)"
   ]
  },
  {
   "cell_type": "code",
   "execution_count": null,
   "metadata": {},
   "outputs": [],
   "source": [
    "weather_stations.shape"
   ]
  },
  {
   "cell_type": "code",
   "execution_count": null,
   "metadata": {},
   "outputs": [],
   "source": [
    "station_dates.set_index('date',inplace=True)"
   ]
  },
  {
   "cell_type": "code",
   "execution_count": null,
   "metadata": {
    "scrolled": false
   },
   "outputs": [],
   "source": [
    "station_dates.head(2)"
   ]
  },
  {
   "cell_type": "code",
   "execution_count": null,
   "metadata": {},
   "outputs": [],
   "source": [
    "station_activity = pd.DataFrame(station_dates.region.unique())"
   ]
  },
  {
   "cell_type": "code",
   "execution_count": null,
   "metadata": {},
   "outputs": [],
   "source": [
    "station_activity.dropna(inplace=True)"
   ]
  },
  {
   "cell_type": "code",
   "execution_count": null,
   "metadata": {},
   "outputs": [],
   "source": [
    "station_activity.columns = ['region']"
   ]
  },
  {
   "cell_type": "code",
   "execution_count": null,
   "metadata": {},
   "outputs": [],
   "source": []
  },
  {
   "cell_type": "code",
   "execution_count": null,
   "metadata": {},
   "outputs": [],
   "source": [
    "station_activity"
   ]
  },
  {
   "cell_type": "code",
   "execution_count": null,
   "metadata": {},
   "outputs": [],
   "source": [
    "df.reset_index(inplace=True)\n",
    "df.head(2)"
   ]
  },
  {
   "cell_type": "code",
   "execution_count": null,
   "metadata": {
    "scrolled": true
   },
   "outputs": [],
   "source": [
    "station_activity = pd.concat([station_activity,df.sort_values(by='region').groupby(\"region\")['date'].min()],axis=1).rename(columns={\"date\":\"first_date_record\"})\n",
    "station_activity = pd.concat([station_activity,df.sort_values(by='region').groupby(\"region\")['date'].max()],axis=1).rename(columns={\"date\":\"last_date_record\"})"
   ]
  },
  {
   "cell_type": "code",
   "execution_count": null,
   "metadata": {},
   "outputs": [],
   "source": [
    "station_activity = station_activity.iloc[13:].drop(columns='region')"
   ]
  },
  {
   "cell_type": "code",
   "execution_count": null,
   "metadata": {},
   "outputs": [],
   "source": [
    "station_activity.to_csv('weather_data/station_dates.csv')"
   ]
  },
  {
   "cell_type": "code",
   "execution_count": null,
   "metadata": {},
   "outputs": [],
   "source": [
    "df = prepare.get_weather()"
   ]
  },
  {
   "cell_type": "code",
   "execution_count": null,
   "metadata": {},
   "outputs": [],
   "source": [
    "df.set_index('DATE',inplace=True)"
   ]
  },
  {
   "cell_type": "code",
   "execution_count": null,
   "metadata": {},
   "outputs": [],
   "source": [
    "df.head(2)"
   ]
  },
  {
   "cell_type": "code",
   "execution_count": null,
   "metadata": {},
   "outputs": [],
   "source": [
    "df.groupby(['STATION','')"
   ]
  },
  {
   "cell_type": "code",
   "execution_count": null,
   "metadata": {},
   "outputs": [],
   "source": [
    "df.columns.apply(lower)"
   ]
  },
  {
   "cell_type": "code",
   "execution_count": null,
   "metadata": {},
   "outputs": [],
   "source": [
    "df.columns = map(str.lower, df.columns)"
   ]
  },
  {
   "cell_type": "code",
   "execution_count": null,
   "metadata": {},
   "outputs": [],
   "source": [
    "df"
   ]
  },
  {
   "cell_type": "code",
   "execution_count": null,
   "metadata": {},
   "outputs": [],
   "source": [
    "df = prepare.get_data()"
   ]
  },
  {
   "cell_type": "code",
   "execution_count": null,
   "metadata": {},
   "outputs": [],
   "source": [
    "df = df.sort_values(by='region').sort_index()"
   ]
  },
  {
   "cell_type": "code",
   "execution_count": null,
   "metadata": {},
   "outputs": [],
   "source": [
    "df.tail(30)"
   ]
  },
  {
   "cell_type": "code",
   "execution_count": null,
   "metadata": {},
   "outputs": [],
   "source": [
    "df[df.mean_temp.isna()].shape"
   ]
  },
  {
   "cell_type": "code",
   "execution_count": null,
   "metadata": {},
   "outputs": [],
   "source": [
    "mean_temp = df[['region','mean_temp']]"
   ]
  },
  {
   "cell_type": "code",
   "execution_count": null,
   "metadata": {},
   "outputs": [],
   "source": [
    "mean_temp.head(20)"
   ]
  },
  {
   "cell_type": "code",
   "execution_count": null,
   "metadata": {},
   "outputs": [],
   "source": [
    "mean_temp['prior_year_mean_temp'] = mean_temp.mean_temp.diff(periods=12)"
   ]
  },
  {
   "cell_type": "code",
   "execution_count": null,
   "metadata": {},
   "outputs": [],
   "source": [
    "mean_temp.head(30)"
   ]
  },
  {
   "cell_type": "code",
   "execution_count": null,
   "metadata": {},
   "outputs": [],
   "source": [
    "df.index.nunique()"
   ]
  },
  {
   "cell_type": "code",
   "execution_count": null,
   "metadata": {},
   "outputs": [],
   "source": [
    "mean_temp.reset_index(inplace=True)"
   ]
  },
  {
   "cell_type": "code",
   "execution_count": null,
   "metadata": {},
   "outputs": [],
   "source": [
    "mean_temp['unique'] = mean_temp.date.map(str) + mean_temp.region"
   ]
  },
  {
   "cell_type": "code",
   "execution_count": null,
   "metadata": {},
   "outputs": [],
   "source": [
    "mean_temp.dtypes"
   ]
  },
  {
   "cell_type": "code",
   "execution_count": null,
   "metadata": {},
   "outputs": [],
   "source": []
  },
  {
   "cell_type": "code",
   "execution_count": null,
   "metadata": {},
   "outputs": [],
   "source": []
  },
  {
   "cell_type": "code",
   "execution_count": null,
   "metadata": {},
   "outputs": [],
   "source": []
  },
  {
   "cell_type": "code",
   "execution_count": null,
   "metadata": {},
   "outputs": [],
   "source": [
    "df.sort_index(inplace=True)"
   ]
  },
  {
   "cell_type": "code",
   "execution_count": null,
   "metadata": {},
   "outputs": [],
   "source": [
    "df.region.unique()"
   ]
  },
  {
   "cell_type": "code",
   "execution_count": null,
   "metadata": {},
   "outputs": [],
   "source": [
    "#for r in df.region.unique():\n",
    "df[df.region == \"Narino\"].quantity.plot()"
   ]
  },
  {
   "cell_type": "code",
   "execution_count": null,
   "metadata": {},
   "outputs": [],
   "source": [
    "grouper = df[df.index >= '01-01-1980'].groupby([pd.Grouper(freq='1Y'),'region'])"
   ]
  },
  {
   "cell_type": "code",
   "execution_count": null,
   "metadata": {},
   "outputs": [],
   "source": [
    "region_quantity = grouper.mean()"
   ]
  },
  {
   "cell_type": "code",
   "execution_count": null,
   "metadata": {},
   "outputs": [],
   "source": [
    "region_quantity.columns"
   ]
  },
  {
   "cell_type": "code",
   "execution_count": null,
   "metadata": {},
   "outputs": [],
   "source": [
    "region_quantity = region_quantity.reset_index()"
   ]
  },
  {
   "cell_type": "code",
   "execution_count": null,
   "metadata": {},
   "outputs": [],
   "source": []
  },
  {
   "cell_type": "code",
   "execution_count": null,
   "metadata": {},
   "outputs": [],
   "source": [
    "region_quantity.set_index('date',inplace=True)"
   ]
  },
  {
   "cell_type": "code",
   "execution_count": null,
   "metadata": {},
   "outputs": [],
   "source": [
    "region_quantity"
   ]
  },
  {
   "cell_type": "code",
   "execution_count": null,
   "metadata": {
    "scrolled": false
   },
   "outputs": [],
   "source": [
    "def production_by_region(df):\n",
    "    grouper = df[df.index >= '01-01-1980'].groupby([pd.Grouper(freq='1Y'),'region'])\n",
    "    region_quantity = grouper.mean()\n",
    "    for c in region_quantity.columns:\n",
    "        region_quantity = group.c.mean()\n",
    "        region_quantity = region_quantity.reset_index()\n",
    "        region_quantity.set_index('date',inplace=True)\n",
    "\n",
    "        print(\"Top Coffee Producing Regions of Colombia\")\n",
    "        for r in region_quantity.region.unique():\n",
    "            region_quantity[region_quantity.region == r].quantity.plot()\n",
    "            plt.title(\"Thousands of 60kg bags produced by \" + r)\n",
    "            plt.ylabel(\"Thousands of 60kg bags\")\n",
    "            plt.xlabel(\"Year\")\n",
    "            plt.show()"
   ]
  },
  {
   "cell_type": "code",
   "execution_count": null,
   "metadata": {},
   "outputs": [],
   "source": []
  },
  {
   "cell_type": "code",
   "execution_count": null,
   "metadata": {},
   "outputs": [],
   "source": [
    "production_by_region(df)"
   ]
  },
  {
   "cell_type": "code",
   "execution_count": null,
   "metadata": {},
   "outputs": [],
   "source": [
    "def production_by_region(df):\n",
    "    \n",
    "    grouper = df[df.index >= '01-01-1980'].groupby([pd.Grouper(freq='1Y'),'region'])\n",
    "    region_quantity = grouper.quantity.sum()\n",
    "    region_quantity = region_quantity.reset_index()\n",
    "    region_quantity.set_index('date',inplace=True)\n",
    "\n",
    "    print(\"Top Coffee Producing Regions of Colombia\")\n",
    "    for r in region_quantity.region.unique():\n",
    "        region_quantity[region_quantity.region == r].quantity.plot()\n",
    "        plt.title(\"Thousands of 60kg bags produced by \" + r)\n",
    "        plt.ylabel(\"Thousands of 60kg bags\")\n",
    "        plt.xlabel(\"Year\")\n",
    "        plt.show()"
   ]
  },
  {
   "cell_type": "code",
   "execution_count": null,
   "metadata": {},
   "outputs": [],
   "source": [
    "production_by_region(df)"
   ]
  },
  {
   "cell_type": "code",
   "execution_count": null,
   "metadata": {},
   "outputs": [],
   "source": [
    "def precipitation_by_region(df):\n",
    "    \n",
    "    grouper = df[df.index >= '01-01-1980'].groupby([pd.Grouper(freq='1Y'),'region'])\n",
    "    region_precip = grouper.mean_precip.sum()\n",
    "    region_precip = region_precip.reset_index()\n",
    "    region_precip.set_index('date',inplace=True)\n",
    "\n",
    "    print(\"Average precipitation by Region of Colombia\")\n",
    "    for r in region_precip.region.unique():\n",
    "        region_precip[region_precip.region == r].mean_precip.plot()\n",
    "        plt.title(\"Average Precipitation in mm \" + r)\n",
    "        plt.ylabel(\"Avg Precipitation (mm)\")\n",
    "        plt.xlabel(\"Year\")\n",
    "        plt.show()"
   ]
  },
  {
   "cell_type": "code",
   "execution_count": null,
   "metadata": {},
   "outputs": [],
   "source": [
    "precipitation_by_region(df)"
   ]
  },
  {
   "cell_type": "code",
   "execution_count": null,
   "metadata": {},
   "outputs": [],
   "source": [
    "def avg_temp_by_region(df):\n",
    "    \n",
    "    grouper = df[df.index >= '01-01-1980'].groupby([pd.Grouper(freq='1Y'),'region'])\n",
    "    region_precip = grouper.mean_precip.sum()\n",
    "    region_precip = region_precip.reset_index()\n",
    "    region_precip.set_index('date',inplace=True)\n",
    "\n",
    "    print(\"Average precipitation by Region of Colombia\")\n",
    "    for r in region_precip.region.unique():\n",
    "        region_precip[region_precip.region == r].mean_precip.plot()\n",
    "        plt.title(\"Average Precipitation in mm \" + r)\n",
    "        plt.ylabel(\"Avg Precipitation (mm)\")\n",
    "        plt.xlabel(\"Year\")\n",
    "        plt.show()"
   ]
  },
  {
   "cell_type": "code",
   "execution_count": null,
   "metadata": {},
   "outputs": [],
   "source": [
    "df = prepare.get_data()"
   ]
  },
  {
   "cell_type": "code",
   "execution_count": null,
   "metadata": {},
   "outputs": [],
   "source": [
    "explore.production_by_region(df)\n",
    "#df[df.index=='1971-04-01']"
   ]
  },
  {
   "cell_type": "code",
   "execution_count": null,
   "metadata": {},
   "outputs": [],
   "source": [
    "df.region.unique()"
   ]
  },
  {
   "cell_type": "code",
   "execution_count": null,
   "metadata": {},
   "outputs": [],
   "source": [
    "df[pd.isna(df.region)]"
   ]
  },
  {
   "cell_type": "code",
   "execution_count": null,
   "metadata": {},
   "outputs": [],
   "source": [
    "df = df[df.index != '1971-04-01']"
   ]
  },
  {
   "cell_type": "code",
   "execution_count": null,
   "metadata": {},
   "outputs": [],
   "source": [
    "df.shape"
   ]
  },
  {
   "cell_type": "code",
   "execution_count": null,
   "metadata": {},
   "outputs": [],
   "source": [
    "df = df[df.index != '1971-04-01']\n",
    "grouper = df[df.index >= '01-01-1980'].groupby([pd.Grouper(freq='1Y'),'region'])\n",
    "region_quantity = grouper.quantity.sum()\n",
    "region_quantity = region_quantity.reset_index()"
   ]
  },
  {
   "cell_type": "code",
   "execution_count": 5,
   "metadata": {},
   "outputs": [],
   "source": [
    "df = prepare.get_prepped()"
   ]
  },
  {
   "cell_type": "code",
   "execution_count": null,
   "metadata": {},
   "outputs": [],
   "source": [
    "outliers = pd.DataFrame(df.groupby([pd.Grouper(freq='1Y')])['inflated'].mean())"
   ]
  },
  {
   "cell_type": "code",
   "execution_count": null,
   "metadata": {},
   "outputs": [],
   "source": [
    "max_inflated = pd.DataFrame(df.groupby([pd.Grouper(freq='1Y')])['inflated'].max()).rename(columns={'inflated':'max_inflated'})"
   ]
  },
  {
   "cell_type": "code",
   "execution_count": null,
   "metadata": {},
   "outputs": [],
   "source": [
    "min_inflated = pd.DataFrame(df.groupby([pd.Grouper(freq='1Y')])['inflated'].min()).rename(columns={'inflated':'min_inflated'})"
   ]
  },
  {
   "cell_type": "code",
   "execution_count": null,
   "metadata": {},
   "outputs": [],
   "source": [
    "outliers = pd.merge(outliers,max_inflated,left_index=True,right_index=True)"
   ]
  },
  {
   "cell_type": "code",
   "execution_count": null,
   "metadata": {},
   "outputs": [],
   "source": [
    "outliers = pd.merge(outliers,min_inflated,left_index=True,right_index=True)"
   ]
  },
  {
   "cell_type": "code",
   "execution_count": 6,
   "metadata": {},
   "outputs": [],
   "source": [
    "blob = explore.price_outliers(df)"
   ]
  },
  {
   "cell_type": "code",
   "execution_count": 9,
   "metadata": {},
   "outputs": [],
   "source": [
    "blob91 = blob['1991':]"
   ]
  },
  {
   "cell_type": "code",
   "execution_count": 41,
   "metadata": {},
   "outputs": [
    {
     "data": {
      "text/plain": [
       "<matplotlib.axes._subplots.AxesSubplot at 0x130456da0>"
      ]
     },
     "execution_count": 41,
     "metadata": {},
     "output_type": "execute_result"
    },
    {
     "data": {
      "image/png": "[encoded data removed]",
      "text/plain": [
       "<Figure size 432x288 with 1 Axes>"
      ]
     },
     "metadata": {
      "needs_background": "light"
     },
     "output_type": "display_data"
    }
   ],
   "source": [
    "sns.distplot(df.inflated[\"1991\":])"
   ]
  },
  {
   "cell_type": "code",
   "execution_count": 13,
   "metadata": {},
   "outputs": [
    {
     "data": {
      "text/plain": [
       "<matplotlib.axes._subplots.AxesSubplot at 0x12fd5d860>"
      ]
     },
     "execution_count": 13,
     "metadata": {},
     "output_type": "execute_result"
    },
    {
     "data": {
      "image/png": "[encoded data removed]",
      "text/plain": [
       "<Figure size 432x288 with 1 Axes>"
      ]
     },
     "metadata": {
      "needs_background": "light"
     },
     "output_type": "display_data"
    }
   ],
   "source": [
    "sns.distplot(blob91.inflated)"
   ]
  },
  {
   "cell_type": "code",
   "execution_count": 14,
   "metadata": {},
   "outputs": [
    {
     "data": {
      "text/plain": [
       "<matplotlib.axes._subplots.AxesSubplot at 0x12fe23cf8>"
      ]
     },
     "execution_count": 14,
     "metadata": {},
     "output_type": "execute_result"
    },
    {
     "data": {
      "image/png": "[encoded data removed]",
      "text/plain": [
       "<Figure size 432x288 with 1 Axes>"
      ]
     },
     "metadata": {
      "needs_background": "light"
     },
     "output_type": "display_data"
    }
   ],
   "source": [
    "blob91.inflated.plot()"
   ]
  },
  {
   "cell_type": "code",
   "execution_count": 15,
   "metadata": {},
   "outputs": [
    {
     "data": {
      "text/plain": [
       "179.71947904604718"
      ]
     },
     "execution_count": 15,
     "metadata": {},
     "output_type": "execute_result"
    }
   ],
   "source": [
    "blob91.inflated.mean()"
   ]
  },
  {
   "cell_type": "code",
   "execution_count": 16,
   "metadata": {},
   "outputs": [
    {
     "data": {
      "text/html": [
       "<div>\n",
       "<style scoped>\n",
       "    .dataframe tbody tr th:only-of-type {\n",
       "        vertical-align: middle;\n",
       "    }\n",
       "\n",
       "    .dataframe tbody tr th {\n",
       "        vertical-align: top;\n",
       "    }\n",
       "\n",
       "    .dataframe thead th {\n",
       "        text-align: right;\n",
       "    }\n",
       "</style>\n",
       "<table border=\"1\" class=\"dataframe\">\n",
       "  <thead>\n",
       "    <tr style=\"text-align: right;\">\n",
       "      <th></th>\n",
       "      <th>inflated</th>\n",
       "      <th>max_inflated</th>\n",
       "      <th>min_inflated</th>\n",
       "    </tr>\n",
       "    <tr>\n",
       "      <th>date</th>\n",
       "      <th></th>\n",
       "      <th></th>\n",
       "      <th></th>\n",
       "    </tr>\n",
       "  </thead>\n",
       "  <tbody>\n",
       "    <tr>\n",
       "      <th>2003-12-31</th>\n",
       "      <td>89.331588</td>\n",
       "      <td>92.327313</td>\n",
       "      <td>84.263230</td>\n",
       "    </tr>\n",
       "    <tr>\n",
       "      <th>2002-12-31</th>\n",
       "      <td>89.873723</td>\n",
       "      <td>97.737247</td>\n",
       "      <td>79.446600</td>\n",
       "    </tr>\n",
       "    <tr>\n",
       "      <th>2001-12-31</th>\n",
       "      <td>100.677932</td>\n",
       "      <td>115.358924</td>\n",
       "      <td>88.475871</td>\n",
       "    </tr>\n",
       "    <tr>\n",
       "      <th>2004-12-31</th>\n",
       "      <td>107.780178</td>\n",
       "      <td>139.436232</td>\n",
       "      <td>94.811664</td>\n",
       "    </tr>\n",
       "    <tr>\n",
       "      <th>1992-12-31</th>\n",
       "      <td>123.502703</td>\n",
       "      <td>147.138321</td>\n",
       "      <td>101.301897</td>\n",
       "    </tr>\n",
       "  </tbody>\n",
       "</table>\n",
       "</div>"
      ],
      "text/plain": [
       "              inflated  max_inflated  min_inflated\n",
       "date                                              \n",
       "2003-12-31   89.331588     92.327313     84.263230\n",
       "2002-12-31   89.873723     97.737247     79.446600\n",
       "2001-12-31  100.677932    115.358924     88.475871\n",
       "2004-12-31  107.780178    139.436232     94.811664\n",
       "1992-12-31  123.502703    147.138321    101.301897"
      ]
     },
     "execution_count": 16,
     "metadata": {},
     "output_type": "execute_result"
    }
   ],
   "source": [
    "blob91.sort_values(by='inflated').head()"
   ]
  },
  {
   "cell_type": "code",
   "execution_count": 20,
   "metadata": {},
   "outputs": [],
   "source": [
    "blob = df['1991':]"
   ]
  },
  {
   "cell_type": "code",
   "execution_count": 22,
   "metadata": {},
   "outputs": [
    {
     "data": {
      "text/plain": [
       "<matplotlib.axes._subplots.AxesSubplot at 0x12fb6bd68>"
      ]
     },
     "execution_count": 22,
     "metadata": {},
     "output_type": "execute_result"
    },
    {
     "data": {
      "image/png": "[encoded data removed]",
      "text/plain": [
       "<Figure size 432x288 with 1 Axes>"
      ]
     },
     "metadata": {
      "needs_background": "light"
     },
     "output_type": "display_data"
    }
   ],
   "source": [
    "blob.inflated.plot()"
   ]
  },
  {
   "cell_type": "code",
   "execution_count": 23,
   "metadata": {},
   "outputs": [
    {
     "data": {
      "text/plain": [
       "<matplotlib.axes._subplots.AxesSubplot at 0x12ffde898>"
      ]
     },
     "execution_count": 23,
     "metadata": {},
     "output_type": "execute_result"
    },
    {
     "data": {
      "image/png": "[encoded data removed]",
      "text/plain": [
       "<Figure size 432x288 with 1 Axes>"
      ]
     },
     "metadata": {
      "needs_background": "light"
     },
     "output_type": "display_data"
    }
   ],
   "source": [
    "sns.distplot(blob.inflated)"
   ]
  },
  {
   "cell_type": "code",
   "execution_count": 32,
   "metadata": {},
   "outputs": [
    {
     "data": {
      "text/plain": [
       "161.81297306181773"
      ]
     },
     "execution_count": 32,
     "metadata": {},
     "output_type": "execute_result"
    }
   ],
   "source": [
    "df.inflated.std()"
   ]
  },
  {
   "cell_type": "code",
   "execution_count": 34,
   "metadata": {},
   "outputs": [
    {
     "name": "stderr",
     "output_type": "stream",
     "text": [
      "/usr/local/anaconda3/lib/python3.7/site-packages/ipykernel_launcher.py:1: SettingWithCopyWarning:\n",
      "\n",
      "\n",
      "A value is trying to be set on a copy of a slice from a DataFrame.\n",
      "Try using .loc[row_indexer,col_indexer] = value instead\n",
      "\n",
      "See the caveats in the documentation: http://pandas.pydata.org/pandas-docs/stable/user_guide/indexing.html#returning-a-view-versus-a-copy\n",
      "\n"
     ]
    }
   ],
   "source": [
    "blob['std'] = blob.inflated.std()"
   ]
  },
  {
   "cell_type": "code",
   "execution_count": 36,
   "metadata": {},
   "outputs": [
    {
     "name": "stderr",
     "output_type": "stream",
     "text": [
      "/usr/local/anaconda3/lib/python3.7/site-packages/ipykernel_launcher.py:1: SettingWithCopyWarning:\n",
      "\n",
      "\n",
      "A value is trying to be set on a copy of a slice from a DataFrame.\n",
      "Try using .loc[row_indexer,col_indexer] = value instead\n",
      "\n",
      "See the caveats in the documentation: http://pandas.pydata.org/pandas-docs/stable/user_guide/indexing.html#returning-a-view-versus-a-copy\n",
      "\n"
     ]
    }
   ],
   "source": [
    "blob['mean'] = blob.inflated.mean()"
   ]
  },
  {
   "cell_type": "code",
   "execution_count": 46,
   "metadata": {
    "scrolled": false
   },
   "outputs": [
    {
     "name": "stderr",
     "output_type": "stream",
     "text": [
      "/usr/local/anaconda3/lib/python3.7/site-packages/ipykernel_launcher.py:1: SettingWithCopyWarning:\n",
      "\n",
      "\n",
      "A value is trying to be set on a copy of a slice from a DataFrame.\n",
      "Try using .loc[row_indexer,col_indexer] = value instead\n",
      "\n",
      "See the caveats in the documentation: http://pandas.pydata.org/pandas-docs/stable/user_guide/indexing.html#returning-a-view-versus-a-copy\n",
      "\n"
     ]
    }
   ],
   "source": [
    "blob['dist_from_mean'] = blob['inflated'] - blob['mean']"
   ]
  },
  {
   "cell_type": "code",
   "execution_count": 50,
   "metadata": {},
   "outputs": [],
   "source": [
    "blob = blob[['quantity','inflated','std','mean','dist_from_mean']]"
   ]
  },
  {
   "cell_type": "code",
   "execution_count": 51,
   "metadata": {},
   "outputs": [
    {
     "data": {
      "text/html": [
       "<div>\n",
       "<style scoped>\n",
       "    .dataframe tbody tr th:only-of-type {\n",
       "        vertical-align: middle;\n",
       "    }\n",
       "\n",
       "    .dataframe tbody tr th {\n",
       "        vertical-align: top;\n",
       "    }\n",
       "\n",
       "    .dataframe thead th {\n",
       "        text-align: right;\n",
       "    }\n",
       "</style>\n",
       "<table border=\"1\" class=\"dataframe\">\n",
       "  <thead>\n",
       "    <tr style=\"text-align: right;\">\n",
       "      <th></th>\n",
       "      <th>quantity</th>\n",
       "      <th>inflated</th>\n",
       "      <th>std</th>\n",
       "      <th>mean</th>\n",
       "      <th>dist_from_mean</th>\n",
       "    </tr>\n",
       "    <tr>\n",
       "      <th>date</th>\n",
       "      <th></th>\n",
       "      <th></th>\n",
       "      <th></th>\n",
       "      <th></th>\n",
       "      <th></th>\n",
       "    </tr>\n",
       "  </thead>\n",
       "  <tbody>\n",
       "    <tr>\n",
       "      <th>1991-01-01</th>\n",
       "      <td>1212.0</td>\n",
       "      <td>168.750541</td>\n",
       "      <td>66.872015</td>\n",
       "      <td>179.719479</td>\n",
       "      <td>-10.968938</td>\n",
       "    </tr>\n",
       "    <tr>\n",
       "      <th>1991-02-01</th>\n",
       "      <td>777.0</td>\n",
       "      <td>170.483585</td>\n",
       "      <td>66.872015</td>\n",
       "      <td>179.719479</td>\n",
       "      <td>-9.235894</td>\n",
       "    </tr>\n",
       "    <tr>\n",
       "      <th>1991-03-01</th>\n",
       "      <td>494.0</td>\n",
       "      <td>179.406918</td>\n",
       "      <td>66.872015</td>\n",
       "      <td>179.719479</td>\n",
       "      <td>-0.312561</td>\n",
       "    </tr>\n",
       "    <tr>\n",
       "      <th>1991-04-01</th>\n",
       "      <td>1637.0</td>\n",
       "      <td>177.471071</td>\n",
       "      <td>66.872015</td>\n",
       "      <td>179.719479</td>\n",
       "      <td>-2.248408</td>\n",
       "    </tr>\n",
       "    <tr>\n",
       "      <th>1991-05-01</th>\n",
       "      <td>1704.0</td>\n",
       "      <td>170.243909</td>\n",
       "      <td>66.872015</td>\n",
       "      <td>179.719479</td>\n",
       "      <td>-9.475570</td>\n",
       "    </tr>\n",
       "    <tr>\n",
       "      <th>...</th>\n",
       "      <td>...</td>\n",
       "      <td>...</td>\n",
       "      <td>...</td>\n",
       "      <td>...</td>\n",
       "      <td>...</td>\n",
       "    </tr>\n",
       "    <tr>\n",
       "      <th>2018-08-01</th>\n",
       "      <td>1258.0</td>\n",
       "      <td>130.993226</td>\n",
       "      <td>66.872015</td>\n",
       "      <td>179.719479</td>\n",
       "      <td>-48.726253</td>\n",
       "    </tr>\n",
       "    <tr>\n",
       "      <th>2018-09-01</th>\n",
       "      <td>1050.0</td>\n",
       "      <td>126.525333</td>\n",
       "      <td>66.872015</td>\n",
       "      <td>179.719479</td>\n",
       "      <td>-53.194146</td>\n",
       "    </tr>\n",
       "    <tr>\n",
       "      <th>2018-10-01</th>\n",
       "      <td>1086.0</td>\n",
       "      <td>138.804516</td>\n",
       "      <td>66.872015</td>\n",
       "      <td>179.719479</td>\n",
       "      <td>-40.914963</td>\n",
       "    </tr>\n",
       "    <tr>\n",
       "      <th>2018-11-01</th>\n",
       "      <td>1300.0</td>\n",
       "      <td>140.750333</td>\n",
       "      <td>66.872015</td>\n",
       "      <td>179.719479</td>\n",
       "      <td>-38.969146</td>\n",
       "    </tr>\n",
       "    <tr>\n",
       "      <th>2018-12-01</th>\n",
       "      <td>1283.0</td>\n",
       "      <td>129.622903</td>\n",
       "      <td>66.872015</td>\n",
       "      <td>179.719479</td>\n",
       "      <td>-50.096576</td>\n",
       "    </tr>\n",
       "  </tbody>\n",
       "</table>\n",
       "<p>336 rows × 5 columns</p>\n",
       "</div>"
      ],
      "text/plain": [
       "            quantity    inflated        std        mean  dist_from_mean\n",
       "date                                                                   \n",
       "1991-01-01    1212.0  168.750541  66.872015  179.719479      -10.968938\n",
       "1991-02-01     777.0  170.483585  66.872015  179.719479       -9.235894\n",
       "1991-03-01     494.0  179.406918  66.872015  179.719479       -0.312561\n",
       "1991-04-01    1637.0  177.471071  66.872015  179.719479       -2.248408\n",
       "1991-05-01    1704.0  170.243909  66.872015  179.719479       -9.475570\n",
       "...              ...         ...        ...         ...             ...\n",
       "2018-08-01    1258.0  130.993226  66.872015  179.719479      -48.726253\n",
       "2018-09-01    1050.0  126.525333  66.872015  179.719479      -53.194146\n",
       "2018-10-01    1086.0  138.804516  66.872015  179.719479      -40.914963\n",
       "2018-11-01    1300.0  140.750333  66.872015  179.719479      -38.969146\n",
       "2018-12-01    1283.0  129.622903  66.872015  179.719479      -50.096576\n",
       "\n",
       "[336 rows x 5 columns]"
      ]
     },
     "execution_count": 51,
     "metadata": {},
     "output_type": "execute_result"
    }
   ],
   "source": [
    "blob"
   ]
  },
  {
   "cell_type": "code",
   "execution_count": 70,
   "metadata": {
    "scrolled": true
   },
   "outputs": [
    {
     "data": {
      "text/html": [
       "<div>\n",
       "<style scoped>\n",
       "    .dataframe tbody tr th:only-of-type {\n",
       "        vertical-align: middle;\n",
       "    }\n",
       "\n",
       "    .dataframe tbody tr th {\n",
       "        vertical-align: top;\n",
       "    }\n",
       "\n",
       "    .dataframe thead th {\n",
       "        text-align: right;\n",
       "    }\n",
       "</style>\n",
       "<table border=\"1\" class=\"dataframe\">\n",
       "  <thead>\n",
       "    <tr style=\"text-align: right;\">\n",
       "      <th></th>\n",
       "      <th>quantity</th>\n",
       "      <th>inflated</th>\n",
       "      <th>std</th>\n",
       "      <th>mean</th>\n",
       "      <th>dist_from_mean</th>\n",
       "    </tr>\n",
       "    <tr>\n",
       "      <th>date</th>\n",
       "      <th></th>\n",
       "      <th></th>\n",
       "      <th></th>\n",
       "      <th></th>\n",
       "      <th></th>\n",
       "    </tr>\n",
       "  </thead>\n",
       "  <tbody>\n",
       "    <tr>\n",
       "      <th>1994-07-01</th>\n",
       "      <td>782.0</td>\n",
       "      <td>385.081565</td>\n",
       "      <td>66.872015</td>\n",
       "      <td>179.719479</td>\n",
       "      <td>205.362086</td>\n",
       "    </tr>\n",
       "    <tr>\n",
       "      <th>1994-08-01</th>\n",
       "      <td>529.0</td>\n",
       "      <td>357.361521</td>\n",
       "      <td>66.872015</td>\n",
       "      <td>179.719479</td>\n",
       "      <td>177.642042</td>\n",
       "    </tr>\n",
       "    <tr>\n",
       "      <th>1994-09-01</th>\n",
       "      <td>681.0</td>\n",
       "      <td>392.892653</td>\n",
       "      <td>66.872015</td>\n",
       "      <td>179.719479</td>\n",
       "      <td>213.173174</td>\n",
       "    </tr>\n",
       "    <tr>\n",
       "      <th>1994-10-01</th>\n",
       "      <td>1530.0</td>\n",
       "      <td>354.531907</td>\n",
       "      <td>66.872015</td>\n",
       "      <td>179.719479</td>\n",
       "      <td>174.812428</td>\n",
       "    </tr>\n",
       "    <tr>\n",
       "      <th>1994-11-01</th>\n",
       "      <td>1764.0</td>\n",
       "      <td>319.102438</td>\n",
       "      <td>66.872015</td>\n",
       "      <td>179.719479</td>\n",
       "      <td>139.382959</td>\n",
       "    </tr>\n",
       "    <tr>\n",
       "      <th>1994-12-01</th>\n",
       "      <td>1404.0</td>\n",
       "      <td>297.160227</td>\n",
       "      <td>66.872015</td>\n",
       "      <td>179.719479</td>\n",
       "      <td>117.440748</td>\n",
       "    </tr>\n",
       "    <tr>\n",
       "      <th>1995-01-01</th>\n",
       "      <td>832.0</td>\n",
       "      <td>295.726275</td>\n",
       "      <td>66.872015</td>\n",
       "      <td>179.719479</td>\n",
       "      <td>116.006796</td>\n",
       "    </tr>\n",
       "    <tr>\n",
       "      <th>1995-02-01</th>\n",
       "      <td>924.0</td>\n",
       "      <td>288.723619</td>\n",
       "      <td>66.872015</td>\n",
       "      <td>179.719479</td>\n",
       "      <td>109.004140</td>\n",
       "    </tr>\n",
       "    <tr>\n",
       "      <th>1995-03-01</th>\n",
       "      <td>456.0</td>\n",
       "      <td>309.220805</td>\n",
       "      <td>66.872015</td>\n",
       "      <td>179.719479</td>\n",
       "      <td>129.501326</td>\n",
       "    </tr>\n",
       "    <tr>\n",
       "      <th>1995-04-01</th>\n",
       "      <td>815.0</td>\n",
       "      <td>300.883525</td>\n",
       "      <td>66.872015</td>\n",
       "      <td>179.719479</td>\n",
       "      <td>121.164046</td>\n",
       "    </tr>\n",
       "    <tr>\n",
       "      <th>1995-05-01</th>\n",
       "      <td>1114.0</td>\n",
       "      <td>301.048294</td>\n",
       "      <td>66.872015</td>\n",
       "      <td>179.719479</td>\n",
       "      <td>121.328815</td>\n",
       "    </tr>\n",
       "    <tr>\n",
       "      <th>1995-06-01</th>\n",
       "      <td>1506.0</td>\n",
       "      <td>298.230755</td>\n",
       "      <td>66.872015</td>\n",
       "      <td>179.719479</td>\n",
       "      <td>118.511276</td>\n",
       "    </tr>\n",
       "    <tr>\n",
       "      <th>1997-02-01</th>\n",
       "      <td>676.0</td>\n",
       "      <td>288.906035</td>\n",
       "      <td>66.872015</td>\n",
       "      <td>179.719479</td>\n",
       "      <td>109.186556</td>\n",
       "    </tr>\n",
       "    <tr>\n",
       "      <th>1997-03-01</th>\n",
       "      <td>500.0</td>\n",
       "      <td>332.853671</td>\n",
       "      <td>66.872015</td>\n",
       "      <td>179.719479</td>\n",
       "      <td>153.134192</td>\n",
       "    </tr>\n",
       "    <tr>\n",
       "      <th>1997-04-01</th>\n",
       "      <td>824.0</td>\n",
       "      <td>337.077901</td>\n",
       "      <td>66.872015</td>\n",
       "      <td>179.719479</td>\n",
       "      <td>157.358422</td>\n",
       "    </tr>\n",
       "    <tr>\n",
       "      <th>1997-05-01</th>\n",
       "      <td>836.0</td>\n",
       "      <td>411.346121</td>\n",
       "      <td>66.872015</td>\n",
       "      <td>179.719479</td>\n",
       "      <td>231.626642</td>\n",
       "    </tr>\n",
       "    <tr>\n",
       "      <th>1997-06-01</th>\n",
       "      <td>1078.0</td>\n",
       "      <td>387.612207</td>\n",
       "      <td>66.872015</td>\n",
       "      <td>179.719479</td>\n",
       "      <td>207.892728</td>\n",
       "    </tr>\n",
       "    <tr>\n",
       "      <th>1997-07-01</th>\n",
       "      <td>946.0</td>\n",
       "      <td>314.564320</td>\n",
       "      <td>66.872015</td>\n",
       "      <td>179.719479</td>\n",
       "      <td>134.844841</td>\n",
       "    </tr>\n",
       "    <tr>\n",
       "      <th>1997-08-01</th>\n",
       "      <td>686.0</td>\n",
       "      <td>320.540823</td>\n",
       "      <td>66.872015</td>\n",
       "      <td>179.719479</td>\n",
       "      <td>140.821344</td>\n",
       "    </tr>\n",
       "    <tr>\n",
       "      <th>1997-09-01</th>\n",
       "      <td>772.0</td>\n",
       "      <td>323.278750</td>\n",
       "      <td>66.872015</td>\n",
       "      <td>179.719479</td>\n",
       "      <td>143.559271</td>\n",
       "    </tr>\n",
       "    <tr>\n",
       "      <th>1997-12-01</th>\n",
       "      <td>1314.0</td>\n",
       "      <td>287.967317</td>\n",
       "      <td>66.872015</td>\n",
       "      <td>179.719479</td>\n",
       "      <td>108.247838</td>\n",
       "    </tr>\n",
       "    <tr>\n",
       "      <th>1998-01-01</th>\n",
       "      <td>828.0</td>\n",
       "      <td>285.014148</td>\n",
       "      <td>66.872015</td>\n",
       "      <td>179.719479</td>\n",
       "      <td>105.294669</td>\n",
       "    </tr>\n",
       "    <tr>\n",
       "      <th>1998-02-01</th>\n",
       "      <td>594.0</td>\n",
       "      <td>291.422768</td>\n",
       "      <td>66.872015</td>\n",
       "      <td>179.719479</td>\n",
       "      <td>111.703289</td>\n",
       "    </tr>\n",
       "    <tr>\n",
       "      <th>2010-08-01</th>\n",
       "      <td>615.0</td>\n",
       "      <td>280.628604</td>\n",
       "      <td>66.872015</td>\n",
       "      <td>179.719479</td>\n",
       "      <td>100.909125</td>\n",
       "    </tr>\n",
       "    <tr>\n",
       "      <th>2010-09-01</th>\n",
       "      <td>530.0</td>\n",
       "      <td>286.191535</td>\n",
       "      <td>66.872015</td>\n",
       "      <td>179.719479</td>\n",
       "      <td>106.472056</td>\n",
       "    </tr>\n",
       "    <tr>\n",
       "      <th>2010-11-01</th>\n",
       "      <td>979.0</td>\n",
       "      <td>280.864750</td>\n",
       "      <td>66.872015</td>\n",
       "      <td>179.719479</td>\n",
       "      <td>101.145271</td>\n",
       "    </tr>\n",
       "    <tr>\n",
       "      <th>2010-12-01</th>\n",
       "      <td>1164.0</td>\n",
       "      <td>295.497988</td>\n",
       "      <td>66.872015</td>\n",
       "      <td>179.719479</td>\n",
       "      <td>115.778509</td>\n",
       "    </tr>\n",
       "    <tr>\n",
       "      <th>2011-01-01</th>\n",
       "      <td>908.0</td>\n",
       "      <td>311.864401</td>\n",
       "      <td>66.872015</td>\n",
       "      <td>179.719479</td>\n",
       "      <td>132.144922</td>\n",
       "    </tr>\n",
       "    <tr>\n",
       "      <th>2011-02-01</th>\n",
       "      <td>764.0</td>\n",
       "      <td>328.826077</td>\n",
       "      <td>66.872015</td>\n",
       "      <td>179.719479</td>\n",
       "      <td>149.106598</td>\n",
       "    </tr>\n",
       "    <tr>\n",
       "      <th>2011-03-01</th>\n",
       "      <td>779.0</td>\n",
       "      <td>336.133857</td>\n",
       "      <td>66.872015</td>\n",
       "      <td>179.719479</td>\n",
       "      <td>156.414378</td>\n",
       "    </tr>\n",
       "    <tr>\n",
       "      <th>2011-04-01</th>\n",
       "      <td>523.0</td>\n",
       "      <td>344.441433</td>\n",
       "      <td>66.872015</td>\n",
       "      <td>179.719479</td>\n",
       "      <td>164.721954</td>\n",
       "    </tr>\n",
       "    <tr>\n",
       "      <th>2011-05-01</th>\n",
       "      <td>673.0</td>\n",
       "      <td>342.655047</td>\n",
       "      <td>66.872015</td>\n",
       "      <td>179.719479</td>\n",
       "      <td>162.935568</td>\n",
       "    </tr>\n",
       "    <tr>\n",
       "      <th>2011-06-01</th>\n",
       "      <td>471.0</td>\n",
       "      <td>322.145271</td>\n",
       "      <td>66.872015</td>\n",
       "      <td>179.719479</td>\n",
       "      <td>142.425792</td>\n",
       "    </tr>\n",
       "    <tr>\n",
       "      <th>2011-07-01</th>\n",
       "      <td>530.0</td>\n",
       "      <td>320.116989</td>\n",
       "      <td>66.872015</td>\n",
       "      <td>179.719479</td>\n",
       "      <td>140.397510</td>\n",
       "    </tr>\n",
       "    <tr>\n",
       "      <th>2011-08-01</th>\n",
       "      <td>466.0</td>\n",
       "      <td>314.582134</td>\n",
       "      <td>66.872015</td>\n",
       "      <td>179.719479</td>\n",
       "      <td>134.862655</td>\n",
       "    </tr>\n",
       "    <tr>\n",
       "      <th>2011-09-01</th>\n",
       "      <td>459.0</td>\n",
       "      <td>330.578056</td>\n",
       "      <td>66.872015</td>\n",
       "      <td>179.719479</td>\n",
       "      <td>150.858577</td>\n",
       "    </tr>\n",
       "    <tr>\n",
       "      <th>2011-10-01</th>\n",
       "      <td>656.0</td>\n",
       "      <td>288.287432</td>\n",
       "      <td>66.872015</td>\n",
       "      <td>179.719479</td>\n",
       "      <td>108.567953</td>\n",
       "    </tr>\n",
       "    <tr>\n",
       "      <th>2011-11-01</th>\n",
       "      <td>845.0</td>\n",
       "      <td>286.826331</td>\n",
       "      <td>66.872015</td>\n",
       "      <td>179.719479</td>\n",
       "      <td>107.106852</td>\n",
       "    </tr>\n",
       "    <tr>\n",
       "      <th>2011-12-01</th>\n",
       "      <td>735.0</td>\n",
       "      <td>282.141835</td>\n",
       "      <td>66.872015</td>\n",
       "      <td>179.719479</td>\n",
       "      <td>102.422356</td>\n",
       "    </tr>\n",
       "    <tr>\n",
       "      <th>2012-01-01</th>\n",
       "      <td>535.0</td>\n",
       "      <td>280.114963</td>\n",
       "      <td>66.872015</td>\n",
       "      <td>179.719479</td>\n",
       "      <td>100.395484</td>\n",
       "    </tr>\n",
       "  </tbody>\n",
       "</table>\n",
       "</div>"
      ],
      "text/plain": [
       "            quantity    inflated        std        mean  dist_from_mean\n",
       "date                                                                   \n",
       "1994-07-01     782.0  385.081565  66.872015  179.719479      205.362086\n",
       "1994-08-01     529.0  357.361521  66.872015  179.719479      177.642042\n",
       "1994-09-01     681.0  392.892653  66.872015  179.719479      213.173174\n",
       "1994-10-01    1530.0  354.531907  66.872015  179.719479      174.812428\n",
       "1994-11-01    1764.0  319.102438  66.872015  179.719479      139.382959\n",
       "1994-12-01    1404.0  297.160227  66.872015  179.719479      117.440748\n",
       "1995-01-01     832.0  295.726275  66.872015  179.719479      116.006796\n",
       "1995-02-01     924.0  288.723619  66.872015  179.719479      109.004140\n",
       "1995-03-01     456.0  309.220805  66.872015  179.719479      129.501326\n",
       "1995-04-01     815.0  300.883525  66.872015  179.719479      121.164046\n",
       "1995-05-01    1114.0  301.048294  66.872015  179.719479      121.328815\n",
       "1995-06-01    1506.0  298.230755  66.872015  179.719479      118.511276\n",
       "1997-02-01     676.0  288.906035  66.872015  179.719479      109.186556\n",
       "1997-03-01     500.0  332.853671  66.872015  179.719479      153.134192\n",
       "1997-04-01     824.0  337.077901  66.872015  179.719479      157.358422\n",
       "1997-05-01     836.0  411.346121  66.872015  179.719479      231.626642\n",
       "1997-06-01    1078.0  387.612207  66.872015  179.719479      207.892728\n",
       "1997-07-01     946.0  314.564320  66.872015  179.719479      134.844841\n",
       "1997-08-01     686.0  320.540823  66.872015  179.719479      140.821344\n",
       "1997-09-01     772.0  323.278750  66.872015  179.719479      143.559271\n",
       "1997-12-01    1314.0  287.967317  66.872015  179.719479      108.247838\n",
       "1998-01-01     828.0  285.014148  66.872015  179.719479      105.294669\n",
       "1998-02-01     594.0  291.422768  66.872015  179.719479      111.703289\n",
       "2010-08-01     615.0  280.628604  66.872015  179.719479      100.909125\n",
       "2010-09-01     530.0  286.191535  66.872015  179.719479      106.472056\n",
       "2010-11-01     979.0  280.864750  66.872015  179.719479      101.145271\n",
       "2010-12-01    1164.0  295.497988  66.872015  179.719479      115.778509\n",
       "2011-01-01     908.0  311.864401  66.872015  179.719479      132.144922\n",
       "2011-02-01     764.0  328.826077  66.872015  179.719479      149.106598\n",
       "2011-03-01     779.0  336.133857  66.872015  179.719479      156.414378\n",
       "2011-04-01     523.0  344.441433  66.872015  179.719479      164.721954\n",
       "2011-05-01     673.0  342.655047  66.872015  179.719479      162.935568\n",
       "2011-06-01     471.0  322.145271  66.872015  179.719479      142.425792\n",
       "2011-07-01     530.0  320.116989  66.872015  179.719479      140.397510\n",
       "2011-08-01     466.0  314.582134  66.872015  179.719479      134.862655\n",
       "2011-09-01     459.0  330.578056  66.872015  179.719479      150.858577\n",
       "2011-10-01     656.0  288.287432  66.872015  179.719479      108.567953\n",
       "2011-11-01     845.0  286.826331  66.872015  179.719479      107.106852\n",
       "2011-12-01     735.0  282.141835  66.872015  179.719479      102.422356\n",
       "2012-01-01     535.0  280.114963  66.872015  179.719479      100.395484"
      ]
     },
     "execution_count": 70,
     "metadata": {},
     "output_type": "execute_result"
    }
   ],
   "source": [
    "spike_years = ['1994-09-01','1997-05-01','2002-08-01','2011-04-01','2011-09-01','1995-03-01','2011-09-01']\n",
    "blob[blob.dist_from_mean.abs() > (blob['std'] *1.5)]"
   ]
  },
  {
   "cell_type": "code",
   "execution_count": 180,
   "metadata": {},
   "outputs": [
    {
     "data": {
      "image/png": "[encoded data removed]",
      "text/plain": [
       "<Figure size 1080x864 with 1 Axes>"
      ]
     },
     "metadata": {
      "needs_background": "light"
     },
     "output_type": "display_data"
    }
   ],
   "source": [
    "inflated_mean = blob.inflated.mean()\n",
    "plt.figure(figsize=(15,12))\n",
    "blob.inflated.plot(linewidth=3,color='steelblue')\n",
    "\n",
    "plt.hlines(blob['inflated'].mean(),0,4000,color='limegreen',linewidth=3)\n",
    "plt.hlines(blob['mean'] + (blob['std'] * 1.5),0,4000,color='firebrick',linewidth=3)\n",
    "plt.hlines(blob['mean'] - (blob['std'] * 1.5),0,4000,color='firebrick',linewidth=3)\n",
    "plt.hlines(blob['mean'] + (blob['std'] * .5),0,4000,color='b',linewidth=3)\n",
    "plt.hlines(blob['mean'] - (blob['std'] * .5),0,4000,color='b',linewidth=3)\n",
    "plt.ylabel(\"Export price (2018 cents)\",size=22,weight='bold')\n",
    "plt.xlabel(\"Year\",size=22,weight='bold')\n",
    "plt.title(\"Export price of Colombian coffee 1994 to 2018\",size=25,weight='bold')\n",
    "std_dev_above = \"1.5 std_dev above mean\"\n",
    "std_dev_below = \"1.5 std_dev below mean\"\n",
    "std_dev_below_half = \".5 std_dev below mean\"\n",
    "std_dev_above_half = \".5 std_dev above mean\"\n",
    "\n",
    "plt.xkcd()\n",
    "\n",
    "pl.text(600,278,std_dev_above,size=20)\n",
    "pl.text(600,78,std_dev_below,size=20)\n",
    "pl.text(600,178,\"mean\",size=20)\n",
    "pl.text(600,144,std_dev_below_half,size=20)\n",
    "pl.text(600,212,std_dev_above_half,size=20)\n",
    "plt.show()"
   ]
  },
  {
   "cell_type": "code",
   "execution_count": 181,
   "metadata": {
    "scrolled": true
   },
   "outputs": [
    {
     "data": {
      "text/plain": [
       "<BarContainer object of 3 artists>"
      ]
     },
     "execution_count": 181,
     "metadata": {},
     "output_type": "execute_result"
    },
    {
     "data": {
      "image/png": "[encoded data removed]",
      "text/plain": [
       "<Figure size 432x288 with 1 Axes>"
      ]
     },
     "metadata": {},
     "output_type": "display_data"
    }
   ],
   "source": [
    "plt.xkcd()\n",
    "\n",
    "plt.bar(['a', 'b', 'c'], [4, 2, 1])"
   ]
  },
  {
   "cell_type": "code",
   "execution_count": 99,
   "metadata": {},
   "outputs": [
    {
     "data": {
      "text/html": [
       "<div>\n",
       "<style scoped>\n",
       "    .dataframe tbody tr th:only-of-type {\n",
       "        vertical-align: middle;\n",
       "    }\n",
       "\n",
       "    .dataframe tbody tr th {\n",
       "        vertical-align: top;\n",
       "    }\n",
       "\n",
       "    .dataframe thead th {\n",
       "        text-align: right;\n",
       "    }\n",
       "</style>\n",
       "<table border=\"1\" class=\"dataframe\">\n",
       "  <thead>\n",
       "    <tr style=\"text-align: right;\">\n",
       "      <th></th>\n",
       "      <th>quantity</th>\n",
       "      <th>inflated</th>\n",
       "      <th>std</th>\n",
       "      <th>mean</th>\n",
       "      <th>dist_from_mean</th>\n",
       "    </tr>\n",
       "    <tr>\n",
       "      <th>date</th>\n",
       "      <th></th>\n",
       "      <th></th>\n",
       "      <th></th>\n",
       "      <th></th>\n",
       "      <th></th>\n",
       "    </tr>\n",
       "  </thead>\n",
       "  <tbody>\n",
       "    <tr>\n",
       "      <th>2002-08-01</th>\n",
       "      <td>751.0</td>\n",
       "      <td>79.4466</td>\n",
       "      <td>66.872015</td>\n",
       "      <td>179.719479</td>\n",
       "      <td>-100.272879</td>\n",
       "    </tr>\n",
       "  </tbody>\n",
       "</table>\n",
       "</div>"
      ],
      "text/plain": [
       "            quantity  inflated        std        mean  dist_from_mean\n",
       "date                                                                 \n",
       "2002-08-01     751.0   79.4466  66.872015  179.719479     -100.272879"
      ]
     },
     "execution_count": 99,
     "metadata": {},
     "output_type": "execute_result"
    }
   ],
   "source": [
    "blob[blob.inflated == blob.inflated.min()]"
   ]
  },
  {
   "cell_type": "code",
   "execution_count": 176,
   "metadata": {},
   "outputs": [],
   "source": [
    "def export_price_1991_2018(df):\n",
    "\n",
    "    blob = df['1991':]\n",
    "    blob['std'] = blob.inflated.std()\n",
    "    blob['mean'] = blob.inflated.mean()\n",
    "    blob['dist_from_mean'] = blob['inflated'] - blob['mean']\n",
    "    blob = blob[['quantity','inflated','std','mean','dist_from_mean']]\n",
    "\n",
    "    inflated_mean = blob.inflated.mean()\n",
    "    plt.figure(figsize=(15,12))\n",
    "    blob.inflated.plot(linewidth=3,color='steelblue')\n",
    "\n",
    "    plt.hlines(blob['inflated'].mean(),0,4000,color='limegreen',linewidth=3)\n",
    "    plt.hlines(blob['mean'] + (blob['std'] * 1.5),0,4000,color='firebrick',linewidth=3)\n",
    "    plt.hlines(blob['mean'] - (blob['std'] * 1.5),0,4000,color='firebrick',linewidth=3)\n",
    "    plt.hlines(blob['mean'] + (blob['std'] * .5),0,4000,color='b',linewidth=3)\n",
    "    plt.hlines(blob['mean'] - (blob['std'] * .5),0,4000,color='b',linewidth=3)\n",
    "    plt.ylabel(\"Export price (2018 cents)\",size=22,weight='bold')\n",
    "    plt.xlabel(\"Year\",size=22,weight='bold')\n",
    "    plt.title(\"Export price of Colombian coffee 1994 to 2018\",size=25,weight='bold')\n",
    "    std_dev_above = \"1.5 std_dev above mean\"\n",
    "    std_dev_below = \"1.5 std_dev below mean\"\n",
    "    std_dev_below_half = \".5 std_dev below mean\"\n",
    "    std_dev_above_half = \".5 std_dev above mean\"\n",
    "\n",
    "    pl.text(600,278,std_dev_above,size=20)\n",
    "    pl.text(600,78,std_dev_below,size=20)\n",
    "    pl.text(600,178,\"mean\",size=20)\n",
    "    pl.text(600,144,std_dev_below_half,size=20)\n",
    "    pl.text(600,212,std_dev_above_half,size=20)\n",
    "    plt.show()"
   ]
  },
  {
   "cell_type": "code",
   "execution_count": 179,
   "metadata": {},
   "outputs": [
    {
     "data": {
      "image/png": "[encoded data removed]",
      "text/plain": [
       "<Figure size 1080x864 with 1 Axes>"
      ]
     },
     "metadata": {
      "needs_background": "light"
     },
     "output_type": "display_data"
    }
   ],
   "source": [
    "export_price_1991_2018(df)"
   ]
  },
  {
   "cell_type": "code",
   "execution_count": 182,
   "metadata": {},
   "outputs": [],
   "source": [
    "spike_years = ['1994-09-01','1997-05-01','2002-08-01','2011-04-01','2011-09-01','1995-03-01','2011-09-01']"
   ]
  },
  {
   "cell_type": "code",
   "execution_count": 186,
   "metadata": {},
   "outputs": [],
   "source": [
    "spike_years = pd.DataFrame(spike_years)"
   ]
  },
  {
   "cell_type": "code",
   "execution_count": 191,
   "metadata": {},
   "outputs": [],
   "source": [
    "spike_years = pd.to_datetime(spike_years[0])"
   ]
  },
  {
   "cell_type": "code",
   "execution_count": 193,
   "metadata": {},
   "outputs": [],
   "source": [
    "spike_years.sort_values(inplace=True)"
   ]
  },
  {
   "cell_type": "code",
   "execution_count": 195,
   "metadata": {},
   "outputs": [],
   "source": [
    "spike_years.columns = ['spike_year']"
   ]
  },
  {
   "cell_type": "code",
   "execution_count": 199,
   "metadata": {},
   "outputs": [
    {
     "data": {
      "text/plain": [
       "0   1994-09-01\n",
       "5   1995-03-01\n",
       "1   1997-05-01\n",
       "2   2002-08-01\n",
       "3   2011-04-01\n",
       "4   2011-09-01\n",
       "6   2011-09-01\n",
       "Name: 0, dtype: datetime64[ns]"
      ]
     },
     "execution_count": 199,
     "metadata": {},
     "output_type": "execute_result"
    }
   ],
   "source": [
    "spike_years"
   ]
  },
  {
   "cell_type": "code",
   "execution_count": 206,
   "metadata": {},
   "outputs": [
    {
     "data": {
      "text/html": [
       "<div>\n",
       "<style scoped>\n",
       "    .dataframe tbody tr th:only-of-type {\n",
       "        vertical-align: middle;\n",
       "    }\n",
       "\n",
       "    .dataframe tbody tr th {\n",
       "        vertical-align: top;\n",
       "    }\n",
       "\n",
       "    .dataframe thead th {\n",
       "        text-align: right;\n",
       "    }\n",
       "</style>\n",
       "<table border=\"1\" class=\"dataframe\">\n",
       "  <thead>\n",
       "    <tr style=\"text-align: right;\">\n",
       "      <th></th>\n",
       "      <th>quantity</th>\n",
       "      <th>inflated</th>\n",
       "      <th>std</th>\n",
       "      <th>mean</th>\n",
       "      <th>dist_from_mean</th>\n",
       "      <th>half_std_dev</th>\n",
       "    </tr>\n",
       "    <tr>\n",
       "      <th>date</th>\n",
       "      <th></th>\n",
       "      <th></th>\n",
       "      <th></th>\n",
       "      <th></th>\n",
       "      <th></th>\n",
       "      <th></th>\n",
       "    </tr>\n",
       "  </thead>\n",
       "  <tbody>\n",
       "    <tr>\n",
       "      <th>1994-01-01</th>\n",
       "      <td>829.0</td>\n",
       "      <td>146.089376</td>\n",
       "      <td>66.872015</td>\n",
       "      <td>179.719479</td>\n",
       "      <td>-33.630103</td>\n",
       "      <td>213.155486</td>\n",
       "    </tr>\n",
       "    <tr>\n",
       "      <th>1994-02-01</th>\n",
       "      <td>945.0</td>\n",
       "      <td>155.882888</td>\n",
       "      <td>66.872015</td>\n",
       "      <td>179.719479</td>\n",
       "      <td>-23.836591</td>\n",
       "      <td>213.155486</td>\n",
       "    </tr>\n",
       "    <tr>\n",
       "      <th>1994-03-01</th>\n",
       "      <td>840.0</td>\n",
       "      <td>157.001178</td>\n",
       "      <td>66.872015</td>\n",
       "      <td>179.719479</td>\n",
       "      <td>-22.718301</td>\n",
       "      <td>213.155486</td>\n",
       "    </tr>\n",
       "    <tr>\n",
       "      <th>1994-04-01</th>\n",
       "      <td>967.0</td>\n",
       "      <td>160.220499</td>\n",
       "      <td>66.872015</td>\n",
       "      <td>179.719479</td>\n",
       "      <td>-19.498980</td>\n",
       "      <td>213.155486</td>\n",
       "    </tr>\n",
       "    <tr>\n",
       "      <th>1994-05-01</th>\n",
       "      <td>819.0</td>\n",
       "      <td>218.083549</td>\n",
       "      <td>66.872015</td>\n",
       "      <td>179.719479</td>\n",
       "      <td>38.364070</td>\n",
       "      <td>213.155486</td>\n",
       "    </tr>\n",
       "    <tr>\n",
       "      <th>1994-06-01</th>\n",
       "      <td>941.0</td>\n",
       "      <td>254.427983</td>\n",
       "      <td>66.872015</td>\n",
       "      <td>179.719479</td>\n",
       "      <td>74.708504</td>\n",
       "      <td>213.155486</td>\n",
       "    </tr>\n",
       "    <tr>\n",
       "      <th>1994-07-01</th>\n",
       "      <td>782.0</td>\n",
       "      <td>385.081565</td>\n",
       "      <td>66.872015</td>\n",
       "      <td>179.719479</td>\n",
       "      <td>205.362086</td>\n",
       "      <td>213.155486</td>\n",
       "    </tr>\n",
       "    <tr>\n",
       "      <th>1994-08-01</th>\n",
       "      <td>529.0</td>\n",
       "      <td>357.361521</td>\n",
       "      <td>66.872015</td>\n",
       "      <td>179.719479</td>\n",
       "      <td>177.642042</td>\n",
       "      <td>213.155486</td>\n",
       "    </tr>\n",
       "    <tr>\n",
       "      <th>1994-09-01</th>\n",
       "      <td>681.0</td>\n",
       "      <td>392.892653</td>\n",
       "      <td>66.872015</td>\n",
       "      <td>179.719479</td>\n",
       "      <td>213.173174</td>\n",
       "      <td>213.155486</td>\n",
       "    </tr>\n",
       "    <tr>\n",
       "      <th>1994-10-01</th>\n",
       "      <td>1530.0</td>\n",
       "      <td>354.531907</td>\n",
       "      <td>66.872015</td>\n",
       "      <td>179.719479</td>\n",
       "      <td>174.812428</td>\n",
       "      <td>213.155486</td>\n",
       "    </tr>\n",
       "    <tr>\n",
       "      <th>1994-11-01</th>\n",
       "      <td>1764.0</td>\n",
       "      <td>319.102438</td>\n",
       "      <td>66.872015</td>\n",
       "      <td>179.719479</td>\n",
       "      <td>139.382959</td>\n",
       "      <td>213.155486</td>\n",
       "    </tr>\n",
       "    <tr>\n",
       "      <th>1994-12-01</th>\n",
       "      <td>1404.0</td>\n",
       "      <td>297.160227</td>\n",
       "      <td>66.872015</td>\n",
       "      <td>179.719479</td>\n",
       "      <td>117.440748</td>\n",
       "      <td>213.155486</td>\n",
       "    </tr>\n",
       "    <tr>\n",
       "      <th>1995-01-01</th>\n",
       "      <td>832.0</td>\n",
       "      <td>295.726275</td>\n",
       "      <td>66.872015</td>\n",
       "      <td>179.719479</td>\n",
       "      <td>116.006796</td>\n",
       "      <td>213.155486</td>\n",
       "    </tr>\n",
       "    <tr>\n",
       "      <th>1995-02-01</th>\n",
       "      <td>924.0</td>\n",
       "      <td>288.723619</td>\n",
       "      <td>66.872015</td>\n",
       "      <td>179.719479</td>\n",
       "      <td>109.004140</td>\n",
       "      <td>213.155486</td>\n",
       "    </tr>\n",
       "    <tr>\n",
       "      <th>1995-03-01</th>\n",
       "      <td>456.0</td>\n",
       "      <td>309.220805</td>\n",
       "      <td>66.872015</td>\n",
       "      <td>179.719479</td>\n",
       "      <td>129.501326</td>\n",
       "      <td>213.155486</td>\n",
       "    </tr>\n",
       "    <tr>\n",
       "      <th>1995-04-01</th>\n",
       "      <td>815.0</td>\n",
       "      <td>300.883525</td>\n",
       "      <td>66.872015</td>\n",
       "      <td>179.719479</td>\n",
       "      <td>121.164046</td>\n",
       "      <td>213.155486</td>\n",
       "    </tr>\n",
       "    <tr>\n",
       "      <th>1995-05-01</th>\n",
       "      <td>1114.0</td>\n",
       "      <td>301.048294</td>\n",
       "      <td>66.872015</td>\n",
       "      <td>179.719479</td>\n",
       "      <td>121.328815</td>\n",
       "      <td>213.155486</td>\n",
       "    </tr>\n",
       "    <tr>\n",
       "      <th>1995-06-01</th>\n",
       "      <td>1506.0</td>\n",
       "      <td>298.230755</td>\n",
       "      <td>66.872015</td>\n",
       "      <td>179.719479</td>\n",
       "      <td>118.511276</td>\n",
       "      <td>213.155486</td>\n",
       "    </tr>\n",
       "    <tr>\n",
       "      <th>1995-07-01</th>\n",
       "      <td>1128.0</td>\n",
       "      <td>279.232961</td>\n",
       "      <td>66.872015</td>\n",
       "      <td>179.719479</td>\n",
       "      <td>99.513482</td>\n",
       "      <td>213.155486</td>\n",
       "    </tr>\n",
       "    <tr>\n",
       "      <th>1995-08-01</th>\n",
       "      <td>760.0</td>\n",
       "      <td>268.984368</td>\n",
       "      <td>66.872015</td>\n",
       "      <td>179.719479</td>\n",
       "      <td>89.264889</td>\n",
       "      <td>213.155486</td>\n",
       "    </tr>\n",
       "    <tr>\n",
       "      <th>1995-09-01</th>\n",
       "      <td>731.0</td>\n",
       "      <td>239.589691</td>\n",
       "      <td>66.872015</td>\n",
       "      <td>179.719479</td>\n",
       "      <td>59.870212</td>\n",
       "      <td>213.155486</td>\n",
       "    </tr>\n",
       "    <tr>\n",
       "      <th>1995-10-01</th>\n",
       "      <td>1221.0</td>\n",
       "      <td>222.338442</td>\n",
       "      <td>66.872015</td>\n",
       "      <td>179.719479</td>\n",
       "      <td>42.618963</td>\n",
       "      <td>213.155486</td>\n",
       "    </tr>\n",
       "    <tr>\n",
       "      <th>1995-11-01</th>\n",
       "      <td>2190.0</td>\n",
       "      <td>219.174889</td>\n",
       "      <td>66.872015</td>\n",
       "      <td>179.719479</td>\n",
       "      <td>39.455410</td>\n",
       "      <td>213.155486</td>\n",
       "    </tr>\n",
       "    <tr>\n",
       "      <th>1995-12-01</th>\n",
       "      <td>2020.0</td>\n",
       "      <td>188.396157</td>\n",
       "      <td>66.872015</td>\n",
       "      <td>179.719479</td>\n",
       "      <td>8.676678</td>\n",
       "      <td>213.155486</td>\n",
       "    </tr>\n",
       "    <tr>\n",
       "      <th>1996-01-01</th>\n",
       "      <td>2081.0</td>\n",
       "      <td>187.265966</td>\n",
       "      <td>66.872015</td>\n",
       "      <td>179.719479</td>\n",
       "      <td>7.546487</td>\n",
       "      <td>213.155486</td>\n",
       "    </tr>\n",
       "    <tr>\n",
       "      <th>1996-02-01</th>\n",
       "      <td>323.0</td>\n",
       "      <td>217.754101</td>\n",
       "      <td>66.872015</td>\n",
       "      <td>179.719479</td>\n",
       "      <td>38.034622</td>\n",
       "      <td>213.155486</td>\n",
       "    </tr>\n",
       "    <tr>\n",
       "      <th>1996-03-01</th>\n",
       "      <td>651.0</td>\n",
       "      <td>208.887735</td>\n",
       "      <td>66.872015</td>\n",
       "      <td>179.719479</td>\n",
       "      <td>29.168256</td>\n",
       "      <td>213.155486</td>\n",
       "    </tr>\n",
       "    <tr>\n",
       "      <th>1996-04-01</th>\n",
       "      <td>670.0</td>\n",
       "      <td>214.105127</td>\n",
       "      <td>66.872015</td>\n",
       "      <td>179.719479</td>\n",
       "      <td>34.385648</td>\n",
       "      <td>213.155486</td>\n",
       "    </tr>\n",
       "    <tr>\n",
       "      <th>1996-05-01</th>\n",
       "      <td>745.0</td>\n",
       "      <td>229.165146</td>\n",
       "      <td>66.872015</td>\n",
       "      <td>179.719479</td>\n",
       "      <td>49.445666</td>\n",
       "      <td>213.155486</td>\n",
       "    </tr>\n",
       "    <tr>\n",
       "      <th>1996-06-01</th>\n",
       "      <td>858.0</td>\n",
       "      <td>211.928546</td>\n",
       "      <td>66.872015</td>\n",
       "      <td>179.719479</td>\n",
       "      <td>32.209067</td>\n",
       "      <td>213.155486</td>\n",
       "    </tr>\n",
       "    <tr>\n",
       "      <th>1996-07-01</th>\n",
       "      <td>622.0</td>\n",
       "      <td>217.706088</td>\n",
       "      <td>66.872015</td>\n",
       "      <td>179.719479</td>\n",
       "      <td>37.986609</td>\n",
       "      <td>213.155486</td>\n",
       "    </tr>\n",
       "    <tr>\n",
       "      <th>1996-08-01</th>\n",
       "      <td>620.0</td>\n",
       "      <td>220.346793</td>\n",
       "      <td>66.872015</td>\n",
       "      <td>179.719479</td>\n",
       "      <td>40.627314</td>\n",
       "      <td>213.155486</td>\n",
       "    </tr>\n",
       "    <tr>\n",
       "      <th>1996-09-01</th>\n",
       "      <td>937.0</td>\n",
       "      <td>200.341455</td>\n",
       "      <td>66.872015</td>\n",
       "      <td>179.719479</td>\n",
       "      <td>20.621976</td>\n",
       "      <td>213.155486</td>\n",
       "    </tr>\n",
       "    <tr>\n",
       "      <th>1996-10-01</th>\n",
       "      <td>1333.0</td>\n",
       "      <td>203.238228</td>\n",
       "      <td>66.872015</td>\n",
       "      <td>179.719479</td>\n",
       "      <td>23.518749</td>\n",
       "      <td>213.155486</td>\n",
       "    </tr>\n",
       "    <tr>\n",
       "      <th>1996-11-01</th>\n",
       "      <td>1303.0</td>\n",
       "      <td>212.456687</td>\n",
       "      <td>66.872015</td>\n",
       "      <td>179.719479</td>\n",
       "      <td>32.737208</td>\n",
       "      <td>213.155486</td>\n",
       "    </tr>\n",
       "    <tr>\n",
       "      <th>1996-12-01</th>\n",
       "      <td>1047.0</td>\n",
       "      <td>201.925878</td>\n",
       "      <td>66.872015</td>\n",
       "      <td>179.719479</td>\n",
       "      <td>22.206399</td>\n",
       "      <td>213.155486</td>\n",
       "    </tr>\n",
       "    <tr>\n",
       "      <th>1997-01-01</th>\n",
       "      <td>778.0</td>\n",
       "      <td>226.575176</td>\n",
       "      <td>66.872015</td>\n",
       "      <td>179.719479</td>\n",
       "      <td>46.855697</td>\n",
       "      <td>213.155486</td>\n",
       "    </tr>\n",
       "    <tr>\n",
       "      <th>1997-02-01</th>\n",
       "      <td>676.0</td>\n",
       "      <td>288.906035</td>\n",
       "      <td>66.872015</td>\n",
       "      <td>179.719479</td>\n",
       "      <td>109.186556</td>\n",
       "      <td>213.155486</td>\n",
       "    </tr>\n",
       "    <tr>\n",
       "      <th>1997-03-01</th>\n",
       "      <td>500.0</td>\n",
       "      <td>332.853671</td>\n",
       "      <td>66.872015</td>\n",
       "      <td>179.719479</td>\n",
       "      <td>153.134192</td>\n",
       "      <td>213.155486</td>\n",
       "    </tr>\n",
       "    <tr>\n",
       "      <th>1997-04-01</th>\n",
       "      <td>824.0</td>\n",
       "      <td>337.077901</td>\n",
       "      <td>66.872015</td>\n",
       "      <td>179.719479</td>\n",
       "      <td>157.358422</td>\n",
       "      <td>213.155486</td>\n",
       "    </tr>\n",
       "  </tbody>\n",
       "</table>\n",
       "</div>"
      ],
      "text/plain": [
       "            quantity    inflated        std        mean  dist_from_mean  \\\n",
       "date                                                                      \n",
       "1994-01-01     829.0  146.089376  66.872015  179.719479      -33.630103   \n",
       "1994-02-01     945.0  155.882888  66.872015  179.719479      -23.836591   \n",
       "1994-03-01     840.0  157.001178  66.872015  179.719479      -22.718301   \n",
       "1994-04-01     967.0  160.220499  66.872015  179.719479      -19.498980   \n",
       "1994-05-01     819.0  218.083549  66.872015  179.719479       38.364070   \n",
       "1994-06-01     941.0  254.427983  66.872015  179.719479       74.708504   \n",
       "1994-07-01     782.0  385.081565  66.872015  179.719479      205.362086   \n",
       "1994-08-01     529.0  357.361521  66.872015  179.719479      177.642042   \n",
       "1994-09-01     681.0  392.892653  66.872015  179.719479      213.173174   \n",
       "1994-10-01    1530.0  354.531907  66.872015  179.719479      174.812428   \n",
       "1994-11-01    1764.0  319.102438  66.872015  179.719479      139.382959   \n",
       "1994-12-01    1404.0  297.160227  66.872015  179.719479      117.440748   \n",
       "1995-01-01     832.0  295.726275  66.872015  179.719479      116.006796   \n",
       "1995-02-01     924.0  288.723619  66.872015  179.719479      109.004140   \n",
       "1995-03-01     456.0  309.220805  66.872015  179.719479      129.501326   \n",
       "1995-04-01     815.0  300.883525  66.872015  179.719479      121.164046   \n",
       "1995-05-01    1114.0  301.048294  66.872015  179.719479      121.328815   \n",
       "1995-06-01    1506.0  298.230755  66.872015  179.719479      118.511276   \n",
       "1995-07-01    1128.0  279.232961  66.872015  179.719479       99.513482   \n",
       "1995-08-01     760.0  268.984368  66.872015  179.719479       89.264889   \n",
       "1995-09-01     731.0  239.589691  66.872015  179.719479       59.870212   \n",
       "1995-10-01    1221.0  222.338442  66.872015  179.719479       42.618963   \n",
       "1995-11-01    2190.0  219.174889  66.872015  179.719479       39.455410   \n",
       "1995-12-01    2020.0  188.396157  66.872015  179.719479        8.676678   \n",
       "1996-01-01    2081.0  187.265966  66.872015  179.719479        7.546487   \n",
       "1996-02-01     323.0  217.754101  66.872015  179.719479       38.034622   \n",
       "1996-03-01     651.0  208.887735  66.872015  179.719479       29.168256   \n",
       "1996-04-01     670.0  214.105127  66.872015  179.719479       34.385648   \n",
       "1996-05-01     745.0  229.165146  66.872015  179.719479       49.445666   \n",
       "1996-06-01     858.0  211.928546  66.872015  179.719479       32.209067   \n",
       "1996-07-01     622.0  217.706088  66.872015  179.719479       37.986609   \n",
       "1996-08-01     620.0  220.346793  66.872015  179.719479       40.627314   \n",
       "1996-09-01     937.0  200.341455  66.872015  179.719479       20.621976   \n",
       "1996-10-01    1333.0  203.238228  66.872015  179.719479       23.518749   \n",
       "1996-11-01    1303.0  212.456687  66.872015  179.719479       32.737208   \n",
       "1996-12-01    1047.0  201.925878  66.872015  179.719479       22.206399   \n",
       "1997-01-01     778.0  226.575176  66.872015  179.719479       46.855697   \n",
       "1997-02-01     676.0  288.906035  66.872015  179.719479      109.186556   \n",
       "1997-03-01     500.0  332.853671  66.872015  179.719479      153.134192   \n",
       "1997-04-01     824.0  337.077901  66.872015  179.719479      157.358422   \n",
       "\n",
       "            half_std_dev  \n",
       "date                      \n",
       "1994-01-01    213.155486  \n",
       "1994-02-01    213.155486  \n",
       "1994-03-01    213.155486  \n",
       "1994-04-01    213.155486  \n",
       "1994-05-01    213.155486  \n",
       "1994-06-01    213.155486  \n",
       "1994-07-01    213.155486  \n",
       "1994-08-01    213.155486  \n",
       "1994-09-01    213.155486  \n",
       "1994-10-01    213.155486  \n",
       "1994-11-01    213.155486  \n",
       "1994-12-01    213.155486  \n",
       "1995-01-01    213.155486  \n",
       "1995-02-01    213.155486  \n",
       "1995-03-01    213.155486  \n",
       "1995-04-01    213.155486  \n",
       "1995-05-01    213.155486  \n",
       "1995-06-01    213.155486  \n",
       "1995-07-01    213.155486  \n",
       "1995-08-01    213.155486  \n",
       "1995-09-01    213.155486  \n",
       "1995-10-01    213.155486  \n",
       "1995-11-01    213.155486  \n",
       "1995-12-01    213.155486  \n",
       "1996-01-01    213.155486  \n",
       "1996-02-01    213.155486  \n",
       "1996-03-01    213.155486  \n",
       "1996-04-01    213.155486  \n",
       "1996-05-01    213.155486  \n",
       "1996-06-01    213.155486  \n",
       "1996-07-01    213.155486  \n",
       "1996-08-01    213.155486  \n",
       "1996-09-01    213.155486  \n",
       "1996-10-01    213.155486  \n",
       "1996-11-01    213.155486  \n",
       "1996-12-01    213.155486  \n",
       "1997-01-01    213.155486  \n",
       "1997-02-01    213.155486  \n",
       "1997-03-01    213.155486  \n",
       "1997-04-01    213.155486  "
      ]
     },
     "execution_count": 206,
     "metadata": {},
     "output_type": "execute_result"
    }
   ],
   "source": [
    "blob['1994':].head(20)\n",
    "blob['half_std_dev'] = blob['mean'] + (blob['std'] * .5)\n",
    "blob['1994':].head(40)"
   ]
  },
  {
   "cell_type": "code",
   "execution_count": null,
   "metadata": {},
   "outputs": [],
   "source": [
    "drop_to_mean_date = ['1995-12-01',]"
   ]
  },
  {
   "cell_type": "code",
   "execution_count": 209,
   "metadata": {},
   "outputs": [],
   "source": [
    "blob['spike_year'] = blob['mean'] + (blob['std']*2) < blob['inflated']"
   ]
  },
  {
   "cell_type": "code",
   "execution_count": 235,
   "metadata": {},
   "outputs": [],
   "source": [
    "blob[blob['spike_year'] == True]\n",
    "blob['within_norm'] = (blob['inflated'] < (blob['mean'] + (blob['std']*.5))) & (blob['inflated'] > (blob['mean'] - (blob['std']*.5))) \n"
   ]
  },
  {
   "cell_type": "code",
   "execution_count": 236,
   "metadata": {},
   "outputs": [
    {
     "name": "stdout",
     "output_type": "stream",
     "text": [
      "146.275\n",
      "213.145\n"
     ]
    }
   ],
   "source": [
    "print(179.71-(66.87 *.5))\n",
    "print(179.71+(66.87 *.5))"
   ]
  },
  {
   "cell_type": "code",
   "execution_count": 242,
   "metadata": {},
   "outputs": [
    {
     "data": {
      "text/html": [
       "<div>\n",
       "<style scoped>\n",
       "    .dataframe tbody tr th:only-of-type {\n",
       "        vertical-align: middle;\n",
       "    }\n",
       "\n",
       "    .dataframe tbody tr th {\n",
       "        vertical-align: top;\n",
       "    }\n",
       "\n",
       "    .dataframe thead th {\n",
       "        text-align: right;\n",
       "    }\n",
       "</style>\n",
       "<table border=\"1\" class=\"dataframe\">\n",
       "  <thead>\n",
       "    <tr style=\"text-align: right;\">\n",
       "      <th></th>\n",
       "      <th>quantity</th>\n",
       "      <th>inflated</th>\n",
       "      <th>std</th>\n",
       "      <th>mean</th>\n",
       "      <th>dist_from_mean</th>\n",
       "      <th>half_std_dev</th>\n",
       "      <th>spike_year</th>\n",
       "      <th>within_norm</th>\n",
       "    </tr>\n",
       "    <tr>\n",
       "      <th>date</th>\n",
       "      <th></th>\n",
       "      <th></th>\n",
       "      <th></th>\n",
       "      <th></th>\n",
       "      <th></th>\n",
       "      <th></th>\n",
       "      <th></th>\n",
       "      <th></th>\n",
       "    </tr>\n",
       "  </thead>\n",
       "  <tbody>\n",
       "    <tr>\n",
       "      <th>2013-01-01</th>\n",
       "      <td>877.0</td>\n",
       "      <td>181.983777</td>\n",
       "      <td>66.872015</td>\n",
       "      <td>179.719479</td>\n",
       "      <td>2.264298</td>\n",
       "      <td>213.155486</td>\n",
       "      <td>False</td>\n",
       "      <td>True</td>\n",
       "    </tr>\n",
       "    <tr>\n",
       "      <th>1999-03-01</th>\n",
       "      <td>670.0</td>\n",
       "      <td>182.075184</td>\n",
       "      <td>66.872015</td>\n",
       "      <td>179.719479</td>\n",
       "      <td>2.355705</td>\n",
       "      <td>213.155486</td>\n",
       "      <td>False</td>\n",
       "      <td>True</td>\n",
       "    </tr>\n",
       "    <tr>\n",
       "      <th>2008-03-01</th>\n",
       "      <td>872.0</td>\n",
       "      <td>183.222448</td>\n",
       "      <td>66.872015</td>\n",
       "      <td>179.719479</td>\n",
       "      <td>3.502969</td>\n",
       "      <td>213.155486</td>\n",
       "      <td>False</td>\n",
       "      <td>True</td>\n",
       "    </tr>\n",
       "    <tr>\n",
       "      <th>2000-01-01</th>\n",
       "      <td>658.0</td>\n",
       "      <td>184.553437</td>\n",
       "      <td>66.872015</td>\n",
       "      <td>179.719479</td>\n",
       "      <td>4.833958</td>\n",
       "      <td>213.155486</td>\n",
       "      <td>False</td>\n",
       "      <td>True</td>\n",
       "    </tr>\n",
       "    <tr>\n",
       "      <th>1999-11-01</th>\n",
       "      <td>882.0</td>\n",
       "      <td>185.556919</td>\n",
       "      <td>66.872015</td>\n",
       "      <td>179.719479</td>\n",
       "      <td>5.837440</td>\n",
       "      <td>213.155486</td>\n",
       "      <td>False</td>\n",
       "      <td>True</td>\n",
       "    </tr>\n",
       "    <tr>\n",
       "      <th>2012-11-01</th>\n",
       "      <td>770.0</td>\n",
       "      <td>187.132466</td>\n",
       "      <td>66.872015</td>\n",
       "      <td>179.719479</td>\n",
       "      <td>7.412987</td>\n",
       "      <td>213.155486</td>\n",
       "      <td>False</td>\n",
       "      <td>True</td>\n",
       "    </tr>\n",
       "    <tr>\n",
       "      <th>1996-01-01</th>\n",
       "      <td>2081.0</td>\n",
       "      <td>187.265966</td>\n",
       "      <td>66.872015</td>\n",
       "      <td>179.719479</td>\n",
       "      <td>7.546487</td>\n",
       "      <td>213.155486</td>\n",
       "      <td>False</td>\n",
       "      <td>True</td>\n",
       "    </tr>\n",
       "    <tr>\n",
       "      <th>2015-02-01</th>\n",
       "      <td>1029.0</td>\n",
       "      <td>187.612588</td>\n",
       "      <td>66.872015</td>\n",
       "      <td>179.719479</td>\n",
       "      <td>7.893109</td>\n",
       "      <td>213.155486</td>\n",
       "      <td>False</td>\n",
       "      <td>True</td>\n",
       "    </tr>\n",
       "    <tr>\n",
       "      <th>1999-06-01</th>\n",
       "      <td>740.0</td>\n",
       "      <td>187.727352</td>\n",
       "      <td>66.872015</td>\n",
       "      <td>179.719479</td>\n",
       "      <td>8.007873</td>\n",
       "      <td>213.155486</td>\n",
       "      <td>False</td>\n",
       "      <td>True</td>\n",
       "    </tr>\n",
       "    <tr>\n",
       "      <th>1998-10-01</th>\n",
       "      <td>1510.0</td>\n",
       "      <td>187.929711</td>\n",
       "      <td>66.872015</td>\n",
       "      <td>179.719479</td>\n",
       "      <td>8.210232</td>\n",
       "      <td>213.155486</td>\n",
       "      <td>False</td>\n",
       "      <td>True</td>\n",
       "    </tr>\n",
       "    <tr>\n",
       "      <th>2016-11-01</th>\n",
       "      <td>1653.0</td>\n",
       "      <td>188.091095</td>\n",
       "      <td>66.872015</td>\n",
       "      <td>179.719479</td>\n",
       "      <td>8.371616</td>\n",
       "      <td>213.155486</td>\n",
       "      <td>False</td>\n",
       "      <td>True</td>\n",
       "    </tr>\n",
       "    <tr>\n",
       "      <th>1995-12-01</th>\n",
       "      <td>2020.0</td>\n",
       "      <td>188.396157</td>\n",
       "      <td>66.872015</td>\n",
       "      <td>179.719479</td>\n",
       "      <td>8.676678</td>\n",
       "      <td>213.155486</td>\n",
       "      <td>False</td>\n",
       "      <td>True</td>\n",
       "    </tr>\n",
       "    <tr>\n",
       "      <th>1998-09-01</th>\n",
       "      <td>879.0</td>\n",
       "      <td>190.486997</td>\n",
       "      <td>66.872015</td>\n",
       "      <td>179.719479</td>\n",
       "      <td>10.767518</td>\n",
       "      <td>213.155486</td>\n",
       "      <td>False</td>\n",
       "      <td>True</td>\n",
       "    </tr>\n",
       "    <tr>\n",
       "      <th>1999-05-01</th>\n",
       "      <td>640.0</td>\n",
       "      <td>192.490246</td>\n",
       "      <td>66.872015</td>\n",
       "      <td>179.719479</td>\n",
       "      <td>12.770767</td>\n",
       "      <td>213.155486</td>\n",
       "      <td>False</td>\n",
       "      <td>True</td>\n",
       "    </tr>\n",
       "    <tr>\n",
       "      <th>1999-01-01</th>\n",
       "      <td>813.0</td>\n",
       "      <td>195.097780</td>\n",
       "      <td>66.872015</td>\n",
       "      <td>179.719479</td>\n",
       "      <td>15.378301</td>\n",
       "      <td>213.155486</td>\n",
       "      <td>False</td>\n",
       "      <td>True</td>\n",
       "    </tr>\n",
       "    <tr>\n",
       "      <th>1998-07-01</th>\n",
       "      <td>1279.0</td>\n",
       "      <td>196.032919</td>\n",
       "      <td>66.872015</td>\n",
       "      <td>179.719479</td>\n",
       "      <td>16.313440</td>\n",
       "      <td>213.155486</td>\n",
       "      <td>False</td>\n",
       "      <td>True</td>\n",
       "    </tr>\n",
       "    <tr>\n",
       "      <th>2015-01-01</th>\n",
       "      <td>1088.0</td>\n",
       "      <td>196.328897</td>\n",
       "      <td>66.872015</td>\n",
       "      <td>179.719479</td>\n",
       "      <td>16.609418</td>\n",
       "      <td>213.155486</td>\n",
       "      <td>False</td>\n",
       "      <td>True</td>\n",
       "    </tr>\n",
       "    <tr>\n",
       "      <th>2012-10-01</th>\n",
       "      <td>653.0</td>\n",
       "      <td>200.321420</td>\n",
       "      <td>66.872015</td>\n",
       "      <td>179.719479</td>\n",
       "      <td>20.601941</td>\n",
       "      <td>213.155486</td>\n",
       "      <td>False</td>\n",
       "      <td>True</td>\n",
       "    </tr>\n",
       "    <tr>\n",
       "      <th>1996-09-01</th>\n",
       "      <td>937.0</td>\n",
       "      <td>200.341455</td>\n",
       "      <td>66.872015</td>\n",
       "      <td>179.719479</td>\n",
       "      <td>20.621976</td>\n",
       "      <td>213.155486</td>\n",
       "      <td>False</td>\n",
       "      <td>True</td>\n",
       "    </tr>\n",
       "    <tr>\n",
       "      <th>1998-12-01</th>\n",
       "      <td>1093.0</td>\n",
       "      <td>201.717488</td>\n",
       "      <td>66.872015</td>\n",
       "      <td>179.719479</td>\n",
       "      <td>21.998009</td>\n",
       "      <td>213.155486</td>\n",
       "      <td>False</td>\n",
       "      <td>True</td>\n",
       "    </tr>\n",
       "    <tr>\n",
       "      <th>1996-12-01</th>\n",
       "      <td>1047.0</td>\n",
       "      <td>201.925878</td>\n",
       "      <td>66.872015</td>\n",
       "      <td>179.719479</td>\n",
       "      <td>22.206399</td>\n",
       "      <td>213.155486</td>\n",
       "      <td>False</td>\n",
       "      <td>True</td>\n",
       "    </tr>\n",
       "    <tr>\n",
       "      <th>1998-11-01</th>\n",
       "      <td>1666.0</td>\n",
       "      <td>202.056406</td>\n",
       "      <td>66.872015</td>\n",
       "      <td>179.719479</td>\n",
       "      <td>22.336927</td>\n",
       "      <td>213.155486</td>\n",
       "      <td>False</td>\n",
       "      <td>True</td>\n",
       "    </tr>\n",
       "    <tr>\n",
       "      <th>1996-10-01</th>\n",
       "      <td>1333.0</td>\n",
       "      <td>203.238228</td>\n",
       "      <td>66.872015</td>\n",
       "      <td>179.719479</td>\n",
       "      <td>23.518749</td>\n",
       "      <td>213.155486</td>\n",
       "      <td>False</td>\n",
       "      <td>True</td>\n",
       "    </tr>\n",
       "    <tr>\n",
       "      <th>2012-06-01</th>\n",
       "      <td>714.0</td>\n",
       "      <td>203.301730</td>\n",
       "      <td>66.872015</td>\n",
       "      <td>179.719479</td>\n",
       "      <td>23.582250</td>\n",
       "      <td>213.155486</td>\n",
       "      <td>False</td>\n",
       "      <td>True</td>\n",
       "    </tr>\n",
       "    <tr>\n",
       "      <th>2014-07-01</th>\n",
       "      <td>1236.0</td>\n",
       "      <td>204.745443</td>\n",
       "      <td>66.872015</td>\n",
       "      <td>179.719479</td>\n",
       "      <td>25.025964</td>\n",
       "      <td>213.155486</td>\n",
       "      <td>False</td>\n",
       "      <td>True</td>\n",
       "    </tr>\n",
       "    <tr>\n",
       "      <th>2014-12-01</th>\n",
       "      <td>1086.0</td>\n",
       "      <td>205.069129</td>\n",
       "      <td>66.872015</td>\n",
       "      <td>179.719479</td>\n",
       "      <td>25.349650</td>\n",
       "      <td>213.155486</td>\n",
       "      <td>False</td>\n",
       "      <td>True</td>\n",
       "    </tr>\n",
       "    <tr>\n",
       "      <th>2012-08-01</th>\n",
       "      <td>565.0</td>\n",
       "      <td>206.246805</td>\n",
       "      <td>66.872015</td>\n",
       "      <td>179.719479</td>\n",
       "      <td>26.527326</td>\n",
       "      <td>213.155486</td>\n",
       "      <td>False</td>\n",
       "      <td>True</td>\n",
       "    </tr>\n",
       "    <tr>\n",
       "      <th>2012-09-01</th>\n",
       "      <td>519.0</td>\n",
       "      <td>207.014113</td>\n",
       "      <td>66.872015</td>\n",
       "      <td>179.719479</td>\n",
       "      <td>27.294633</td>\n",
       "      <td>213.155486</td>\n",
       "      <td>False</td>\n",
       "      <td>True</td>\n",
       "    </tr>\n",
       "    <tr>\n",
       "      <th>2009-04-01</th>\n",
       "      <td>345.0</td>\n",
       "      <td>207.630259</td>\n",
       "      <td>66.872015</td>\n",
       "      <td>179.719479</td>\n",
       "      <td>27.910780</td>\n",
       "      <td>213.155486</td>\n",
       "      <td>False</td>\n",
       "      <td>True</td>\n",
       "    </tr>\n",
       "    <tr>\n",
       "      <th>2009-11-01</th>\n",
       "      <td>760.0</td>\n",
       "      <td>207.740283</td>\n",
       "      <td>66.872015</td>\n",
       "      <td>179.719479</td>\n",
       "      <td>28.020804</td>\n",
       "      <td>213.155486</td>\n",
       "      <td>False</td>\n",
       "      <td>True</td>\n",
       "    </tr>\n",
       "    <tr>\n",
       "      <th>2014-06-01</th>\n",
       "      <td>944.0</td>\n",
       "      <td>207.757765</td>\n",
       "      <td>66.872015</td>\n",
       "      <td>179.719479</td>\n",
       "      <td>28.038286</td>\n",
       "      <td>213.155486</td>\n",
       "      <td>False</td>\n",
       "      <td>True</td>\n",
       "    </tr>\n",
       "    <tr>\n",
       "      <th>2009-10-01</th>\n",
       "      <td>544.0</td>\n",
       "      <td>207.774792</td>\n",
       "      <td>66.872015</td>\n",
       "      <td>179.719479</td>\n",
       "      <td>28.055313</td>\n",
       "      <td>213.155486</td>\n",
       "      <td>False</td>\n",
       "      <td>True</td>\n",
       "    </tr>\n",
       "    <tr>\n",
       "      <th>1999-12-01</th>\n",
       "      <td>890.0</td>\n",
       "      <td>208.286172</td>\n",
       "      <td>66.872015</td>\n",
       "      <td>179.719479</td>\n",
       "      <td>28.566693</td>\n",
       "      <td>213.155486</td>\n",
       "      <td>False</td>\n",
       "      <td>True</td>\n",
       "    </tr>\n",
       "    <tr>\n",
       "      <th>2009-09-01</th>\n",
       "      <td>467.0</td>\n",
       "      <td>208.357115</td>\n",
       "      <td>66.872015</td>\n",
       "      <td>179.719479</td>\n",
       "      <td>28.637636</td>\n",
       "      <td>213.155486</td>\n",
       "      <td>False</td>\n",
       "      <td>True</td>\n",
       "    </tr>\n",
       "    <tr>\n",
       "      <th>1998-06-01</th>\n",
       "      <td>1077.0</td>\n",
       "      <td>208.788538</td>\n",
       "      <td>66.872015</td>\n",
       "      <td>179.719479</td>\n",
       "      <td>29.069059</td>\n",
       "      <td>213.155486</td>\n",
       "      <td>False</td>\n",
       "      <td>True</td>\n",
       "    </tr>\n",
       "    <tr>\n",
       "      <th>1996-03-01</th>\n",
       "      <td>651.0</td>\n",
       "      <td>208.887735</td>\n",
       "      <td>66.872015</td>\n",
       "      <td>179.719479</td>\n",
       "      <td>29.168256</td>\n",
       "      <td>213.155486</td>\n",
       "      <td>False</td>\n",
       "      <td>True</td>\n",
       "    </tr>\n",
       "    <tr>\n",
       "      <th>1996-06-01</th>\n",
       "      <td>858.0</td>\n",
       "      <td>211.928546</td>\n",
       "      <td>66.872015</td>\n",
       "      <td>179.719479</td>\n",
       "      <td>32.209067</td>\n",
       "      <td>213.155486</td>\n",
       "      <td>False</td>\n",
       "      <td>True</td>\n",
       "    </tr>\n",
       "    <tr>\n",
       "      <th>1996-11-01</th>\n",
       "      <td>1303.0</td>\n",
       "      <td>212.456687</td>\n",
       "      <td>66.872015</td>\n",
       "      <td>179.719479</td>\n",
       "      <td>32.737208</td>\n",
       "      <td>213.155486</td>\n",
       "      <td>False</td>\n",
       "      <td>True</td>\n",
       "    </tr>\n",
       "    <tr>\n",
       "      <th>1998-08-01</th>\n",
       "      <td>824.0</td>\n",
       "      <td>213.148249</td>\n",
       "      <td>66.872015</td>\n",
       "      <td>179.719479</td>\n",
       "      <td>33.428770</td>\n",
       "      <td>213.155486</td>\n",
       "      <td>False</td>\n",
       "      <td>True</td>\n",
       "    </tr>\n",
       "    <tr>\n",
       "      <th>1996-04-01</th>\n",
       "      <td>670.0</td>\n",
       "      <td>214.105127</td>\n",
       "      <td>66.872015</td>\n",
       "      <td>179.719479</td>\n",
       "      <td>34.385648</td>\n",
       "      <td>213.155486</td>\n",
       "      <td>False</td>\n",
       "      <td>False</td>\n",
       "    </tr>\n",
       "  </tbody>\n",
       "</table>\n",
       "</div>"
      ],
      "text/plain": [
       "            quantity    inflated        std        mean  dist_from_mean  \\\n",
       "date                                                                      \n",
       "2013-01-01     877.0  181.983777  66.872015  179.719479        2.264298   \n",
       "1999-03-01     670.0  182.075184  66.872015  179.719479        2.355705   \n",
       "2008-03-01     872.0  183.222448  66.872015  179.719479        3.502969   \n",
       "2000-01-01     658.0  184.553437  66.872015  179.719479        4.833958   \n",
       "1999-11-01     882.0  185.556919  66.872015  179.719479        5.837440   \n",
       "2012-11-01     770.0  187.132466  66.872015  179.719479        7.412987   \n",
       "1996-01-01    2081.0  187.265966  66.872015  179.719479        7.546487   \n",
       "2015-02-01    1029.0  187.612588  66.872015  179.719479        7.893109   \n",
       "1999-06-01     740.0  187.727352  66.872015  179.719479        8.007873   \n",
       "1998-10-01    1510.0  187.929711  66.872015  179.719479        8.210232   \n",
       "2016-11-01    1653.0  188.091095  66.872015  179.719479        8.371616   \n",
       "1995-12-01    2020.0  188.396157  66.872015  179.719479        8.676678   \n",
       "1998-09-01     879.0  190.486997  66.872015  179.719479       10.767518   \n",
       "1999-05-01     640.0  192.490246  66.872015  179.719479       12.770767   \n",
       "1999-01-01     813.0  195.097780  66.872015  179.719479       15.378301   \n",
       "1998-07-01    1279.0  196.032919  66.872015  179.719479       16.313440   \n",
       "2015-01-01    1088.0  196.328897  66.872015  179.719479       16.609418   \n",
       "2012-10-01     653.0  200.321420  66.872015  179.719479       20.601941   \n",
       "1996-09-01     937.0  200.341455  66.872015  179.719479       20.621976   \n",
       "1998-12-01    1093.0  201.717488  66.872015  179.719479       21.998009   \n",
       "1996-12-01    1047.0  201.925878  66.872015  179.719479       22.206399   \n",
       "1998-11-01    1666.0  202.056406  66.872015  179.719479       22.336927   \n",
       "1996-10-01    1333.0  203.238228  66.872015  179.719479       23.518749   \n",
       "2012-06-01     714.0  203.301730  66.872015  179.719479       23.582250   \n",
       "2014-07-01    1236.0  204.745443  66.872015  179.719479       25.025964   \n",
       "2014-12-01    1086.0  205.069129  66.872015  179.719479       25.349650   \n",
       "2012-08-01     565.0  206.246805  66.872015  179.719479       26.527326   \n",
       "2012-09-01     519.0  207.014113  66.872015  179.719479       27.294633   \n",
       "2009-04-01     345.0  207.630259  66.872015  179.719479       27.910780   \n",
       "2009-11-01     760.0  207.740283  66.872015  179.719479       28.020804   \n",
       "2014-06-01     944.0  207.757765  66.872015  179.719479       28.038286   \n",
       "2009-10-01     544.0  207.774792  66.872015  179.719479       28.055313   \n",
       "1999-12-01     890.0  208.286172  66.872015  179.719479       28.566693   \n",
       "2009-09-01     467.0  208.357115  66.872015  179.719479       28.637636   \n",
       "1998-06-01    1077.0  208.788538  66.872015  179.719479       29.069059   \n",
       "1996-03-01     651.0  208.887735  66.872015  179.719479       29.168256   \n",
       "1996-06-01     858.0  211.928546  66.872015  179.719479       32.209067   \n",
       "1996-11-01    1303.0  212.456687  66.872015  179.719479       32.737208   \n",
       "1998-08-01     824.0  213.148249  66.872015  179.719479       33.428770   \n",
       "1996-04-01     670.0  214.105127  66.872015  179.719479       34.385648   \n",
       "\n",
       "            half_std_dev  spike_year  within_norm  \n",
       "date                                               \n",
       "2013-01-01    213.155486       False         True  \n",
       "1999-03-01    213.155486       False         True  \n",
       "2008-03-01    213.155486       False         True  \n",
       "2000-01-01    213.155486       False         True  \n",
       "1999-11-01    213.155486       False         True  \n",
       "2012-11-01    213.155486       False         True  \n",
       "1996-01-01    213.155486       False         True  \n",
       "2015-02-01    213.155486       False         True  \n",
       "1999-06-01    213.155486       False         True  \n",
       "1998-10-01    213.155486       False         True  \n",
       "2016-11-01    213.155486       False         True  \n",
       "1995-12-01    213.155486       False         True  \n",
       "1998-09-01    213.155486       False         True  \n",
       "1999-05-01    213.155486       False         True  \n",
       "1999-01-01    213.155486       False         True  \n",
       "1998-07-01    213.155486       False         True  \n",
       "2015-01-01    213.155486       False         True  \n",
       "2012-10-01    213.155486       False         True  \n",
       "1996-09-01    213.155486       False         True  \n",
       "1998-12-01    213.155486       False         True  \n",
       "1996-12-01    213.155486       False         True  \n",
       "1998-11-01    213.155486       False         True  \n",
       "1996-10-01    213.155486       False         True  \n",
       "2012-06-01    213.155486       False         True  \n",
       "2014-07-01    213.155486       False         True  \n",
       "2014-12-01    213.155486       False         True  \n",
       "2012-08-01    213.155486       False         True  \n",
       "2012-09-01    213.155486       False         True  \n",
       "2009-04-01    213.155486       False         True  \n",
       "2009-11-01    213.155486       False         True  \n",
       "2014-06-01    213.155486       False         True  \n",
       "2009-10-01    213.155486       False         True  \n",
       "1999-12-01    213.155486       False         True  \n",
       "2009-09-01    213.155486       False         True  \n",
       "1998-06-01    213.155486       False         True  \n",
       "1996-03-01    213.155486       False         True  \n",
       "1996-06-01    213.155486       False         True  \n",
       "1996-11-01    213.155486       False         True  \n",
       "1998-08-01    213.155486       False         True  \n",
       "1996-04-01    213.155486       False        False  "
      ]
     },
     "execution_count": 242,
     "metadata": {},
     "output_type": "execute_result"
    }
   ],
   "source": [
    "blob[(blob.inflated >144) & (blob.inflated < 215)].sort_values(by='inflated').tail(40)"
   ]
  },
  {
   "cell_type": "code",
   "execution_count": 244,
   "metadata": {},
   "outputs": [
    {
     "data": {
      "text/html": [
       "<div>\n",
       "<style scoped>\n",
       "    .dataframe tbody tr th:only-of-type {\n",
       "        vertical-align: middle;\n",
       "    }\n",
       "\n",
       "    .dataframe tbody tr th {\n",
       "        vertical-align: top;\n",
       "    }\n",
       "\n",
       "    .dataframe thead th {\n",
       "        text-align: right;\n",
       "    }\n",
       "</style>\n",
       "<table border=\"1\" class=\"dataframe\">\n",
       "  <thead>\n",
       "    <tr style=\"text-align: right;\">\n",
       "      <th></th>\n",
       "      <th>quantity</th>\n",
       "      <th>inflated</th>\n",
       "      <th>std</th>\n",
       "      <th>mean</th>\n",
       "      <th>dist_from_mean</th>\n",
       "      <th>half_std_dev</th>\n",
       "      <th>spike_year</th>\n",
       "      <th>within_norm</th>\n",
       "    </tr>\n",
       "    <tr>\n",
       "      <th>date</th>\n",
       "      <th></th>\n",
       "      <th></th>\n",
       "      <th></th>\n",
       "      <th></th>\n",
       "      <th></th>\n",
       "      <th></th>\n",
       "      <th></th>\n",
       "      <th></th>\n",
       "    </tr>\n",
       "  </thead>\n",
       "  <tbody>\n",
       "    <tr>\n",
       "      <th>1994-07-01</th>\n",
       "      <td>782.0</td>\n",
       "      <td>385.081565</td>\n",
       "      <td>66.872015</td>\n",
       "      <td>179.719479</td>\n",
       "      <td>205.362086</td>\n",
       "      <td>213.155486</td>\n",
       "      <td>True</td>\n",
       "      <td>False</td>\n",
       "    </tr>\n",
       "    <tr>\n",
       "      <th>1994-08-01</th>\n",
       "      <td>529.0</td>\n",
       "      <td>357.361521</td>\n",
       "      <td>66.872015</td>\n",
       "      <td>179.719479</td>\n",
       "      <td>177.642042</td>\n",
       "      <td>213.155486</td>\n",
       "      <td>True</td>\n",
       "      <td>False</td>\n",
       "    </tr>\n",
       "    <tr>\n",
       "      <th>1994-09-01</th>\n",
       "      <td>681.0</td>\n",
       "      <td>392.892653</td>\n",
       "      <td>66.872015</td>\n",
       "      <td>179.719479</td>\n",
       "      <td>213.173174</td>\n",
       "      <td>213.155486</td>\n",
       "      <td>True</td>\n",
       "      <td>False</td>\n",
       "    </tr>\n",
       "    <tr>\n",
       "      <th>1994-10-01</th>\n",
       "      <td>1530.0</td>\n",
       "      <td>354.531907</td>\n",
       "      <td>66.872015</td>\n",
       "      <td>179.719479</td>\n",
       "      <td>174.812428</td>\n",
       "      <td>213.155486</td>\n",
       "      <td>True</td>\n",
       "      <td>False</td>\n",
       "    </tr>\n",
       "    <tr>\n",
       "      <th>1994-11-01</th>\n",
       "      <td>1764.0</td>\n",
       "      <td>319.102438</td>\n",
       "      <td>66.872015</td>\n",
       "      <td>179.719479</td>\n",
       "      <td>139.382959</td>\n",
       "      <td>213.155486</td>\n",
       "      <td>True</td>\n",
       "      <td>False</td>\n",
       "    </tr>\n",
       "    <tr>\n",
       "      <th>1997-03-01</th>\n",
       "      <td>500.0</td>\n",
       "      <td>332.853671</td>\n",
       "      <td>66.872015</td>\n",
       "      <td>179.719479</td>\n",
       "      <td>153.134192</td>\n",
       "      <td>213.155486</td>\n",
       "      <td>True</td>\n",
       "      <td>False</td>\n",
       "    </tr>\n",
       "    <tr>\n",
       "      <th>1997-04-01</th>\n",
       "      <td>824.0</td>\n",
       "      <td>337.077901</td>\n",
       "      <td>66.872015</td>\n",
       "      <td>179.719479</td>\n",
       "      <td>157.358422</td>\n",
       "      <td>213.155486</td>\n",
       "      <td>True</td>\n",
       "      <td>False</td>\n",
       "    </tr>\n",
       "    <tr>\n",
       "      <th>1997-05-01</th>\n",
       "      <td>836.0</td>\n",
       "      <td>411.346121</td>\n",
       "      <td>66.872015</td>\n",
       "      <td>179.719479</td>\n",
       "      <td>231.626642</td>\n",
       "      <td>213.155486</td>\n",
       "      <td>True</td>\n",
       "      <td>False</td>\n",
       "    </tr>\n",
       "    <tr>\n",
       "      <th>1997-06-01</th>\n",
       "      <td>1078.0</td>\n",
       "      <td>387.612207</td>\n",
       "      <td>66.872015</td>\n",
       "      <td>179.719479</td>\n",
       "      <td>207.892728</td>\n",
       "      <td>213.155486</td>\n",
       "      <td>True</td>\n",
       "      <td>False</td>\n",
       "    </tr>\n",
       "    <tr>\n",
       "      <th>1997-07-01</th>\n",
       "      <td>946.0</td>\n",
       "      <td>314.564320</td>\n",
       "      <td>66.872015</td>\n",
       "      <td>179.719479</td>\n",
       "      <td>134.844841</td>\n",
       "      <td>213.155486</td>\n",
       "      <td>True</td>\n",
       "      <td>False</td>\n",
       "    </tr>\n",
       "    <tr>\n",
       "      <th>1997-08-01</th>\n",
       "      <td>686.0</td>\n",
       "      <td>320.540823</td>\n",
       "      <td>66.872015</td>\n",
       "      <td>179.719479</td>\n",
       "      <td>140.821344</td>\n",
       "      <td>213.155486</td>\n",
       "      <td>True</td>\n",
       "      <td>False</td>\n",
       "    </tr>\n",
       "    <tr>\n",
       "      <th>1997-09-01</th>\n",
       "      <td>772.0</td>\n",
       "      <td>323.278750</td>\n",
       "      <td>66.872015</td>\n",
       "      <td>179.719479</td>\n",
       "      <td>143.559271</td>\n",
       "      <td>213.155486</td>\n",
       "      <td>True</td>\n",
       "      <td>False</td>\n",
       "    </tr>\n",
       "    <tr>\n",
       "      <th>2011-02-01</th>\n",
       "      <td>764.0</td>\n",
       "      <td>328.826077</td>\n",
       "      <td>66.872015</td>\n",
       "      <td>179.719479</td>\n",
       "      <td>149.106598</td>\n",
       "      <td>213.155486</td>\n",
       "      <td>True</td>\n",
       "      <td>False</td>\n",
       "    </tr>\n",
       "    <tr>\n",
       "      <th>2011-03-01</th>\n",
       "      <td>779.0</td>\n",
       "      <td>336.133857</td>\n",
       "      <td>66.872015</td>\n",
       "      <td>179.719479</td>\n",
       "      <td>156.414378</td>\n",
       "      <td>213.155486</td>\n",
       "      <td>True</td>\n",
       "      <td>False</td>\n",
       "    </tr>\n",
       "    <tr>\n",
       "      <th>2011-04-01</th>\n",
       "      <td>523.0</td>\n",
       "      <td>344.441433</td>\n",
       "      <td>66.872015</td>\n",
       "      <td>179.719479</td>\n",
       "      <td>164.721954</td>\n",
       "      <td>213.155486</td>\n",
       "      <td>True</td>\n",
       "      <td>False</td>\n",
       "    </tr>\n",
       "    <tr>\n",
       "      <th>2011-05-01</th>\n",
       "      <td>673.0</td>\n",
       "      <td>342.655047</td>\n",
       "      <td>66.872015</td>\n",
       "      <td>179.719479</td>\n",
       "      <td>162.935568</td>\n",
       "      <td>213.155486</td>\n",
       "      <td>True</td>\n",
       "      <td>False</td>\n",
       "    </tr>\n",
       "    <tr>\n",
       "      <th>2011-06-01</th>\n",
       "      <td>471.0</td>\n",
       "      <td>322.145271</td>\n",
       "      <td>66.872015</td>\n",
       "      <td>179.719479</td>\n",
       "      <td>142.425792</td>\n",
       "      <td>213.155486</td>\n",
       "      <td>True</td>\n",
       "      <td>False</td>\n",
       "    </tr>\n",
       "    <tr>\n",
       "      <th>2011-07-01</th>\n",
       "      <td>530.0</td>\n",
       "      <td>320.116989</td>\n",
       "      <td>66.872015</td>\n",
       "      <td>179.719479</td>\n",
       "      <td>140.397510</td>\n",
       "      <td>213.155486</td>\n",
       "      <td>True</td>\n",
       "      <td>False</td>\n",
       "    </tr>\n",
       "    <tr>\n",
       "      <th>2011-08-01</th>\n",
       "      <td>466.0</td>\n",
       "      <td>314.582134</td>\n",
       "      <td>66.872015</td>\n",
       "      <td>179.719479</td>\n",
       "      <td>134.862655</td>\n",
       "      <td>213.155486</td>\n",
       "      <td>True</td>\n",
       "      <td>False</td>\n",
       "    </tr>\n",
       "    <tr>\n",
       "      <th>2011-09-01</th>\n",
       "      <td>459.0</td>\n",
       "      <td>330.578056</td>\n",
       "      <td>66.872015</td>\n",
       "      <td>179.719479</td>\n",
       "      <td>150.858577</td>\n",
       "      <td>213.155486</td>\n",
       "      <td>True</td>\n",
       "      <td>False</td>\n",
       "    </tr>\n",
       "  </tbody>\n",
       "</table>\n",
       "</div>"
      ],
      "text/plain": [
       "            quantity    inflated        std        mean  dist_from_mean  \\\n",
       "date                                                                      \n",
       "1994-07-01     782.0  385.081565  66.872015  179.719479      205.362086   \n",
       "1994-08-01     529.0  357.361521  66.872015  179.719479      177.642042   \n",
       "1994-09-01     681.0  392.892653  66.872015  179.719479      213.173174   \n",
       "1994-10-01    1530.0  354.531907  66.872015  179.719479      174.812428   \n",
       "1994-11-01    1764.0  319.102438  66.872015  179.719479      139.382959   \n",
       "1997-03-01     500.0  332.853671  66.872015  179.719479      153.134192   \n",
       "1997-04-01     824.0  337.077901  66.872015  179.719479      157.358422   \n",
       "1997-05-01     836.0  411.346121  66.872015  179.719479      231.626642   \n",
       "1997-06-01    1078.0  387.612207  66.872015  179.719479      207.892728   \n",
       "1997-07-01     946.0  314.564320  66.872015  179.719479      134.844841   \n",
       "1997-08-01     686.0  320.540823  66.872015  179.719479      140.821344   \n",
       "1997-09-01     772.0  323.278750  66.872015  179.719479      143.559271   \n",
       "2011-02-01     764.0  328.826077  66.872015  179.719479      149.106598   \n",
       "2011-03-01     779.0  336.133857  66.872015  179.719479      156.414378   \n",
       "2011-04-01     523.0  344.441433  66.872015  179.719479      164.721954   \n",
       "2011-05-01     673.0  342.655047  66.872015  179.719479      162.935568   \n",
       "2011-06-01     471.0  322.145271  66.872015  179.719479      142.425792   \n",
       "2011-07-01     530.0  320.116989  66.872015  179.719479      140.397510   \n",
       "2011-08-01     466.0  314.582134  66.872015  179.719479      134.862655   \n",
       "2011-09-01     459.0  330.578056  66.872015  179.719479      150.858577   \n",
       "\n",
       "            half_std_dev  spike_year  within_norm  \n",
       "date                                               \n",
       "1994-07-01    213.155486        True        False  \n",
       "1994-08-01    213.155486        True        False  \n",
       "1994-09-01    213.155486        True        False  \n",
       "1994-10-01    213.155486        True        False  \n",
       "1994-11-01    213.155486        True        False  \n",
       "1997-03-01    213.155486        True        False  \n",
       "1997-04-01    213.155486        True        False  \n",
       "1997-05-01    213.155486        True        False  \n",
       "1997-06-01    213.155486        True        False  \n",
       "1997-07-01    213.155486        True        False  \n",
       "1997-08-01    213.155486        True        False  \n",
       "1997-09-01    213.155486        True        False  \n",
       "2011-02-01    213.155486        True        False  \n",
       "2011-03-01    213.155486        True        False  \n",
       "2011-04-01    213.155486        True        False  \n",
       "2011-05-01    213.155486        True        False  \n",
       "2011-06-01    213.155486        True        False  \n",
       "2011-07-01    213.155486        True        False  \n",
       "2011-08-01    213.155486        True        False  \n",
       "2011-09-01    213.155486        True        False  "
      ]
     },
     "execution_count": 244,
     "metadata": {},
     "output_type": "execute_result"
    }
   ],
   "source": [
    "blob[blob.spike_year == True]"
   ]
  },
  {
   "cell_type": "code",
   "execution_count": 256,
   "metadata": {},
   "outputs": [],
   "source": [
    "spike_years = spike_years[0:6]"
   ]
  },
  {
   "cell_type": "code",
   "execution_count": 253,
   "metadata": {},
   "outputs": [
    {
     "data": {
      "text/html": [
       "<div>\n",
       "<style scoped>\n",
       "    .dataframe tbody tr th:only-of-type {\n",
       "        vertical-align: middle;\n",
       "    }\n",
       "\n",
       "    .dataframe tbody tr th {\n",
       "        vertical-align: top;\n",
       "    }\n",
       "\n",
       "    .dataframe thead th {\n",
       "        text-align: right;\n",
       "    }\n",
       "</style>\n",
       "<table border=\"1\" class=\"dataframe\">\n",
       "  <thead>\n",
       "    <tr style=\"text-align: right;\">\n",
       "      <th></th>\n",
       "      <th>quantity</th>\n",
       "      <th>inflated</th>\n",
       "      <th>std</th>\n",
       "      <th>mean</th>\n",
       "      <th>dist_from_mean</th>\n",
       "      <th>half_std_dev</th>\n",
       "      <th>spike_year</th>\n",
       "      <th>within_norm</th>\n",
       "    </tr>\n",
       "    <tr>\n",
       "      <th>date</th>\n",
       "      <th></th>\n",
       "      <th></th>\n",
       "      <th></th>\n",
       "      <th></th>\n",
       "      <th></th>\n",
       "      <th></th>\n",
       "      <th></th>\n",
       "      <th></th>\n",
       "    </tr>\n",
       "  </thead>\n",
       "  <tbody>\n",
       "    <tr>\n",
       "      <th>2011-01-01</th>\n",
       "      <td>908.0</td>\n",
       "      <td>311.864401</td>\n",
       "      <td>66.872015</td>\n",
       "      <td>179.719479</td>\n",
       "      <td>132.144922</td>\n",
       "      <td>213.155486</td>\n",
       "      <td>False</td>\n",
       "      <td>False</td>\n",
       "    </tr>\n",
       "    <tr>\n",
       "      <th>2011-02-01</th>\n",
       "      <td>764.0</td>\n",
       "      <td>328.826077</td>\n",
       "      <td>66.872015</td>\n",
       "      <td>179.719479</td>\n",
       "      <td>149.106598</td>\n",
       "      <td>213.155486</td>\n",
       "      <td>True</td>\n",
       "      <td>False</td>\n",
       "    </tr>\n",
       "    <tr>\n",
       "      <th>2011-03-01</th>\n",
       "      <td>779.0</td>\n",
       "      <td>336.133857</td>\n",
       "      <td>66.872015</td>\n",
       "      <td>179.719479</td>\n",
       "      <td>156.414378</td>\n",
       "      <td>213.155486</td>\n",
       "      <td>True</td>\n",
       "      <td>False</td>\n",
       "    </tr>\n",
       "    <tr>\n",
       "      <th>2011-04-01</th>\n",
       "      <td>523.0</td>\n",
       "      <td>344.441433</td>\n",
       "      <td>66.872015</td>\n",
       "      <td>179.719479</td>\n",
       "      <td>164.721954</td>\n",
       "      <td>213.155486</td>\n",
       "      <td>True</td>\n",
       "      <td>False</td>\n",
       "    </tr>\n",
       "    <tr>\n",
       "      <th>2011-05-01</th>\n",
       "      <td>673.0</td>\n",
       "      <td>342.655047</td>\n",
       "      <td>66.872015</td>\n",
       "      <td>179.719479</td>\n",
       "      <td>162.935568</td>\n",
       "      <td>213.155486</td>\n",
       "      <td>True</td>\n",
       "      <td>False</td>\n",
       "    </tr>\n",
       "    <tr>\n",
       "      <th>2011-06-01</th>\n",
       "      <td>471.0</td>\n",
       "      <td>322.145271</td>\n",
       "      <td>66.872015</td>\n",
       "      <td>179.719479</td>\n",
       "      <td>142.425792</td>\n",
       "      <td>213.155486</td>\n",
       "      <td>True</td>\n",
       "      <td>False</td>\n",
       "    </tr>\n",
       "    <tr>\n",
       "      <th>2011-07-01</th>\n",
       "      <td>530.0</td>\n",
       "      <td>320.116989</td>\n",
       "      <td>66.872015</td>\n",
       "      <td>179.719479</td>\n",
       "      <td>140.397510</td>\n",
       "      <td>213.155486</td>\n",
       "      <td>True</td>\n",
       "      <td>False</td>\n",
       "    </tr>\n",
       "    <tr>\n",
       "      <th>2011-08-01</th>\n",
       "      <td>466.0</td>\n",
       "      <td>314.582134</td>\n",
       "      <td>66.872015</td>\n",
       "      <td>179.719479</td>\n",
       "      <td>134.862655</td>\n",
       "      <td>213.155486</td>\n",
       "      <td>True</td>\n",
       "      <td>False</td>\n",
       "    </tr>\n",
       "    <tr>\n",
       "      <th>2011-09-01</th>\n",
       "      <td>459.0</td>\n",
       "      <td>330.578056</td>\n",
       "      <td>66.872015</td>\n",
       "      <td>179.719479</td>\n",
       "      <td>150.858577</td>\n",
       "      <td>213.155486</td>\n",
       "      <td>True</td>\n",
       "      <td>False</td>\n",
       "    </tr>\n",
       "    <tr>\n",
       "      <th>2011-10-01</th>\n",
       "      <td>656.0</td>\n",
       "      <td>288.287432</td>\n",
       "      <td>66.872015</td>\n",
       "      <td>179.719479</td>\n",
       "      <td>108.567953</td>\n",
       "      <td>213.155486</td>\n",
       "      <td>False</td>\n",
       "      <td>False</td>\n",
       "    </tr>\n",
       "    <tr>\n",
       "      <th>2011-11-01</th>\n",
       "      <td>845.0</td>\n",
       "      <td>286.826331</td>\n",
       "      <td>66.872015</td>\n",
       "      <td>179.719479</td>\n",
       "      <td>107.106852</td>\n",
       "      <td>213.155486</td>\n",
       "      <td>False</td>\n",
       "      <td>False</td>\n",
       "    </tr>\n",
       "    <tr>\n",
       "      <th>2011-12-01</th>\n",
       "      <td>735.0</td>\n",
       "      <td>282.141835</td>\n",
       "      <td>66.872015</td>\n",
       "      <td>179.719479</td>\n",
       "      <td>102.422356</td>\n",
       "      <td>213.155486</td>\n",
       "      <td>False</td>\n",
       "      <td>False</td>\n",
       "    </tr>\n",
       "    <tr>\n",
       "      <th>2012-01-01</th>\n",
       "      <td>535.0</td>\n",
       "      <td>280.114963</td>\n",
       "      <td>66.872015</td>\n",
       "      <td>179.719479</td>\n",
       "      <td>100.395484</td>\n",
       "      <td>213.155486</td>\n",
       "      <td>False</td>\n",
       "      <td>False</td>\n",
       "    </tr>\n",
       "    <tr>\n",
       "      <th>2012-02-01</th>\n",
       "      <td>571.0</td>\n",
       "      <td>269.379487</td>\n",
       "      <td>66.872015</td>\n",
       "      <td>179.719479</td>\n",
       "      <td>89.660008</td>\n",
       "      <td>213.155486</td>\n",
       "      <td>False</td>\n",
       "      <td>False</td>\n",
       "    </tr>\n",
       "    <tr>\n",
       "      <th>2012-03-01</th>\n",
       "      <td>576.0</td>\n",
       "      <td>247.248567</td>\n",
       "      <td>66.872015</td>\n",
       "      <td>179.719479</td>\n",
       "      <td>67.529088</td>\n",
       "      <td>213.155486</td>\n",
       "      <td>False</td>\n",
       "      <td>False</td>\n",
       "    </tr>\n",
       "    <tr>\n",
       "      <th>2012-04-01</th>\n",
       "      <td>580.0</td>\n",
       "      <td>235.465994</td>\n",
       "      <td>66.872015</td>\n",
       "      <td>179.719479</td>\n",
       "      <td>55.746515</td>\n",
       "      <td>213.155486</td>\n",
       "      <td>False</td>\n",
       "      <td>False</td>\n",
       "    </tr>\n",
       "    <tr>\n",
       "      <th>2012-05-01</th>\n",
       "      <td>689.0</td>\n",
       "      <td>229.140773</td>\n",
       "      <td>66.872015</td>\n",
       "      <td>179.719479</td>\n",
       "      <td>49.421294</td>\n",
       "      <td>213.155486</td>\n",
       "      <td>False</td>\n",
       "      <td>False</td>\n",
       "    </tr>\n",
       "    <tr>\n",
       "      <th>2012-06-01</th>\n",
       "      <td>714.0</td>\n",
       "      <td>203.301730</td>\n",
       "      <td>66.872015</td>\n",
       "      <td>179.719479</td>\n",
       "      <td>23.582250</td>\n",
       "      <td>213.155486</td>\n",
       "      <td>False</td>\n",
       "      <td>True</td>\n",
       "    </tr>\n",
       "    <tr>\n",
       "      <th>2012-07-01</th>\n",
       "      <td>668.0</td>\n",
       "      <td>219.748358</td>\n",
       "      <td>66.872015</td>\n",
       "      <td>179.719479</td>\n",
       "      <td>40.028879</td>\n",
       "      <td>213.155486</td>\n",
       "      <td>False</td>\n",
       "      <td>False</td>\n",
       "    </tr>\n",
       "    <tr>\n",
       "      <th>2012-08-01</th>\n",
       "      <td>565.0</td>\n",
       "      <td>206.246805</td>\n",
       "      <td>66.872015</td>\n",
       "      <td>179.719479</td>\n",
       "      <td>26.527326</td>\n",
       "      <td>213.155486</td>\n",
       "      <td>False</td>\n",
       "      <td>True</td>\n",
       "    </tr>\n",
       "    <tr>\n",
       "      <th>2012-09-01</th>\n",
       "      <td>519.0</td>\n",
       "      <td>207.014113</td>\n",
       "      <td>66.872015</td>\n",
       "      <td>179.719479</td>\n",
       "      <td>27.294633</td>\n",
       "      <td>213.155486</td>\n",
       "      <td>False</td>\n",
       "      <td>True</td>\n",
       "    </tr>\n",
       "    <tr>\n",
       "      <th>2012-10-01</th>\n",
       "      <td>653.0</td>\n",
       "      <td>200.321420</td>\n",
       "      <td>66.872015</td>\n",
       "      <td>179.719479</td>\n",
       "      <td>20.601941</td>\n",
       "      <td>213.155486</td>\n",
       "      <td>False</td>\n",
       "      <td>True</td>\n",
       "    </tr>\n",
       "    <tr>\n",
       "      <th>2012-11-01</th>\n",
       "      <td>770.0</td>\n",
       "      <td>187.132466</td>\n",
       "      <td>66.872015</td>\n",
       "      <td>179.719479</td>\n",
       "      <td>7.412987</td>\n",
       "      <td>213.155486</td>\n",
       "      <td>False</td>\n",
       "      <td>True</td>\n",
       "    </tr>\n",
       "    <tr>\n",
       "      <th>2012-12-01</th>\n",
       "      <td>904.0</td>\n",
       "      <td>181.605740</td>\n",
       "      <td>66.872015</td>\n",
       "      <td>179.719479</td>\n",
       "      <td>1.886261</td>\n",
       "      <td>213.155486</td>\n",
       "      <td>False</td>\n",
       "      <td>True</td>\n",
       "    </tr>\n",
       "    <tr>\n",
       "      <th>2013-01-01</th>\n",
       "      <td>877.0</td>\n",
       "      <td>181.983777</td>\n",
       "      <td>66.872015</td>\n",
       "      <td>179.719479</td>\n",
       "      <td>2.264298</td>\n",
       "      <td>213.155486</td>\n",
       "      <td>False</td>\n",
       "      <td>True</td>\n",
       "    </tr>\n",
       "    <tr>\n",
       "      <th>2013-02-01</th>\n",
       "      <td>625.0</td>\n",
       "      <td>175.197555</td>\n",
       "      <td>66.872015</td>\n",
       "      <td>179.719479</td>\n",
       "      <td>-4.521924</td>\n",
       "      <td>213.155486</td>\n",
       "      <td>False</td>\n",
       "      <td>True</td>\n",
       "    </tr>\n",
       "    <tr>\n",
       "      <th>2013-03-01</th>\n",
       "      <td>617.0</td>\n",
       "      <td>174.349383</td>\n",
       "      <td>66.872015</td>\n",
       "      <td>179.719479</td>\n",
       "      <td>-5.370096</td>\n",
       "      <td>213.155486</td>\n",
       "      <td>False</td>\n",
       "      <td>True</td>\n",
       "    </tr>\n",
       "    <tr>\n",
       "      <th>2013-04-01</th>\n",
       "      <td>970.0</td>\n",
       "      <td>174.825368</td>\n",
       "      <td>66.872015</td>\n",
       "      <td>179.719479</td>\n",
       "      <td>-4.894111</td>\n",
       "      <td>213.155486</td>\n",
       "      <td>False</td>\n",
       "      <td>True</td>\n",
       "    </tr>\n",
       "    <tr>\n",
       "      <th>2013-05-01</th>\n",
       "      <td>937.0</td>\n",
       "      <td>172.467906</td>\n",
       "      <td>66.872015</td>\n",
       "      <td>179.719479</td>\n",
       "      <td>-7.251573</td>\n",
       "      <td>213.155486</td>\n",
       "      <td>False</td>\n",
       "      <td>True</td>\n",
       "    </tr>\n",
       "    <tr>\n",
       "      <th>2013-06-01</th>\n",
       "      <td>913.0</td>\n",
       "      <td>159.978576</td>\n",
       "      <td>66.872015</td>\n",
       "      <td>179.719479</td>\n",
       "      <td>-19.740903</td>\n",
       "      <td>213.155486</td>\n",
       "      <td>False</td>\n",
       "      <td>True</td>\n",
       "    </tr>\n",
       "    <tr>\n",
       "      <th>2013-07-01</th>\n",
       "      <td>1031.0</td>\n",
       "      <td>159.021831</td>\n",
       "      <td>66.872015</td>\n",
       "      <td>179.719479</td>\n",
       "      <td>-20.697648</td>\n",
       "      <td>213.155486</td>\n",
       "      <td>False</td>\n",
       "      <td>True</td>\n",
       "    </tr>\n",
       "    <tr>\n",
       "      <th>2013-08-01</th>\n",
       "      <td>770.0</td>\n",
       "      <td>155.534614</td>\n",
       "      <td>66.872015</td>\n",
       "      <td>179.719479</td>\n",
       "      <td>-24.184865</td>\n",
       "      <td>213.155486</td>\n",
       "      <td>False</td>\n",
       "      <td>True</td>\n",
       "    </tr>\n",
       "    <tr>\n",
       "      <th>2013-09-01</th>\n",
       "      <td>860.0</td>\n",
       "      <td>149.964061</td>\n",
       "      <td>66.872015</td>\n",
       "      <td>179.719479</td>\n",
       "      <td>-29.755418</td>\n",
       "      <td>213.155486</td>\n",
       "      <td>False</td>\n",
       "      <td>True</td>\n",
       "    </tr>\n",
       "    <tr>\n",
       "      <th>2013-10-01</th>\n",
       "      <td>1058.0</td>\n",
       "      <td>145.700933</td>\n",
       "      <td>66.872015</td>\n",
       "      <td>179.719479</td>\n",
       "      <td>-34.018546</td>\n",
       "      <td>213.155486</td>\n",
       "      <td>False</td>\n",
       "      <td>False</td>\n",
       "    </tr>\n",
       "    <tr>\n",
       "      <th>2013-11-01</th>\n",
       "      <td>1113.0</td>\n",
       "      <td>135.128048</td>\n",
       "      <td>66.872015</td>\n",
       "      <td>179.719479</td>\n",
       "      <td>-44.591431</td>\n",
       "      <td>213.155486</td>\n",
       "      <td>False</td>\n",
       "      <td>False</td>\n",
       "    </tr>\n",
       "    <tr>\n",
       "      <th>2013-12-01</th>\n",
       "      <td>1115.0</td>\n",
       "      <td>135.730948</td>\n",
       "      <td>66.872015</td>\n",
       "      <td>179.719479</td>\n",
       "      <td>-43.988531</td>\n",
       "      <td>213.155486</td>\n",
       "      <td>False</td>\n",
       "      <td>False</td>\n",
       "    </tr>\n",
       "    <tr>\n",
       "      <th>2014-01-01</th>\n",
       "      <td>1011.0</td>\n",
       "      <td>139.985654</td>\n",
       "      <td>66.872015</td>\n",
       "      <td>179.719479</td>\n",
       "      <td>-39.733825</td>\n",
       "      <td>213.155486</td>\n",
       "      <td>False</td>\n",
       "      <td>False</td>\n",
       "    </tr>\n",
       "    <tr>\n",
       "      <th>2014-02-01</th>\n",
       "      <td>874.0</td>\n",
       "      <td>169.370683</td>\n",
       "      <td>66.872015</td>\n",
       "      <td>179.719479</td>\n",
       "      <td>-10.348796</td>\n",
       "      <td>213.155486</td>\n",
       "      <td>False</td>\n",
       "      <td>True</td>\n",
       "    </tr>\n",
       "    <tr>\n",
       "      <th>2014-03-01</th>\n",
       "      <td>828.0</td>\n",
       "      <td>222.905051</td>\n",
       "      <td>66.872015</td>\n",
       "      <td>179.719479</td>\n",
       "      <td>43.185571</td>\n",
       "      <td>213.155486</td>\n",
       "      <td>False</td>\n",
       "      <td>False</td>\n",
       "    </tr>\n",
       "    <tr>\n",
       "      <th>2014-04-01</th>\n",
       "      <td>832.0</td>\n",
       "      <td>229.199911</td>\n",
       "      <td>66.872015</td>\n",
       "      <td>179.719479</td>\n",
       "      <td>49.480432</td>\n",
       "      <td>213.155486</td>\n",
       "      <td>False</td>\n",
       "      <td>False</td>\n",
       "    </tr>\n",
       "  </tbody>\n",
       "</table>\n",
       "</div>"
      ],
      "text/plain": [
       "            quantity    inflated        std        mean  dist_from_mean  \\\n",
       "date                                                                      \n",
       "2011-01-01     908.0  311.864401  66.872015  179.719479      132.144922   \n",
       "2011-02-01     764.0  328.826077  66.872015  179.719479      149.106598   \n",
       "2011-03-01     779.0  336.133857  66.872015  179.719479      156.414378   \n",
       "2011-04-01     523.0  344.441433  66.872015  179.719479      164.721954   \n",
       "2011-05-01     673.0  342.655047  66.872015  179.719479      162.935568   \n",
       "2011-06-01     471.0  322.145271  66.872015  179.719479      142.425792   \n",
       "2011-07-01     530.0  320.116989  66.872015  179.719479      140.397510   \n",
       "2011-08-01     466.0  314.582134  66.872015  179.719479      134.862655   \n",
       "2011-09-01     459.0  330.578056  66.872015  179.719479      150.858577   \n",
       "2011-10-01     656.0  288.287432  66.872015  179.719479      108.567953   \n",
       "2011-11-01     845.0  286.826331  66.872015  179.719479      107.106852   \n",
       "2011-12-01     735.0  282.141835  66.872015  179.719479      102.422356   \n",
       "2012-01-01     535.0  280.114963  66.872015  179.719479      100.395484   \n",
       "2012-02-01     571.0  269.379487  66.872015  179.719479       89.660008   \n",
       "2012-03-01     576.0  247.248567  66.872015  179.719479       67.529088   \n",
       "2012-04-01     580.0  235.465994  66.872015  179.719479       55.746515   \n",
       "2012-05-01     689.0  229.140773  66.872015  179.719479       49.421294   \n",
       "2012-06-01     714.0  203.301730  66.872015  179.719479       23.582250   \n",
       "2012-07-01     668.0  219.748358  66.872015  179.719479       40.028879   \n",
       "2012-08-01     565.0  206.246805  66.872015  179.719479       26.527326   \n",
       "2012-09-01     519.0  207.014113  66.872015  179.719479       27.294633   \n",
       "2012-10-01     653.0  200.321420  66.872015  179.719479       20.601941   \n",
       "2012-11-01     770.0  187.132466  66.872015  179.719479        7.412987   \n",
       "2012-12-01     904.0  181.605740  66.872015  179.719479        1.886261   \n",
       "2013-01-01     877.0  181.983777  66.872015  179.719479        2.264298   \n",
       "2013-02-01     625.0  175.197555  66.872015  179.719479       -4.521924   \n",
       "2013-03-01     617.0  174.349383  66.872015  179.719479       -5.370096   \n",
       "2013-04-01     970.0  174.825368  66.872015  179.719479       -4.894111   \n",
       "2013-05-01     937.0  172.467906  66.872015  179.719479       -7.251573   \n",
       "2013-06-01     913.0  159.978576  66.872015  179.719479      -19.740903   \n",
       "2013-07-01    1031.0  159.021831  66.872015  179.719479      -20.697648   \n",
       "2013-08-01     770.0  155.534614  66.872015  179.719479      -24.184865   \n",
       "2013-09-01     860.0  149.964061  66.872015  179.719479      -29.755418   \n",
       "2013-10-01    1058.0  145.700933  66.872015  179.719479      -34.018546   \n",
       "2013-11-01    1113.0  135.128048  66.872015  179.719479      -44.591431   \n",
       "2013-12-01    1115.0  135.730948  66.872015  179.719479      -43.988531   \n",
       "2014-01-01    1011.0  139.985654  66.872015  179.719479      -39.733825   \n",
       "2014-02-01     874.0  169.370683  66.872015  179.719479      -10.348796   \n",
       "2014-03-01     828.0  222.905051  66.872015  179.719479       43.185571   \n",
       "2014-04-01     832.0  229.199911  66.872015  179.719479       49.480432   \n",
       "\n",
       "            half_std_dev  spike_year  within_norm  \n",
       "date                                               \n",
       "2011-01-01    213.155486       False        False  \n",
       "2011-02-01    213.155486        True        False  \n",
       "2011-03-01    213.155486        True        False  \n",
       "2011-04-01    213.155486        True        False  \n",
       "2011-05-01    213.155486        True        False  \n",
       "2011-06-01    213.155486        True        False  \n",
       "2011-07-01    213.155486        True        False  \n",
       "2011-08-01    213.155486        True        False  \n",
       "2011-09-01    213.155486        True        False  \n",
       "2011-10-01    213.155486       False        False  \n",
       "2011-11-01    213.155486       False        False  \n",
       "2011-12-01    213.155486       False        False  \n",
       "2012-01-01    213.155486       False        False  \n",
       "2012-02-01    213.155486       False        False  \n",
       "2012-03-01    213.155486       False        False  \n",
       "2012-04-01    213.155486       False        False  \n",
       "2012-05-01    213.155486       False        False  \n",
       "2012-06-01    213.155486       False         True  \n",
       "2012-07-01    213.155486       False        False  \n",
       "2012-08-01    213.155486       False         True  \n",
       "2012-09-01    213.155486       False         True  \n",
       "2012-10-01    213.155486       False         True  \n",
       "2012-11-01    213.155486       False         True  \n",
       "2012-12-01    213.155486       False         True  \n",
       "2013-01-01    213.155486       False         True  \n",
       "2013-02-01    213.155486       False         True  \n",
       "2013-03-01    213.155486       False         True  \n",
       "2013-04-01    213.155486       False         True  \n",
       "2013-05-01    213.155486       False         True  \n",
       "2013-06-01    213.155486       False         True  \n",
       "2013-07-01    213.155486       False         True  \n",
       "2013-08-01    213.155486       False         True  \n",
       "2013-09-01    213.155486       False         True  \n",
       "2013-10-01    213.155486       False        False  \n",
       "2013-11-01    213.155486       False        False  \n",
       "2013-12-01    213.155486       False        False  \n",
       "2014-01-01    213.155486       False        False  \n",
       "2014-02-01    213.155486       False         True  \n",
       "2014-03-01    213.155486       False        False  \n",
       "2014-04-01    213.155486       False        False  "
      ]
     },
     "execution_count": 253,
     "metadata": {},
     "output_type": "execute_result"
    }
   ],
   "source": [
    "within_norm = ['1995-12-01','1995-12-01','1998-06-01','2005-02-01','2012-06-01','2012-06-01']\n",
    "blob['2011':].head(40)"
   ]
  },
  {
   "cell_type": "code",
   "execution_count": 257,
   "metadata": {},
   "outputs": [
    {
     "data": {
      "text/plain": [
       "0   1994-09-01\n",
       "5   1995-03-01\n",
       "1   1997-05-01\n",
       "2   2002-08-01\n",
       "3   2011-04-01\n",
       "4   2011-09-01\n",
       "Name: 0, dtype: datetime64[ns]"
      ]
     },
     "execution_count": 257,
     "metadata": {},
     "output_type": "execute_result"
    }
   ],
   "source": [
    "spike_years['return_to_norm'] = "
   ]
  },
  {
   "cell_type": "code",
   "execution_count": null,
   "metadata": {},
   "outputs": [],
   "source": []
  }
 ],
 "metadata": {
  "kernelspec": {
   "display_name": "Python 3",
   "language": "python",
   "name": "python3"
  },
  "language_info": {
   "codemirror_mode": {
    "name": "ipython",
    "version": 3
   },
   "file_extension": ".py",
   "mimetype": "text/x-python",
   "name": "python",
   "nbconvert_exporter": "python",
   "pygments_lexer": "ipython3",
   "version": "3.7.3"
  }
 },
 "nbformat": 4,
 "nbformat_minor": 2
}
