{
 "cells": [
  {
   "cell_type": "code",
   "execution_count": 1,
   "metadata": {},
   "outputs": [],
   "source": [
    "import pandas as pd\n",
    "import matplotlib.pyplot as plt\n",
    "%matplotlib inline\n",
    "import colombia_weather\n",
    "import prepare"
   ]
  },
  {
   "cell_type": "code",
   "execution_count": 165,
   "metadata": {},
   "outputs": [],
   "source": [
    "blob = prepare.get_data()"
   ]
  },
  {
   "cell_type": "code",
   "execution_count": 167,
   "metadata": {},
   "outputs": [
    {
     "data": {
      "text/html": [
       "<div>\n",
       "<style scoped>\n",
       "    .dataframe tbody tr th:only-of-type {\n",
       "        vertical-align: middle;\n",
       "    }\n",
       "\n",
       "    .dataframe tbody tr th {\n",
       "        vertical-align: top;\n",
       "    }\n",
       "\n",
       "    .dataframe thead th {\n",
       "        text-align: right;\n",
       "    }\n",
       "</style>\n",
       "<table border=\"1\" class=\"dataframe\">\n",
       "  <thead>\n",
       "    <tr style=\"text-align: right;\">\n",
       "      <th></th>\n",
       "      <th>region</th>\n",
       "      <th>mean_precip</th>\n",
       "      <th>mean_temp</th>\n",
       "      <th>min_temp</th>\n",
       "      <th>max_temp</th>\n",
       "      <th>price</th>\n",
       "      <th>quantity</th>\n",
       "      <th>inflated</th>\n",
       "    </tr>\n",
       "    <tr>\n",
       "      <th>date</th>\n",
       "      <th></th>\n",
       "      <th></th>\n",
       "      <th></th>\n",
       "      <th></th>\n",
       "      <th></th>\n",
       "      <th></th>\n",
       "      <th></th>\n",
       "      <th></th>\n",
       "    </tr>\n",
       "  </thead>\n",
       "  <tbody>\n",
       "    <tr>\n",
       "      <th>2018-11-01</th>\n",
       "      <td>Risaralda</td>\n",
       "      <td>0.287551</td>\n",
       "      <td>71.545455</td>\n",
       "      <td>62.0</td>\n",
       "      <td>84.0</td>\n",
       "      <td>140.750333</td>\n",
       "      <td>1300.0</td>\n",
       "      <td>140.750333</td>\n",
       "    </tr>\n",
       "    <tr>\n",
       "      <th>2018-11-01</th>\n",
       "      <td>Santander</td>\n",
       "      <td>0.035385</td>\n",
       "      <td>71.872727</td>\n",
       "      <td>63.0</td>\n",
       "      <td>86.0</td>\n",
       "      <td>140.750333</td>\n",
       "      <td>1300.0</td>\n",
       "      <td>140.750333</td>\n",
       "    </tr>\n",
       "    <tr>\n",
       "      <th>2018-11-01</th>\n",
       "      <td>Tolima</td>\n",
       "      <td>0.081429</td>\n",
       "      <td>83.381818</td>\n",
       "      <td>58.0</td>\n",
       "      <td>94.0</td>\n",
       "      <td>140.750333</td>\n",
       "      <td>1300.0</td>\n",
       "      <td>140.750333</td>\n",
       "    </tr>\n",
       "    <tr>\n",
       "      <th>2018-11-01</th>\n",
       "      <td>Valle</td>\n",
       "      <td>0.246889</td>\n",
       "      <td>84.145455</td>\n",
       "      <td>72.0</td>\n",
       "      <td>92.0</td>\n",
       "      <td>140.750333</td>\n",
       "      <td>1300.0</td>\n",
       "      <td>140.750333</td>\n",
       "    </tr>\n",
       "    <tr>\n",
       "      <th>2018-12-01</th>\n",
       "      <td>NaN</td>\n",
       "      <td>NaN</td>\n",
       "      <td>NaN</td>\n",
       "      <td>NaN</td>\n",
       "      <td>NaN</td>\n",
       "      <td>129.622903</td>\n",
       "      <td>1283.0</td>\n",
       "      <td>129.622903</td>\n",
       "    </tr>\n",
       "  </tbody>\n",
       "</table>\n",
       "</div>"
      ],
      "text/plain": [
       "               region  mean_precip  mean_temp  min_temp  max_temp       price  \\\n",
       "date                                                                            \n",
       "2018-11-01  Risaralda     0.287551  71.545455      62.0      84.0  140.750333   \n",
       "2018-11-01  Santander     0.035385  71.872727      63.0      86.0  140.750333   \n",
       "2018-11-01     Tolima     0.081429  83.381818      58.0      94.0  140.750333   \n",
       "2018-11-01      Valle     0.246889  84.145455      72.0      92.0  140.750333   \n",
       "2018-12-01        NaN          NaN        NaN       NaN       NaN  129.622903   \n",
       "\n",
       "            quantity    inflated  \n",
       "date                              \n",
       "2018-11-01    1300.0  140.750333  \n",
       "2018-11-01    1300.0  140.750333  \n",
       "2018-11-01    1300.0  140.750333  \n",
       "2018-11-01    1300.0  140.750333  \n",
       "2018-12-01    1283.0  129.622903  "
      ]
     },
     "execution_count": 167,
     "metadata": {},
     "output_type": "execute_result"
    }
   ],
   "source": [
    "blob.tail()"
   ]
  },
  {
   "cell_type": "code",
   "execution_count": null,
   "metadata": {},
   "outputs": [],
   "source": [
    "df = pd.read_csv(\"psd_coffee.csv\")"
   ]
  },
  {
   "cell_type": "code",
   "execution_count": null,
   "metadata": {},
   "outputs": [],
   "source": [
    "df = df[df.Country_Name == \"Colombia\"]"
   ]
  },
  {
   "cell_type": "code",
   "execution_count": null,
   "metadata": {},
   "outputs": [],
   "source": [
    "df.dtypes"
   ]
  },
  {
   "cell_type": "code",
   "execution_count": null,
   "metadata": {},
   "outputs": [],
   "source": [
    "df[df.Market_Year == 2015]"
   ]
  },
  {
   "cell_type": "code",
   "execution_count": null,
   "metadata": {},
   "outputs": [],
   "source": [
    "import colombia_weather"
   ]
  },
  {
   "cell_type": "code",
   "execution_count": null,
   "metadata": {},
   "outputs": [],
   "source": [
    "pd.DataFrame.from_dict(colombia_weather.stations,orient=\"index\")"
   ]
  },
  {
   "cell_type": "code",
   "execution_count": null,
   "metadata": {},
   "outputs": [],
   "source": [
    "from colombia_weather import weather_stations"
   ]
  },
  {
   "cell_type": "code",
   "execution_count": null,
   "metadata": {
    "scrolled": false
   },
   "outputs": [],
   "source": [
    "colombia_weather.weather_stations"
   ]
  },
  {
   "cell_type": "code",
   "execution_count": null,
   "metadata": {
    "scrolled": true
   },
   "outputs": [],
   "source": [
    "colombia_weather.get_weather()"
   ]
  },
  {
   "cell_type": "code",
   "execution_count": null,
   "metadata": {},
   "outputs": [],
   "source": [
    "df = pd.read_csv(\"coffee_data/coffee.csv\")"
   ]
  },
  {
   "cell_type": "code",
   "execution_count": null,
   "metadata": {},
   "outputs": [],
   "source": [
    "df.price_adjusted_inflation.plot()"
   ]
  },
  {
   "cell_type": "code",
   "execution_count": null,
   "metadata": {},
   "outputs": [],
   "source": [
    "df"
   ]
  },
  {
   "cell_type": "code",
   "execution_count": null,
   "metadata": {},
   "outputs": [],
   "source": [
    "df.date = df.date.apply(pd.to_datetime)"
   ]
  },
  {
   "cell_type": "code",
   "execution_count": null,
   "metadata": {},
   "outputs": [],
   "source": [
    "df.set_index('date',inplace=True)"
   ]
  },
  {
   "cell_type": "code",
   "execution_count": null,
   "metadata": {},
   "outputs": [],
   "source": [
    "df.price_adjusted_inflation.plot()\n",
    "plt.title(\"Price of coffee 1958-\")"
   ]
  },
  {
   "cell_type": "code",
   "execution_count": null,
   "metadata": {},
   "outputs": [],
   "source": []
  },
  {
   "cell_type": "code",
   "execution_count": null,
   "metadata": {},
   "outputs": [],
   "source": [
    "import plotly\n",
    "import pandas as pd\n",
    "import plotly.graph_objects as go"
   ]
  },
  {
   "cell_type": "code",
   "execution_count": null,
   "metadata": {},
   "outputs": [],
   "source": [
    "url = \"https://raw.githubusercontent.com/plotly/datasets/master/gapminderDataFiveYear.csv\"\n",
    "dataset = pd.read_csv(url)"
   ]
  },
  {
   "cell_type": "code",
   "execution_count": null,
   "metadata": {},
   "outputs": [],
   "source": [
    "years = [\"1952\", \"1962\", \"1967\", \"1972\", \"1977\", \"1982\", \"1987\", \"1992\", \"1997\", \"2002\",\"2007\"]"
   ]
  },
  {
   "cell_type": "code",
   "execution_count": null,
   "metadata": {},
   "outputs": [],
   "source": [
    "continents = list(dataset['continent'].unique())"
   ]
  },
  {
   "cell_type": "code",
   "execution_count": null,
   "metadata": {},
   "outputs": [],
   "source": [
    "fig_dict = {\n",
    "    \"data\": [],\n",
    "    \"layout\":{},\n",
    "    \"frames\": []\n",
    "    }"
   ]
  },
  {
   "cell_type": "code",
   "execution_count": null,
   "metadata": {},
   "outputs": [],
   "source": []
  },
  {
   "cell_type": "code",
   "execution_count": null,
   "metadata": {},
   "outputs": [],
   "source": [
    "fig_dict['layout']['xaxis'] = {\"range\": [30,85],'title':'Life Expactancy'}"
   ]
  },
  {
   "cell_type": "code",
   "execution_count": null,
   "metadata": {},
   "outputs": [],
   "source": [
    "# Libraries\n",
    "import numpy as np\n",
    "import matplotlib.pyplot as plt\n",
    "from matplotlib.sankey import Sankey\n",
    " \n",
    "# basic sankey chart\n",
    "Sankey(flows=[1, -0.20, -0.15, -0.05, -0.50, -0.10], labels=['Colombia', 'First', 'Second', 'Third', 'Fourth', 'Fifth'], orientations=[0, 1, -1, -1, 0,1]).finish()\n",
    "plt.title(\"Sankey diagram with default settings\")\n"
   ]
  },
  {
   "cell_type": "code",
   "execution_count": null,
   "metadata": {},
   "outputs": [],
   "source": [
    "import plotly.graph_objects as go\n",
    "\n",
    "fig = go.Figure(go.Sankey(\n",
    "    arrangement = \"snap\",\n",
    "    node = {\n",
    "        \"label\": [\"A\", \"B\", \"C\", \"D\", \"E\", \"F\"],\n",
    "        \"x\": [0.5, 0.1, 0.5, 0.7, 0.3, 0.5],\n",
    "        \"y\": [0.7, 0.5, 0.2, 0.4, 0.2, 0.3],\n",
    "        'pad':10},  # 10 Pixels \n",
    "    link = {\n",
    "        \"source\": [0, 0, 1, 2, 5, 4, 3, 5],\n",
    "        \"target\": [5, 3, 4, 3, 0, 2, 2, 3],\n",
    "        \"value\": [1, 2, 1, 1, 1, 1, 1, 2]}))\n",
    "\n",
    "fig.show()"
   ]
  },
  {
   "cell_type": "code",
   "execution_count": null,
   "metadata": {},
   "outputs": [],
   "source": [
    "import plotly.graph_objects as go\n",
    "import urllib, json\n",
    "\n",
    "url = 'https://raw.githubusercontent.com/plotly/plotly.js/master/test/image/mocks/sankey_energy.json'\n",
    "response = urllib.request.urlopen(url)\n",
    "data = json.loads(response.read())\n",
    "\n",
    "fig = go.Figure(data=[go.Sankey(\n",
    "    valueformat = \".0f\",\n",
    "    valuesuffix = \"TWh\",\n",
    "    node = dict(\n",
    "      pad = 15,\n",
    "      thickness = 15,\n",
    "      line = dict(color = \"black\", width = 0.5),\n",
    "      label =  data['data'][0]['node']['label'],\n",
    "      color =  data['data'][0]['node']['color']\n",
    "    ),\n",
    "    link = dict(\n",
    "      source =  data['data'][0]['link']['source'],\n",
    "      target =  data['data'][0]['link']['target'],\n",
    "      value =  data['data'][0]['link']['value'],\n",
    "      label =  data['data'][0]['link']['label']\n",
    "  ))])\n",
    "\n",
    "fig.update_layout(\n",
    "    hovermode = 'x',\n",
    "    title=\"Energy forecast for 2050<br>Source: Department of Energy & Climate Change, Tom Counsell via <a href='https://bost.ocks.org/mike/sankey/'>Mike Bostock</a>\",\n",
    "    font=dict(size = 10, color = 'white'),\n",
    "    plot_bgcolor='black',\n",
    "    paper_bgcolor='black'\n",
    ")\n",
    "\n",
    "fig.show()"
   ]
  },
  {
   "cell_type": "code",
   "execution_count": null,
   "metadata": {},
   "outputs": [],
   "source": [
    "country_code = pd.read_json('coffee_data/country_codes.json')"
   ]
  },
  {
   "cell_type": "code",
   "execution_count": null,
   "metadata": {},
   "outputs": [],
   "source": [
    "country_code.columns = ['country','dest']"
   ]
  },
  {
   "cell_type": "code",
   "execution_count": null,
   "metadata": {},
   "outputs": [],
   "source": [
    "country_code"
   ]
  },
  {
   "cell_type": "code",
   "execution_count": null,
   "metadata": {},
   "outputs": [],
   "source": [
    "coffee_export_by_country = pd.read_csv(\"coffee_data/coffee_export_numbers.csv\")"
   ]
  },
  {
   "cell_type": "code",
   "execution_count": null,
   "metadata": {},
   "outputs": [],
   "source": [
    "coffee_export_by_country.shape"
   ]
  },
  {
   "cell_type": "code",
   "execution_count": null,
   "metadata": {},
   "outputs": [],
   "source": [
    "coffee_export_by_country = pd.merge(coffee_export_by_country,country_code,on=\"dest\",how=\"outer\")"
   ]
  },
  {
   "cell_type": "code",
   "execution_count": null,
   "metadata": {},
   "outputs": [],
   "source": [
    "coffee_export_by_country.to_csv(\"coffee_data/coffee_export_by_country.csv\")"
   ]
  },
  {
   "cell_type": "code",
   "execution_count": null,
   "metadata": {},
   "outputs": [],
   "source": [
    "df = pd.read_csv('coffee_data/coffee_export_by_country.csv')"
   ]
  },
  {
   "cell_type": "code",
   "execution_count": null,
   "metadata": {},
   "outputs": [],
   "source": [
    "df.shape"
   ]
  },
  {
   "cell_type": "code",
   "execution_count": 52,
   "metadata": {},
   "outputs": [],
   "source": [
    "df = colombia_weather.get_weather()"
   ]
  },
  {
   "cell_type": "code",
   "execution_count": 53,
   "metadata": {},
   "outputs": [
    {
     "data": {
      "text/plain": [
       "0.6217877265790696"
      ]
     },
     "execution_count": 53,
     "metadata": {},
     "output_type": "execute_result"
    }
   ],
   "source": [
    "df[df.PRCP >=0].shape[0]/df.shape[0]"
   ]
  },
  {
   "cell_type": "code",
   "execution_count": 54,
   "metadata": {},
   "outputs": [
    {
     "data": {
      "text/html": [
       "<div>\n",
       "<style scoped>\n",
       "    .dataframe tbody tr th:only-of-type {\n",
       "        vertical-align: middle;\n",
       "    }\n",
       "\n",
       "    .dataframe tbody tr th {\n",
       "        vertical-align: top;\n",
       "    }\n",
       "\n",
       "    .dataframe thead th {\n",
       "        text-align: right;\n",
       "    }\n",
       "</style>\n",
       "<table border=\"1\" class=\"dataframe\">\n",
       "  <thead>\n",
       "    <tr style=\"text-align: right;\">\n",
       "      <th></th>\n",
       "      <th>STATION</th>\n",
       "      <th>NAME</th>\n",
       "      <th>LATITUDE</th>\n",
       "      <th>LONGITUDE</th>\n",
       "      <th>ELEVATION</th>\n",
       "      <th>DATE</th>\n",
       "      <th>PRCP</th>\n",
       "      <th>TAVG</th>\n",
       "      <th>TMAX</th>\n",
       "      <th>TMIN</th>\n",
       "    </tr>\n",
       "  </thead>\n",
       "  <tbody>\n",
       "    <tr>\n",
       "      <th>0</th>\n",
       "      <td>COM00080094</td>\n",
       "      <td>PALONEGRO, CO</td>\n",
       "      <td>7.127</td>\n",
       "      <td>-73.185</td>\n",
       "      <td>1187.8</td>\n",
       "      <td>1990-01-06</td>\n",
       "      <td>NaN</td>\n",
       "      <td>72.0</td>\n",
       "      <td>NaN</td>\n",
       "      <td>NaN</td>\n",
       "    </tr>\n",
       "    <tr>\n",
       "      <th>1</th>\n",
       "      <td>COM00080094</td>\n",
       "      <td>PALONEGRO, CO</td>\n",
       "      <td>7.127</td>\n",
       "      <td>-73.185</td>\n",
       "      <td>1187.8</td>\n",
       "      <td>1990-01-08</td>\n",
       "      <td>NaN</td>\n",
       "      <td>69.0</td>\n",
       "      <td>NaN</td>\n",
       "      <td>NaN</td>\n",
       "    </tr>\n",
       "    <tr>\n",
       "      <th>2</th>\n",
       "      <td>COM00080094</td>\n",
       "      <td>PALONEGRO, CO</td>\n",
       "      <td>7.127</td>\n",
       "      <td>-73.185</td>\n",
       "      <td>1187.8</td>\n",
       "      <td>1990-01-09</td>\n",
       "      <td>NaN</td>\n",
       "      <td>71.0</td>\n",
       "      <td>NaN</td>\n",
       "      <td>NaN</td>\n",
       "    </tr>\n",
       "    <tr>\n",
       "      <th>3</th>\n",
       "      <td>COM00080094</td>\n",
       "      <td>PALONEGRO, CO</td>\n",
       "      <td>7.127</td>\n",
       "      <td>-73.185</td>\n",
       "      <td>1187.8</td>\n",
       "      <td>1990-01-10</td>\n",
       "      <td>0.04</td>\n",
       "      <td>70.0</td>\n",
       "      <td>NaN</td>\n",
       "      <td>64.0</td>\n",
       "    </tr>\n",
       "    <tr>\n",
       "      <th>4</th>\n",
       "      <td>COM00080094</td>\n",
       "      <td>PALONEGRO, CO</td>\n",
       "      <td>7.127</td>\n",
       "      <td>-73.185</td>\n",
       "      <td>1187.8</td>\n",
       "      <td>1990-01-11</td>\n",
       "      <td>0.00</td>\n",
       "      <td>69.0</td>\n",
       "      <td>75.0</td>\n",
       "      <td>64.0</td>\n",
       "    </tr>\n",
       "  </tbody>\n",
       "</table>\n",
       "</div>"
      ],
      "text/plain": [
       "       STATION           NAME  LATITUDE  LONGITUDE  ELEVATION        DATE  \\\n",
       "0  COM00080094  PALONEGRO, CO     7.127    -73.185     1187.8  1990-01-06   \n",
       "1  COM00080094  PALONEGRO, CO     7.127    -73.185     1187.8  1990-01-08   \n",
       "2  COM00080094  PALONEGRO, CO     7.127    -73.185     1187.8  1990-01-09   \n",
       "3  COM00080094  PALONEGRO, CO     7.127    -73.185     1187.8  1990-01-10   \n",
       "4  COM00080094  PALONEGRO, CO     7.127    -73.185     1187.8  1990-01-11   \n",
       "\n",
       "   PRCP  TAVG  TMAX  TMIN  \n",
       "0   NaN  72.0   NaN   NaN  \n",
       "1   NaN  69.0   NaN   NaN  \n",
       "2   NaN  71.0   NaN   NaN  \n",
       "3  0.04  70.0   NaN  64.0  \n",
       "4  0.00  69.0  75.0  64.0  "
      ]
     },
     "execution_count": 54,
     "metadata": {},
     "output_type": "execute_result"
    }
   ],
   "source": [
    "df[df.DATE > '1990-01-01'].head(5)"
   ]
  },
  {
   "cell_type": "code",
   "execution_count": 55,
   "metadata": {},
   "outputs": [],
   "source": [
    "df.DATE = pd.to_datetime(df.DATE)\n",
    "df[\"DATE2\"] = df.DATE"
   ]
  },
  {
   "cell_type": "code",
   "execution_count": null,
   "metadata": {},
   "outputs": [],
   "source": []
  },
  {
   "cell_type": "code",
   "execution_count": 4,
   "metadata": {},
   "outputs": [
    {
     "data": {
      "text/plain": [
       "STATION              object\n",
       "NAME                 object\n",
       "LATITUDE            float64\n",
       "LONGITUDE           float64\n",
       "ELEVATION           float64\n",
       "DATE         datetime64[ns]\n",
       "PRCP                float64\n",
       "TAVG                float64\n",
       "TMAX                float64\n",
       "TMIN                float64\n",
       "DATE2        datetime64[ns]\n",
       "dtype: object"
      ]
     },
     "execution_count": 4,
     "metadata": {},
     "output_type": "execute_result"
    }
   ],
   "source": [
    "df.dtypes"
   ]
  },
  {
   "cell_type": "code",
   "execution_count": 5,
   "metadata": {},
   "outputs": [],
   "source": [
    "df.set_index('DATE',inplace=True)"
   ]
  },
  {
   "cell_type": "code",
   "execution_count": 6,
   "metadata": {},
   "outputs": [],
   "source": [
    "stations = df.NAME.unique()"
   ]
  },
  {
   "cell_type": "code",
   "execution_count": null,
   "metadata": {},
   "outputs": [],
   "source": []
  },
  {
   "cell_type": "code",
   "execution_count": 7,
   "metadata": {},
   "outputs": [],
   "source": [
    "station_activity = pd.DataFrame(df.NAME.unique(),columns=['station_name'])"
   ]
  },
  {
   "cell_type": "code",
   "execution_count": 8,
   "metadata": {},
   "outputs": [
    {
     "data": {
      "text/html": [
       "<div>\n",
       "<style scoped>\n",
       "    .dataframe tbody tr th:only-of-type {\n",
       "        vertical-align: middle;\n",
       "    }\n",
       "\n",
       "    .dataframe tbody tr th {\n",
       "        vertical-align: top;\n",
       "    }\n",
       "\n",
       "    .dataframe thead th {\n",
       "        text-align: right;\n",
       "    }\n",
       "</style>\n",
       "<table border=\"1\" class=\"dataframe\">\n",
       "  <thead>\n",
       "    <tr style=\"text-align: right;\">\n",
       "      <th></th>\n",
       "      <th>station_name</th>\n",
       "    </tr>\n",
       "  </thead>\n",
       "  <tbody>\n",
       "    <tr>\n",
       "      <th>0</th>\n",
       "      <td>PALONEGRO, CO</td>\n",
       "    </tr>\n",
       "    <tr>\n",
       "      <th>1</th>\n",
       "      <td>SAN LUIS, CO</td>\n",
       "    </tr>\n",
       "  </tbody>\n",
       "</table>\n",
       "</div>"
      ],
      "text/plain": [
       "    station_name\n",
       "0  PALONEGRO, CO\n",
       "1   SAN LUIS, CO"
      ]
     },
     "execution_count": 8,
     "metadata": {},
     "output_type": "execute_result"
    }
   ],
   "source": [
    "station_activity.head(2)"
   ]
  },
  {
   "cell_type": "code",
   "execution_count": 9,
   "metadata": {},
   "outputs": [],
   "source": [
    "station_activity = station_activity.sort_values(by='station_name').set_index('station_name')"
   ]
  },
  {
   "cell_type": "code",
   "execution_count": 10,
   "metadata": {},
   "outputs": [
    {
     "data": {
      "text/html": [
       "<div>\n",
       "<style scoped>\n",
       "    .dataframe tbody tr th:only-of-type {\n",
       "        vertical-align: middle;\n",
       "    }\n",
       "\n",
       "    .dataframe tbody tr th {\n",
       "        vertical-align: top;\n",
       "    }\n",
       "\n",
       "    .dataframe thead th {\n",
       "        text-align: right;\n",
       "    }\n",
       "</style>\n",
       "<table border=\"1\" class=\"dataframe\">\n",
       "  <thead>\n",
       "    <tr style=\"text-align: right;\">\n",
       "      <th></th>\n",
       "    </tr>\n",
       "    <tr>\n",
       "      <th>station_name</th>\n",
       "    </tr>\n",
       "  </thead>\n",
       "  <tbody>\n",
       "    <tr>\n",
       "      <th>ALFONSO LOPEZ PUMAREJO, CO</th>\n",
       "    </tr>\n",
       "    <tr>\n",
       "      <th>ALFREDO VASQUEZ COBO, CO</th>\n",
       "    </tr>\n",
       "    <tr>\n",
       "      <th>ALMIRANTE PADILLA, CO</th>\n",
       "    </tr>\n",
       "    <tr>\n",
       "      <th>ANTONIO ROLDAN BETANCOURT, CO</th>\n",
       "    </tr>\n",
       "    <tr>\n",
       "      <th>BENITO SALAS, CO</th>\n",
       "    </tr>\n",
       "  </tbody>\n",
       "</table>\n",
       "</div>"
      ],
      "text/plain": [
       "Empty DataFrame\n",
       "Columns: []\n",
       "Index: [ALFONSO LOPEZ PUMAREJO, CO, ALFREDO VASQUEZ COBO, CO, ALMIRANTE PADILLA, CO, ANTONIO ROLDAN BETANCOURT, CO, BENITO SALAS, CO]"
      ]
     },
     "execution_count": 10,
     "metadata": {},
     "output_type": "execute_result"
    }
   ],
   "source": [
    "station_activity.head()"
   ]
  },
  {
   "cell_type": "code",
   "execution_count": 11,
   "metadata": {},
   "outputs": [],
   "source": [
    "station_activity = pd.concat([station_activity,df.sort_values(by='NAME').groupby(\"NAME\")['DATE2'].min()],axis=1).rename(columns={\"DATE2\":\"first_date_record\"})\n",
    "station_activity = pd.concat([station_activity,df.sort_values(by='NAME').groupby(\"NAME\")['DATE2'].max()],axis=1).rename(columns={\"DATE2\":\"last_date_record\"})"
   ]
  },
  {
   "cell_type": "code",
   "execution_count": 26,
   "metadata": {},
   "outputs": [
    {
     "data": {
      "text/html": [
       "<div>\n",
       "<style scoped>\n",
       "    .dataframe tbody tr th:only-of-type {\n",
       "        vertical-align: middle;\n",
       "    }\n",
       "\n",
       "    .dataframe tbody tr th {\n",
       "        vertical-align: top;\n",
       "    }\n",
       "\n",
       "    .dataframe thead th {\n",
       "        text-align: right;\n",
       "    }\n",
       "</style>\n",
       "<table border=\"1\" class=\"dataframe\">\n",
       "  <thead>\n",
       "    <tr style=\"text-align: right;\">\n",
       "      <th></th>\n",
       "      <th>first_date_record</th>\n",
       "      <th>last_date_record</th>\n",
       "    </tr>\n",
       "    <tr>\n",
       "      <th>NAME</th>\n",
       "      <th></th>\n",
       "      <th></th>\n",
       "    </tr>\n",
       "  </thead>\n",
       "  <tbody>\n",
       "    <tr>\n",
       "      <th>ALFONSO LOPEZ PUMAREJO, CO</th>\n",
       "      <td>1969-08-20</td>\n",
       "      <td>2020-01-07</td>\n",
       "    </tr>\n",
       "    <tr>\n",
       "      <th>ALFREDO VASQUEZ COBO, CO</th>\n",
       "      <td>1967-08-23</td>\n",
       "      <td>2020-01-07</td>\n",
       "    </tr>\n",
       "    <tr>\n",
       "      <th>ALMIRANTE PADILLA, CO</th>\n",
       "      <td>1973-01-03</td>\n",
       "      <td>2020-01-07</td>\n",
       "    </tr>\n",
       "    <tr>\n",
       "      <th>ANTONIO ROLDAN BETANCOURT, CO</th>\n",
       "      <td>1984-12-29</td>\n",
       "      <td>2020-01-07</td>\n",
       "    </tr>\n",
       "    <tr>\n",
       "      <th>BENITO SALAS, CO</th>\n",
       "      <td>1964-09-17</td>\n",
       "      <td>2020-01-07</td>\n",
       "    </tr>\n",
       "    <tr>\n",
       "      <th>BOGOTA ELDORADO, CO</th>\n",
       "      <td>1960-01-12</td>\n",
       "      <td>2020-01-07</td>\n",
       "    </tr>\n",
       "    <tr>\n",
       "      <th>CALI ALFONSO BONILL, CO</th>\n",
       "      <td>1961-01-01</td>\n",
       "      <td>2020-01-07</td>\n",
       "    </tr>\n",
       "    <tr>\n",
       "      <th>CAMILO DAZA, CO</th>\n",
       "      <td>1964-09-16</td>\n",
       "      <td>2020-01-07</td>\n",
       "    </tr>\n",
       "    <tr>\n",
       "      <th>EL CARANO, CO</th>\n",
       "      <td>1963-01-21</td>\n",
       "      <td>2020-01-07</td>\n",
       "    </tr>\n",
       "    <tr>\n",
       "      <th>EL EDEN, CO</th>\n",
       "      <td>1964-09-17</td>\n",
       "      <td>2020-01-07</td>\n",
       "    </tr>\n",
       "    <tr>\n",
       "      <th>EL EMBRUJO, CO</th>\n",
       "      <td>1979-04-23</td>\n",
       "      <td>2020-01-07</td>\n",
       "    </tr>\n",
       "    <tr>\n",
       "      <th>ERNESTO CORTISSOZ, CO</th>\n",
       "      <td>1960-01-14</td>\n",
       "      <td>2020-01-07</td>\n",
       "    </tr>\n",
       "    <tr>\n",
       "      <th>JOSE MARIA CORDOVA, CO</th>\n",
       "      <td>1985-12-01</td>\n",
       "      <td>2020-01-07</td>\n",
       "    </tr>\n",
       "    <tr>\n",
       "      <th>LAS GAVIOTAS, CO</th>\n",
       "      <td>1967-08-01</td>\n",
       "      <td>2002-05-02</td>\n",
       "    </tr>\n",
       "    <tr>\n",
       "      <th>LOS GARZONES, CO</th>\n",
       "      <td>1964-09-17</td>\n",
       "      <td>2020-01-07</td>\n",
       "    </tr>\n",
       "    <tr>\n",
       "      <th>MATECANA, CO</th>\n",
       "      <td>1963-03-22</td>\n",
       "      <td>2020-01-07</td>\n",
       "    </tr>\n",
       "    <tr>\n",
       "      <th>OLAYA HERRERA, CO</th>\n",
       "      <td>1960-01-10</td>\n",
       "      <td>2020-01-07</td>\n",
       "    </tr>\n",
       "    <tr>\n",
       "      <th>PALONEGRO, CO</th>\n",
       "      <td>1975-04-05</td>\n",
       "      <td>2020-01-07</td>\n",
       "    </tr>\n",
       "    <tr>\n",
       "      <th>PASTO ANTONIO NARIN, CO</th>\n",
       "      <td>1960-02-01</td>\n",
       "      <td>2020-01-07</td>\n",
       "    </tr>\n",
       "    <tr>\n",
       "      <th>PERALES, CO</th>\n",
       "      <td>1973-01-01</td>\n",
       "      <td>2020-01-07</td>\n",
       "    </tr>\n",
       "    <tr>\n",
       "      <th>PUERTO CARRENO A.GU, VE</th>\n",
       "      <td>1968-03-14</td>\n",
       "      <td>2020-01-07</td>\n",
       "    </tr>\n",
       "    <tr>\n",
       "      <th>RAFAEL NUNEZ, CO</th>\n",
       "      <td>1963-11-25</td>\n",
       "      <td>2020-01-07</td>\n",
       "    </tr>\n",
       "    <tr>\n",
       "      <th>SAN ANDRES ISLA S, CO</th>\n",
       "      <td>1962-01-01</td>\n",
       "      <td>2020-01-07</td>\n",
       "    </tr>\n",
       "    <tr>\n",
       "      <th>SAN LUIS, CO</th>\n",
       "      <td>1964-09-16</td>\n",
       "      <td>2020-01-07</td>\n",
       "    </tr>\n",
       "    <tr>\n",
       "      <th>SANTA ROSA AMANADONA, VE</th>\n",
       "      <td>1969-11-28</td>\n",
       "      <td>1992-01-31</td>\n",
       "    </tr>\n",
       "    <tr>\n",
       "      <th>SANTIAGO PEREZ, CO</th>\n",
       "      <td>1964-09-17</td>\n",
       "      <td>2020-01-07</td>\n",
       "    </tr>\n",
       "    <tr>\n",
       "      <th>SIMON BOLIVAR, CO</th>\n",
       "      <td>1964-09-16</td>\n",
       "      <td>2020-01-07</td>\n",
       "    </tr>\n",
       "    <tr>\n",
       "      <th>VANGUARDIA, CO</th>\n",
       "      <td>1964-09-17</td>\n",
       "      <td>2020-01-07</td>\n",
       "    </tr>\n",
       "    <tr>\n",
       "      <th>YARIGUIES, CO</th>\n",
       "      <td>1964-09-16</td>\n",
       "      <td>2020-01-07</td>\n",
       "    </tr>\n",
       "  </tbody>\n",
       "</table>\n",
       "</div>"
      ],
      "text/plain": [
       "                              first_date_record last_date_record\n",
       "NAME                                                            \n",
       "ALFONSO LOPEZ PUMAREJO, CO           1969-08-20       2020-01-07\n",
       "ALFREDO VASQUEZ COBO, CO             1967-08-23       2020-01-07\n",
       "ALMIRANTE PADILLA, CO                1973-01-03       2020-01-07\n",
       "ANTONIO ROLDAN BETANCOURT, CO        1984-12-29       2020-01-07\n",
       "BENITO SALAS, CO                     1964-09-17       2020-01-07\n",
       "BOGOTA ELDORADO, CO                  1960-01-12       2020-01-07\n",
       "CALI ALFONSO BONILL, CO              1961-01-01       2020-01-07\n",
       "CAMILO DAZA, CO                      1964-09-16       2020-01-07\n",
       "EL CARANO, CO                        1963-01-21       2020-01-07\n",
       "EL EDEN, CO                          1964-09-17       2020-01-07\n",
       "EL EMBRUJO, CO                       1979-04-23       2020-01-07\n",
       "ERNESTO CORTISSOZ, CO                1960-01-14       2020-01-07\n",
       "JOSE MARIA CORDOVA, CO               1985-12-01       2020-01-07\n",
       "LAS GAVIOTAS, CO                     1967-08-01       2002-05-02\n",
       "LOS GARZONES, CO                     1964-09-17       2020-01-07\n",
       "MATECANA, CO                         1963-03-22       2020-01-07\n",
       "OLAYA HERRERA, CO                    1960-01-10       2020-01-07\n",
       "PALONEGRO, CO                        1975-04-05       2020-01-07\n",
       "PASTO ANTONIO NARIN, CO              1960-02-01       2020-01-07\n",
       "PERALES, CO                          1973-01-01       2020-01-07\n",
       "PUERTO CARRENO A.GU, VE              1968-03-14       2020-01-07\n",
       "RAFAEL NUNEZ, CO                     1963-11-25       2020-01-07\n",
       "SAN ANDRES ISLA S, CO                1962-01-01       2020-01-07\n",
       "SAN LUIS, CO                         1964-09-16       2020-01-07\n",
       "SANTA ROSA AMANADONA, VE             1969-11-28       1992-01-31\n",
       "SANTIAGO PEREZ, CO                   1964-09-17       2020-01-07\n",
       "SIMON BOLIVAR, CO                    1964-09-16       2020-01-07\n",
       "VANGUARDIA, CO                       1964-09-17       2020-01-07\n",
       "YARIGUIES, CO                        1964-09-16       2020-01-07"
      ]
     },
     "execution_count": 26,
     "metadata": {},
     "output_type": "execute_result"
    }
   ],
   "source": [
    "station_activity"
   ]
  },
  {
   "cell_type": "code",
   "execution_count": null,
   "metadata": {},
   "outputs": [],
   "source": [
    "grouper = df.groupby([pd.Grouper(freq='1M'),'NAME'])"
   ]
  },
  {
   "cell_type": "code",
   "execution_count": null,
   "metadata": {},
   "outputs": [],
   "source": [
    "grouper = grouper.mean().reset_index(level='NAME')"
   ]
  },
  {
   "cell_type": "code",
   "execution_count": null,
   "metadata": {},
   "outputs": [],
   "source": [
    "grouper.groupby([pd.Grouper(freq='Y')])"
   ]
  },
  {
   "cell_type": "code",
   "execution_count": null,
   "metadata": {},
   "outputs": [],
   "source": [
    "year_1960 = grouper[grouper.index < '1961-01-01']"
   ]
  },
  {
   "cell_type": "code",
   "execution_count": null,
   "metadata": {},
   "outputs": [],
   "source": [
    "year_1960.NAME.nunique()"
   ]
  },
  {
   "cell_type": "code",
   "execution_count": null,
   "metadata": {},
   "outputs": [],
   "source": [
    "grouper.groupby([pd.Grouper(freq='Y')])['NAME'].nunique()"
   ]
  },
  {
   "cell_type": "code",
   "execution_count": null,
   "metadata": {},
   "outputs": [],
   "source": [
    "def weather_stations_by_year():\n",
    "    df = colombia_weather.get_weather()\n",
    "    df.DATE = pd.to_datetime(df.DATE)\n",
    "    df.set_index('DATE',inplace=True)\n",
    "    return df.groupby([pd.Grouper(freq='Y')])['NAME'].nunique()"
   ]
  },
  {
   "cell_type": "code",
   "execution_count": null,
   "metadata": {},
   "outputs": [],
   "source": [
    "df = weather_stations_by_year()"
   ]
  },
  {
   "cell_type": "code",
   "execution_count": 12,
   "metadata": {},
   "outputs": [],
   "source": [
    "df = prepare.get_data()"
   ]
  },
  {
   "cell_type": "code",
   "execution_count": 20,
   "metadata": {},
   "outputs": [],
   "source": [
    "weather_stations = pd.DataFrame.from_dict(colombia_weather.weather_stations,orient='index')"
   ]
  },
  {
   "cell_type": "code",
   "execution_count": 32,
   "metadata": {},
   "outputs": [],
   "source": [
    "weather_stations = weather_stations.sort_index()"
   ]
  },
  {
   "cell_type": "code",
   "execution_count": 37,
   "metadata": {},
   "outputs": [
    {
     "name": "stderr",
     "output_type": "stream",
     "text": [
      "/usr/local/anaconda3/lib/python3.7/site-packages/ipykernel_launcher.py:1: FutureWarning: Sorting because non-concatenation axis is not aligned. A future version\n",
      "of pandas will change to not sort by default.\n",
      "\n",
      "To accept the future behavior, pass 'sort=False'.\n",
      "\n",
      "To retain the current behavior and silence the warning, pass 'sort=True'.\n",
      "\n",
      "  \"\"\"Entry point for launching an IPython kernel.\n"
     ]
    }
   ],
   "source": [
    "station_dates = pd.concat([weather_stations,station_activity],axis=1)"
   ]
  },
  {
   "cell_type": "code",
   "execution_count": 45,
   "metadata": {},
   "outputs": [],
   "source": [
    "station_dates = station_dates.dropna().rename(columns = {0: \"department\"})"
   ]
  },
  {
   "cell_type": "code",
   "execution_count": 47,
   "metadata": {},
   "outputs": [
    {
     "data": {
      "text/html": [
       "<div>\n",
       "<style scoped>\n",
       "    .dataframe tbody tr th:only-of-type {\n",
       "        vertical-align: middle;\n",
       "    }\n",
       "\n",
       "    .dataframe tbody tr th {\n",
       "        vertical-align: top;\n",
       "    }\n",
       "\n",
       "    .dataframe thead th {\n",
       "        text-align: right;\n",
       "    }\n",
       "</style>\n",
       "<table border=\"1\" class=\"dataframe\">\n",
       "  <thead>\n",
       "    <tr style=\"text-align: right;\">\n",
       "      <th></th>\n",
       "      <th>department</th>\n",
       "      <th>first_date_record</th>\n",
       "      <th>last_date_record</th>\n",
       "    </tr>\n",
       "  </thead>\n",
       "  <tbody>\n",
       "    <tr>\n",
       "      <th>BOGOTA ELDORADO, CO</th>\n",
       "      <td>Cundinamarca</td>\n",
       "      <td>1960-01-12</td>\n",
       "      <td>2020-01-07</td>\n",
       "    </tr>\n",
       "    <tr>\n",
       "      <th>PASTO ANTONIO NARIN, CO</th>\n",
       "      <td>Narino</td>\n",
       "      <td>1960-02-01</td>\n",
       "      <td>2020-01-07</td>\n",
       "    </tr>\n",
       "    <tr>\n",
       "      <th>CALI ALFONSO BONILL, CO</th>\n",
       "      <td>Valle</td>\n",
       "      <td>1961-01-01</td>\n",
       "      <td>2020-01-07</td>\n",
       "    </tr>\n",
       "    <tr>\n",
       "      <th>EL CARANO, CO</th>\n",
       "      <td>Cauca</td>\n",
       "      <td>1963-01-21</td>\n",
       "      <td>2020-01-07</td>\n",
       "    </tr>\n",
       "    <tr>\n",
       "      <th>MATECANA, CO</th>\n",
       "      <td>Risaralda</td>\n",
       "      <td>1963-03-22</td>\n",
       "      <td>2020-01-07</td>\n",
       "    </tr>\n",
       "    <tr>\n",
       "      <th>SIMON BOLIVAR, CO</th>\n",
       "      <td>Magdalena</td>\n",
       "      <td>1964-09-16</td>\n",
       "      <td>2020-01-07</td>\n",
       "    </tr>\n",
       "    <tr>\n",
       "      <th>BENITO SALAS, CO</th>\n",
       "      <td>Huila</td>\n",
       "      <td>1964-09-17</td>\n",
       "      <td>2020-01-07</td>\n",
       "    </tr>\n",
       "    <tr>\n",
       "      <th>EL EDEN, CO</th>\n",
       "      <td>Quindio</td>\n",
       "      <td>1964-09-17</td>\n",
       "      <td>2020-01-07</td>\n",
       "    </tr>\n",
       "    <tr>\n",
       "      <th>ALFONSO LOPEZ PUMAREJO, CO</th>\n",
       "      <td>Cesar</td>\n",
       "      <td>1969-08-20</td>\n",
       "      <td>2020-01-07</td>\n",
       "    </tr>\n",
       "    <tr>\n",
       "      <th>PERALES, CO</th>\n",
       "      <td>Tolima</td>\n",
       "      <td>1973-01-01</td>\n",
       "      <td>2020-01-07</td>\n",
       "    </tr>\n",
       "    <tr>\n",
       "      <th>PALONEGRO, CO</th>\n",
       "      <td>Santander</td>\n",
       "      <td>1975-04-05</td>\n",
       "      <td>2020-01-07</td>\n",
       "    </tr>\n",
       "    <tr>\n",
       "      <th>ANTONIO ROLDAN BETANCOURT, CO</th>\n",
       "      <td>Antioquia</td>\n",
       "      <td>1984-12-29</td>\n",
       "      <td>2020-01-07</td>\n",
       "    </tr>\n",
       "    <tr>\n",
       "      <th>JOSE MARIA CORDOVA, CO</th>\n",
       "      <td>Caldas</td>\n",
       "      <td>1985-12-01</td>\n",
       "      <td>2020-01-07</td>\n",
       "    </tr>\n",
       "  </tbody>\n",
       "</table>\n",
       "</div>"
      ],
      "text/plain": [
       "                                 department first_date_record last_date_record\n",
       "BOGOTA ELDORADO, CO            Cundinamarca        1960-01-12       2020-01-07\n",
       "PASTO ANTONIO NARIN, CO              Narino        1960-02-01       2020-01-07\n",
       "CALI ALFONSO BONILL, CO               Valle        1961-01-01       2020-01-07\n",
       "EL CARANO, CO                         Cauca        1963-01-21       2020-01-07\n",
       "MATECANA, CO                      Risaralda        1963-03-22       2020-01-07\n",
       "SIMON BOLIVAR, CO                 Magdalena        1964-09-16       2020-01-07\n",
       "BENITO SALAS, CO                      Huila        1964-09-17       2020-01-07\n",
       "EL EDEN, CO                         Quindio        1964-09-17       2020-01-07\n",
       "ALFONSO LOPEZ PUMAREJO, CO            Cesar        1969-08-20       2020-01-07\n",
       "PERALES, CO                          Tolima        1973-01-01       2020-01-07\n",
       "PALONEGRO, CO                     Santander        1975-04-05       2020-01-07\n",
       "ANTONIO ROLDAN BETANCOURT, CO     Antioquia        1984-12-29       2020-01-07\n",
       "JOSE MARIA CORDOVA, CO               Caldas        1985-12-01       2020-01-07"
      ]
     },
     "execution_count": 47,
     "metadata": {},
     "output_type": "execute_result"
    }
   ],
   "source": [
    "station_dates.sort_values(by='first_date_record')"
   ]
  },
  {
   "cell_type": "code",
   "execution_count": 49,
   "metadata": {},
   "outputs": [],
   "source": [
    "station_dates.to_csv('weather_data/station_dates.csv')"
   ]
  },
  {
   "cell_type": "code",
   "execution_count": 50,
   "metadata": {},
   "outputs": [],
   "source": [
    "blob = pd.read_csv('coffee_data/coffee_export_by_country.csv')"
   ]
  },
  {
   "cell_type": "code",
   "execution_count": 51,
   "metadata": {},
   "outputs": [
    {
     "data": {
      "text/html": [
       "<div>\n",
       "<style scoped>\n",
       "    .dataframe tbody tr th:only-of-type {\n",
       "        vertical-align: middle;\n",
       "    }\n",
       "\n",
       "    .dataframe tbody tr th {\n",
       "        vertical-align: top;\n",
       "    }\n",
       "\n",
       "    .dataframe thead th {\n",
       "        text-align: right;\n",
       "    }\n",
       "</style>\n",
       "<table border=\"1\" class=\"dataframe\">\n",
       "  <thead>\n",
       "    <tr style=\"text-align: right;\">\n",
       "      <th></th>\n",
       "      <th>Unnamed: 0</th>\n",
       "      <th>year</th>\n",
       "      <th>origin</th>\n",
       "      <th>dest</th>\n",
       "      <th>sitc4</th>\n",
       "      <th>export_val</th>\n",
       "      <th>import_val</th>\n",
       "      <th>country</th>\n",
       "    </tr>\n",
       "  </thead>\n",
       "  <tbody>\n",
       "    <tr>\n",
       "      <th>3152</th>\n",
       "      <td>3152</td>\n",
       "      <td>2012.0</td>\n",
       "      <td>col</td>\n",
       "      <td>xxb</td>\n",
       "      <td>711.0</td>\n",
       "      <td>4441565.0</td>\n",
       "      <td>NaN</td>\n",
       "      <td>NaN</td>\n",
       "    </tr>\n",
       "  </tbody>\n",
       "</table>\n",
       "</div>"
      ],
      "text/plain": [
       "      Unnamed: 0    year origin dest  sitc4  export_val  import_val country\n",
       "3152        3152  2012.0    col  xxb  711.0   4441565.0         NaN     NaN"
      ]
     },
     "execution_count": 51,
     "metadata": {},
     "output_type": "execute_result"
    }
   ],
   "source": []
  },
  {
   "cell_type": "code",
   "execution_count": 81,
   "metadata": {},
   "outputs": [],
   "source": [
    "df = prepare.get_data()"
   ]
  },
  {
   "cell_type": "code",
   "execution_count": 82,
   "metadata": {},
   "outputs": [
    {
     "data": {
      "text/html": [
       "<div>\n",
       "<style scoped>\n",
       "    .dataframe tbody tr th:only-of-type {\n",
       "        vertical-align: middle;\n",
       "    }\n",
       "\n",
       "    .dataframe tbody tr th {\n",
       "        vertical-align: top;\n",
       "    }\n",
       "\n",
       "    .dataframe thead th {\n",
       "        text-align: right;\n",
       "    }\n",
       "</style>\n",
       "<table border=\"1\" class=\"dataframe\">\n",
       "  <thead>\n",
       "    <tr style=\"text-align: right;\">\n",
       "      <th></th>\n",
       "      <th>region</th>\n",
       "      <th>mean_precip</th>\n",
       "      <th>mean_temp</th>\n",
       "      <th>min_temp</th>\n",
       "      <th>max_temp</th>\n",
       "      <th>price</th>\n",
       "      <th>quantity</th>\n",
       "      <th>inflated</th>\n",
       "    </tr>\n",
       "    <tr>\n",
       "      <th>date</th>\n",
       "      <th></th>\n",
       "      <th></th>\n",
       "      <th></th>\n",
       "      <th></th>\n",
       "      <th></th>\n",
       "      <th></th>\n",
       "      <th></th>\n",
       "      <th></th>\n",
       "    </tr>\n",
       "  </thead>\n",
       "  <tbody>\n",
       "    <tr>\n",
       "      <th>1960-01-01</th>\n",
       "      <td>Caldas</td>\n",
       "      <td>0.040000</td>\n",
       "      <td>72.500000</td>\n",
       "      <td>NaN</td>\n",
       "      <td>NaN</td>\n",
       "      <td>45.68</td>\n",
       "      <td>782.0</td>\n",
       "      <td>387.519181</td>\n",
       "    </tr>\n",
       "    <tr>\n",
       "      <th>1960-01-01</th>\n",
       "      <td>Cundinamarca</td>\n",
       "      <td>0.280000</td>\n",
       "      <td>58.250000</td>\n",
       "      <td>NaN</td>\n",
       "      <td>NaN</td>\n",
       "      <td>45.68</td>\n",
       "      <td>782.0</td>\n",
       "      <td>387.519181</td>\n",
       "    </tr>\n",
       "    <tr>\n",
       "      <th>1960-02-01</th>\n",
       "      <td>Caldas</td>\n",
       "      <td>0.040000</td>\n",
       "      <td>72.210526</td>\n",
       "      <td>NaN</td>\n",
       "      <td>NaN</td>\n",
       "      <td>45.95</td>\n",
       "      <td>449.0</td>\n",
       "      <td>389.809684</td>\n",
       "    </tr>\n",
       "    <tr>\n",
       "      <th>1960-02-01</th>\n",
       "      <td>Cundinamarca</td>\n",
       "      <td>0.082857</td>\n",
       "      <td>58.894737</td>\n",
       "      <td>NaN</td>\n",
       "      <td>NaN</td>\n",
       "      <td>45.95</td>\n",
       "      <td>449.0</td>\n",
       "      <td>389.809684</td>\n",
       "    </tr>\n",
       "    <tr>\n",
       "      <th>1960-02-01</th>\n",
       "      <td>Narino</td>\n",
       "      <td>0.015172</td>\n",
       "      <td>NaN</td>\n",
       "      <td>NaN</td>\n",
       "      <td>NaN</td>\n",
       "      <td>45.95</td>\n",
       "      <td>449.0</td>\n",
       "      <td>389.809684</td>\n",
       "    </tr>\n",
       "  </tbody>\n",
       "</table>\n",
       "</div>"
      ],
      "text/plain": [
       "                  region  mean_precip  mean_temp  min_temp  max_temp  price  \\\n",
       "date                                                                          \n",
       "1960-01-01        Caldas     0.040000  72.500000       NaN       NaN  45.68   \n",
       "1960-01-01  Cundinamarca     0.280000  58.250000       NaN       NaN  45.68   \n",
       "1960-02-01        Caldas     0.040000  72.210526       NaN       NaN  45.95   \n",
       "1960-02-01  Cundinamarca     0.082857  58.894737       NaN       NaN  45.95   \n",
       "1960-02-01        Narino     0.015172        NaN       NaN       NaN  45.95   \n",
       "\n",
       "            quantity    inflated  \n",
       "date                              \n",
       "1960-01-01     782.0  387.519181  \n",
       "1960-01-01     782.0  387.519181  \n",
       "1960-02-01     449.0  389.809684  \n",
       "1960-02-01     449.0  389.809684  \n",
       "1960-02-01     449.0  389.809684  "
      ]
     },
     "execution_count": 82,
     "metadata": {},
     "output_type": "execute_result"
    }
   ],
   "source": [
    "df.head(5)"
   ]
  },
  {
   "cell_type": "code",
   "execution_count": 83,
   "metadata": {},
   "outputs": [],
   "source": [
    "weather_stations = pd.DataFrame.from_dict(colombia_weather.weather_stations,orient=\"index\")"
   ]
  },
  {
   "cell_type": "code",
   "execution_count": 84,
   "metadata": {},
   "outputs": [],
   "source": [
    "weather_stations.reset_index(inplace=True)\n",
    "df.reset_index(inplace=True)"
   ]
  },
  {
   "cell_type": "code",
   "execution_count": 85,
   "metadata": {},
   "outputs": [
    {
     "data": {
      "text/html": [
       "<div>\n",
       "<style scoped>\n",
       "    .dataframe tbody tr th:only-of-type {\n",
       "        vertical-align: middle;\n",
       "    }\n",
       "\n",
       "    .dataframe tbody tr th {\n",
       "        vertical-align: top;\n",
       "    }\n",
       "\n",
       "    .dataframe thead th {\n",
       "        text-align: right;\n",
       "    }\n",
       "</style>\n",
       "<table border=\"1\" class=\"dataframe\">\n",
       "  <thead>\n",
       "    <tr style=\"text-align: right;\">\n",
       "      <th></th>\n",
       "      <th>index</th>\n",
       "      <th>0</th>\n",
       "    </tr>\n",
       "  </thead>\n",
       "  <tbody>\n",
       "    <tr>\n",
       "      <th>0</th>\n",
       "      <td>ANTONIO ROLDAN BETANCOURT, CO</td>\n",
       "      <td>Antioquia</td>\n",
       "    </tr>\n",
       "    <tr>\n",
       "      <th>1</th>\n",
       "      <td>JOSE MARIA CORDOVA, CO</td>\n",
       "      <td>Caldas</td>\n",
       "    </tr>\n",
       "    <tr>\n",
       "      <th>2</th>\n",
       "      <td>EL CARANO, CO</td>\n",
       "      <td>Cauca</td>\n",
       "    </tr>\n",
       "    <tr>\n",
       "      <th>3</th>\n",
       "      <td>ALFONSO LOPEZ PUMAREJO, CO</td>\n",
       "      <td>Cesar</td>\n",
       "    </tr>\n",
       "    <tr>\n",
       "      <th>4</th>\n",
       "      <td>BOGOTA ELDORADO, CO</td>\n",
       "      <td>Cundinamarca</td>\n",
       "    </tr>\n",
       "    <tr>\n",
       "      <th>5</th>\n",
       "      <td>BENITO SALAS, CO</td>\n",
       "      <td>Huila</td>\n",
       "    </tr>\n",
       "    <tr>\n",
       "      <th>6</th>\n",
       "      <td>SIMON BOLIVAR, CO</td>\n",
       "      <td>Magdalena</td>\n",
       "    </tr>\n",
       "    <tr>\n",
       "      <th>7</th>\n",
       "      <td>PASTO ANTONIO NARIN, CO</td>\n",
       "      <td>Narino</td>\n",
       "    </tr>\n",
       "    <tr>\n",
       "      <th>8</th>\n",
       "      <td>EL EDEN, CO</td>\n",
       "      <td>Quindio</td>\n",
       "    </tr>\n",
       "    <tr>\n",
       "      <th>9</th>\n",
       "      <td>MATECANA, CO</td>\n",
       "      <td>Risaralda</td>\n",
       "    </tr>\n",
       "    <tr>\n",
       "      <th>10</th>\n",
       "      <td>PALONEGRO, CO</td>\n",
       "      <td>Santander</td>\n",
       "    </tr>\n",
       "    <tr>\n",
       "      <th>11</th>\n",
       "      <td>PERALES, CO</td>\n",
       "      <td>Tolima</td>\n",
       "    </tr>\n",
       "    <tr>\n",
       "      <th>12</th>\n",
       "      <td>CALI ALFONSO BONILL, CO</td>\n",
       "      <td>Valle</td>\n",
       "    </tr>\n",
       "  </tbody>\n",
       "</table>\n",
       "</div>"
      ],
      "text/plain": [
       "                            index             0\n",
       "0   ANTONIO ROLDAN BETANCOURT, CO     Antioquia\n",
       "1          JOSE MARIA CORDOVA, CO        Caldas\n",
       "2                   EL CARANO, CO         Cauca\n",
       "3      ALFONSO LOPEZ PUMAREJO, CO         Cesar\n",
       "4             BOGOTA ELDORADO, CO  Cundinamarca\n",
       "5                BENITO SALAS, CO         Huila\n",
       "6               SIMON BOLIVAR, CO     Magdalena\n",
       "7         PASTO ANTONIO NARIN, CO        Narino\n",
       "8                     EL EDEN, CO       Quindio\n",
       "9                    MATECANA, CO     Risaralda\n",
       "10                  PALONEGRO, CO     Santander\n",
       "11                    PERALES, CO        Tolima\n",
       "12        CALI ALFONSO BONILL, CO         Valle"
      ]
     },
     "execution_count": 85,
     "metadata": {},
     "output_type": "execute_result"
    }
   ],
   "source": [
    "weather_stations"
   ]
  },
  {
   "cell_type": "code",
   "execution_count": 86,
   "metadata": {},
   "outputs": [
    {
     "data": {
      "text/plain": [
       "(5559, 9)"
      ]
     },
     "execution_count": 86,
     "metadata": {},
     "output_type": "execute_result"
    }
   ],
   "source": [
    "df.shape"
   ]
  },
  {
   "cell_type": "code",
   "execution_count": 87,
   "metadata": {},
   "outputs": [],
   "source": [
    "station_dates = pd.merge(df,weather_stations,how='left',left_on='region',right_on=0)"
   ]
  },
  {
   "cell_type": "code",
   "execution_count": 88,
   "metadata": {},
   "outputs": [
    {
     "data": {
      "text/plain": [
       "(13, 2)"
      ]
     },
     "execution_count": 88,
     "metadata": {},
     "output_type": "execute_result"
    }
   ],
   "source": [
    "weather_stations.shape"
   ]
  },
  {
   "cell_type": "code",
   "execution_count": 90,
   "metadata": {},
   "outputs": [],
   "source": [
    "station_dates.set_index('date',inplace=True)"
   ]
  },
  {
   "cell_type": "code",
   "execution_count": 95,
   "metadata": {
    "scrolled": false
   },
   "outputs": [
    {
     "data": {
      "text/html": [
       "<div>\n",
       "<style scoped>\n",
       "    .dataframe tbody tr th:only-of-type {\n",
       "        vertical-align: middle;\n",
       "    }\n",
       "\n",
       "    .dataframe tbody tr th {\n",
       "        vertical-align: top;\n",
       "    }\n",
       "\n",
       "    .dataframe thead th {\n",
       "        text-align: right;\n",
       "    }\n",
       "</style>\n",
       "<table border=\"1\" class=\"dataframe\">\n",
       "  <thead>\n",
       "    <tr style=\"text-align: right;\">\n",
       "      <th></th>\n",
       "      <th>region</th>\n",
       "      <th>mean_precip</th>\n",
       "      <th>mean_temp</th>\n",
       "      <th>min_temp</th>\n",
       "      <th>max_temp</th>\n",
       "      <th>price</th>\n",
       "      <th>quantity</th>\n",
       "      <th>inflated</th>\n",
       "      <th>index</th>\n",
       "      <th>0</th>\n",
       "    </tr>\n",
       "    <tr>\n",
       "      <th>date</th>\n",
       "      <th></th>\n",
       "      <th></th>\n",
       "      <th></th>\n",
       "      <th></th>\n",
       "      <th></th>\n",
       "      <th></th>\n",
       "      <th></th>\n",
       "      <th></th>\n",
       "      <th></th>\n",
       "      <th></th>\n",
       "    </tr>\n",
       "  </thead>\n",
       "  <tbody>\n",
       "    <tr>\n",
       "      <th>1960-01-01</th>\n",
       "      <td>Caldas</td>\n",
       "      <td>0.04</td>\n",
       "      <td>72.50</td>\n",
       "      <td>NaN</td>\n",
       "      <td>NaN</td>\n",
       "      <td>45.68</td>\n",
       "      <td>782.0</td>\n",
       "      <td>387.519181</td>\n",
       "      <td>JOSE MARIA CORDOVA, CO</td>\n",
       "      <td>Caldas</td>\n",
       "    </tr>\n",
       "    <tr>\n",
       "      <th>1960-01-01</th>\n",
       "      <td>Cundinamarca</td>\n",
       "      <td>0.28</td>\n",
       "      <td>58.25</td>\n",
       "      <td>NaN</td>\n",
       "      <td>NaN</td>\n",
       "      <td>45.68</td>\n",
       "      <td>782.0</td>\n",
       "      <td>387.519181</td>\n",
       "      <td>BOGOTA ELDORADO, CO</td>\n",
       "      <td>Cundinamarca</td>\n",
       "    </tr>\n",
       "  </tbody>\n",
       "</table>\n",
       "</div>"
      ],
      "text/plain": [
       "                  region  mean_precip  mean_temp  min_temp  max_temp  price  \\\n",
       "date                                                                          \n",
       "1960-01-01        Caldas         0.04      72.50       NaN       NaN  45.68   \n",
       "1960-01-01  Cundinamarca         0.28      58.25       NaN       NaN  45.68   \n",
       "\n",
       "            quantity    inflated                   index             0  \n",
       "date                                                                    \n",
       "1960-01-01     782.0  387.519181  JOSE MARIA CORDOVA, CO        Caldas  \n",
       "1960-01-01     782.0  387.519181     BOGOTA ELDORADO, CO  Cundinamarca  "
      ]
     },
     "execution_count": 95,
     "metadata": {},
     "output_type": "execute_result"
    }
   ],
   "source": [
    "station_dates.head(2)"
   ]
  },
  {
   "cell_type": "code",
   "execution_count": 135,
   "metadata": {},
   "outputs": [],
   "source": [
    "station_activity = pd.DataFrame(station_dates.region.unique())"
   ]
  },
  {
   "cell_type": "code",
   "execution_count": 136,
   "metadata": {},
   "outputs": [],
   "source": [
    "station_activity.dropna(inplace=True)"
   ]
  },
  {
   "cell_type": "code",
   "execution_count": 137,
   "metadata": {},
   "outputs": [],
   "source": [
    "station_activity.columns = ['region']"
   ]
  },
  {
   "cell_type": "code",
   "execution_count": null,
   "metadata": {},
   "outputs": [],
   "source": []
  },
  {
   "cell_type": "code",
   "execution_count": 138,
   "metadata": {},
   "outputs": [
    {
     "data": {
      "text/html": [
       "<div>\n",
       "<style scoped>\n",
       "    .dataframe tbody tr th:only-of-type {\n",
       "        vertical-align: middle;\n",
       "    }\n",
       "\n",
       "    .dataframe tbody tr th {\n",
       "        vertical-align: top;\n",
       "    }\n",
       "\n",
       "    .dataframe thead th {\n",
       "        text-align: right;\n",
       "    }\n",
       "</style>\n",
       "<table border=\"1\" class=\"dataframe\">\n",
       "  <thead>\n",
       "    <tr style=\"text-align: right;\">\n",
       "      <th></th>\n",
       "      <th>region</th>\n",
       "    </tr>\n",
       "  </thead>\n",
       "  <tbody>\n",
       "    <tr>\n",
       "      <th>0</th>\n",
       "      <td>Caldas</td>\n",
       "    </tr>\n",
       "    <tr>\n",
       "      <th>1</th>\n",
       "      <td>Cundinamarca</td>\n",
       "    </tr>\n",
       "    <tr>\n",
       "      <th>2</th>\n",
       "      <td>Narino</td>\n",
       "    </tr>\n",
       "    <tr>\n",
       "      <th>4</th>\n",
       "      <td>Cauca</td>\n",
       "    </tr>\n",
       "    <tr>\n",
       "      <th>5</th>\n",
       "      <td>Risaralda</td>\n",
       "    </tr>\n",
       "    <tr>\n",
       "      <th>6</th>\n",
       "      <td>Antioquia</td>\n",
       "    </tr>\n",
       "    <tr>\n",
       "      <th>7</th>\n",
       "      <td>Huila</td>\n",
       "    </tr>\n",
       "    <tr>\n",
       "      <th>8</th>\n",
       "      <td>Magdalena</td>\n",
       "    </tr>\n",
       "    <tr>\n",
       "      <th>9</th>\n",
       "      <td>Quindio</td>\n",
       "    </tr>\n",
       "    <tr>\n",
       "      <th>10</th>\n",
       "      <td>Tolima</td>\n",
       "    </tr>\n",
       "    <tr>\n",
       "      <th>11</th>\n",
       "      <td>Valle</td>\n",
       "    </tr>\n",
       "    <tr>\n",
       "      <th>12</th>\n",
       "      <td>Cesar</td>\n",
       "    </tr>\n",
       "    <tr>\n",
       "      <th>13</th>\n",
       "      <td>Santander</td>\n",
       "    </tr>\n",
       "  </tbody>\n",
       "</table>\n",
       "</div>"
      ],
      "text/plain": [
       "          region\n",
       "0         Caldas\n",
       "1   Cundinamarca\n",
       "2         Narino\n",
       "4          Cauca\n",
       "5      Risaralda\n",
       "6      Antioquia\n",
       "7          Huila\n",
       "8      Magdalena\n",
       "9        Quindio\n",
       "10        Tolima\n",
       "11         Valle\n",
       "12         Cesar\n",
       "13     Santander"
      ]
     },
     "execution_count": 138,
     "metadata": {},
     "output_type": "execute_result"
    }
   ],
   "source": [
    "station_activity"
   ]
  },
  {
   "cell_type": "code",
   "execution_count": 115,
   "metadata": {},
   "outputs": [
    {
     "data": {
      "text/html": [
       "<div>\n",
       "<style scoped>\n",
       "    .dataframe tbody tr th:only-of-type {\n",
       "        vertical-align: middle;\n",
       "    }\n",
       "\n",
       "    .dataframe tbody tr th {\n",
       "        vertical-align: top;\n",
       "    }\n",
       "\n",
       "    .dataframe thead th {\n",
       "        text-align: right;\n",
       "    }\n",
       "</style>\n",
       "<table border=\"1\" class=\"dataframe\">\n",
       "  <thead>\n",
       "    <tr style=\"text-align: right;\">\n",
       "      <th></th>\n",
       "      <th>index</th>\n",
       "      <th>date</th>\n",
       "      <th>region</th>\n",
       "      <th>mean_precip</th>\n",
       "      <th>mean_temp</th>\n",
       "      <th>min_temp</th>\n",
       "      <th>max_temp</th>\n",
       "      <th>price</th>\n",
       "      <th>quantity</th>\n",
       "      <th>inflated</th>\n",
       "    </tr>\n",
       "  </thead>\n",
       "  <tbody>\n",
       "    <tr>\n",
       "      <th>0</th>\n",
       "      <td>0</td>\n",
       "      <td>1960-01-01</td>\n",
       "      <td>Caldas</td>\n",
       "      <td>0.04</td>\n",
       "      <td>72.50</td>\n",
       "      <td>NaN</td>\n",
       "      <td>NaN</td>\n",
       "      <td>45.68</td>\n",
       "      <td>782.0</td>\n",
       "      <td>387.519181</td>\n",
       "    </tr>\n",
       "    <tr>\n",
       "      <th>1</th>\n",
       "      <td>1</td>\n",
       "      <td>1960-01-01</td>\n",
       "      <td>Cundinamarca</td>\n",
       "      <td>0.28</td>\n",
       "      <td>58.25</td>\n",
       "      <td>NaN</td>\n",
       "      <td>NaN</td>\n",
       "      <td>45.68</td>\n",
       "      <td>782.0</td>\n",
       "      <td>387.519181</td>\n",
       "    </tr>\n",
       "  </tbody>\n",
       "</table>\n",
       "</div>"
      ],
      "text/plain": [
       "   index       date        region  mean_precip  mean_temp  min_temp  max_temp  \\\n",
       "0      0 1960-01-01        Caldas         0.04      72.50       NaN       NaN   \n",
       "1      1 1960-01-01  Cundinamarca         0.28      58.25       NaN       NaN   \n",
       "\n",
       "   price  quantity    inflated  \n",
       "0  45.68     782.0  387.519181  \n",
       "1  45.68     782.0  387.519181  "
      ]
     },
     "execution_count": 115,
     "metadata": {},
     "output_type": "execute_result"
    }
   ],
   "source": [
    "df.reset_index(inplace=True)\n",
    "df.head(2)"
   ]
  },
  {
   "cell_type": "code",
   "execution_count": 139,
   "metadata": {
    "scrolled": true
   },
   "outputs": [
    {
     "name": "stderr",
     "output_type": "stream",
     "text": [
      "/usr/local/anaconda3/lib/python3.7/site-packages/ipykernel_launcher.py:2: FutureWarning: Sorting because non-concatenation axis is not aligned. A future version\n",
      "of pandas will change to not sort by default.\n",
      "\n",
      "To accept the future behavior, pass 'sort=False'.\n",
      "\n",
      "To retain the current behavior and silence the warning, pass 'sort=True'.\n",
      "\n",
      "  \n"
     ]
    }
   ],
   "source": [
    "station_activity = pd.concat([station_activity,df.sort_values(by='region').groupby(\"region\")['date'].min()],axis=1).rename(columns={\"date\":\"first_date_record\"})\n",
    "station_activity = pd.concat([station_activity,df.sort_values(by='region').groupby(\"region\")['date'].max()],axis=1).rename(columns={\"date\":\"last_date_record\"})"
   ]
  },
  {
   "cell_type": "code",
   "execution_count": 148,
   "metadata": {},
   "outputs": [],
   "source": [
    "station_activity = station_activity.iloc[13:].drop(columns='region')"
   ]
  },
  {
   "cell_type": "code",
   "execution_count": 150,
   "metadata": {},
   "outputs": [],
   "source": [
    "station_activity.to_csv('weather_data/station_dates.csv')"
   ]
  },
  {
   "cell_type": "code",
   "execution_count": 151,
   "metadata": {},
   "outputs": [],
   "source": [
    "df = prepare.get_weather()"
   ]
  },
  {
   "cell_type": "code",
   "execution_count": 155,
   "metadata": {},
   "outputs": [],
   "source": [
    "df.set_index('DATE',inplace=True)"
   ]
  },
  {
   "cell_type": "code",
   "execution_count": 158,
   "metadata": {},
   "outputs": [
    {
     "data": {
      "text/html": [
       "<div>\n",
       "<style scoped>\n",
       "    .dataframe tbody tr th:only-of-type {\n",
       "        vertical-align: middle;\n",
       "    }\n",
       "\n",
       "    .dataframe tbody tr th {\n",
       "        vertical-align: top;\n",
       "    }\n",
       "\n",
       "    .dataframe thead th {\n",
       "        text-align: right;\n",
       "    }\n",
       "</style>\n",
       "<table border=\"1\" class=\"dataframe\">\n",
       "  <thead>\n",
       "    <tr style=\"text-align: right;\">\n",
       "      <th></th>\n",
       "      <th>STATION</th>\n",
       "      <th>NAME</th>\n",
       "      <th>LATITUDE</th>\n",
       "      <th>LONGITUDE</th>\n",
       "      <th>ELEVATION</th>\n",
       "      <th>PRCP</th>\n",
       "      <th>TAVG</th>\n",
       "      <th>TMAX</th>\n",
       "      <th>TMIN</th>\n",
       "    </tr>\n",
       "    <tr>\n",
       "      <th>DATE</th>\n",
       "      <th></th>\n",
       "      <th></th>\n",
       "      <th></th>\n",
       "      <th></th>\n",
       "      <th></th>\n",
       "      <th></th>\n",
       "      <th></th>\n",
       "      <th></th>\n",
       "      <th></th>\n",
       "    </tr>\n",
       "  </thead>\n",
       "  <tbody>\n",
       "    <tr>\n",
       "      <th>1975-04-05</th>\n",
       "      <td>COM00080094</td>\n",
       "      <td>PALONEGRO, CO</td>\n",
       "      <td>7.127</td>\n",
       "      <td>-73.185</td>\n",
       "      <td>1187.8</td>\n",
       "      <td>NaN</td>\n",
       "      <td>72.0</td>\n",
       "      <td>NaN</td>\n",
       "      <td>64.0</td>\n",
       "    </tr>\n",
       "    <tr>\n",
       "      <th>1975-04-10</th>\n",
       "      <td>COM00080094</td>\n",
       "      <td>PALONEGRO, CO</td>\n",
       "      <td>7.127</td>\n",
       "      <td>-73.185</td>\n",
       "      <td>1187.8</td>\n",
       "      <td>NaN</td>\n",
       "      <td>73.0</td>\n",
       "      <td>77.0</td>\n",
       "      <td>66.0</td>\n",
       "    </tr>\n",
       "  </tbody>\n",
       "</table>\n",
       "</div>"
      ],
      "text/plain": [
       "                STATION           NAME  LATITUDE  LONGITUDE  ELEVATION  PRCP  \\\n",
       "DATE                                                                           \n",
       "1975-04-05  COM00080094  PALONEGRO, CO     7.127    -73.185     1187.8   NaN   \n",
       "1975-04-10  COM00080094  PALONEGRO, CO     7.127    -73.185     1187.8   NaN   \n",
       "\n",
       "            TAVG  TMAX  TMIN  \n",
       "DATE                          \n",
       "1975-04-05  72.0   NaN  64.0  \n",
       "1975-04-10  73.0  77.0  66.0  "
      ]
     },
     "execution_count": 158,
     "metadata": {},
     "output_type": "execute_result"
    }
   ],
   "source": [
    "df.head(2)"
   ]
  },
  {
   "cell_type": "code",
   "execution_count": 157,
   "metadata": {},
   "outputs": [
    {
     "data": {
      "text/plain": [
       "<pandas.core.groupby.generic.DataFrameGroupBy object at 0x11b5b9908>"
      ]
     },
     "execution_count": 157,
     "metadata": {},
     "output_type": "execute_result"
    }
   ],
   "source": [
    "df.groupby(['STATION','')"
   ]
  },
  {
   "cell_type": "code",
   "execution_count": 162,
   "metadata": {},
   "outputs": [
    {
     "ename": "AttributeError",
     "evalue": "'Index' object has no attribute 'apply'",
     "output_type": "error",
     "traceback": [
      "\u001b[0;31m---------------------------------------------------------------------------\u001b[0m",
      "\u001b[0;31mAttributeError\u001b[0m                            Traceback (most recent call last)",
      "\u001b[0;32m<ipython-input-162-edcd395df97c>\u001b[0m in \u001b[0;36m<module>\u001b[0;34m\u001b[0m\n\u001b[0;32m----> 1\u001b[0;31m \u001b[0mdf\u001b[0m\u001b[0;34m.\u001b[0m\u001b[0mcolumns\u001b[0m\u001b[0;34m.\u001b[0m\u001b[0mapply\u001b[0m\u001b[0;34m(\u001b[0m\u001b[0mlower\u001b[0m\u001b[0;34m)\u001b[0m\u001b[0;34m\u001b[0m\u001b[0;34m\u001b[0m\u001b[0m\n\u001b[0m",
      "\u001b[0;31mAttributeError\u001b[0m: 'Index' object has no attribute 'apply'"
     ]
    }
   ],
   "source": [
    "df.columns.apply(lower)"
   ]
  },
  {
   "cell_type": "code",
   "execution_count": 163,
   "metadata": {},
   "outputs": [],
   "source": [
    "df.columns = map(str.lower, df.columns)"
   ]
  },
  {
   "cell_type": "code",
   "execution_count": 164,
   "metadata": {},
   "outputs": [
    {
     "data": {
      "text/html": [
       "<div>\n",
       "<style scoped>\n",
       "    .dataframe tbody tr th:only-of-type {\n",
       "        vertical-align: middle;\n",
       "    }\n",
       "\n",
       "    .dataframe tbody tr th {\n",
       "        vertical-align: top;\n",
       "    }\n",
       "\n",
       "    .dataframe thead th {\n",
       "        text-align: right;\n",
       "    }\n",
       "</style>\n",
       "<table border=\"1\" class=\"dataframe\">\n",
       "  <thead>\n",
       "    <tr style=\"text-align: right;\">\n",
       "      <th></th>\n",
       "      <th>station</th>\n",
       "      <th>name</th>\n",
       "      <th>latitude</th>\n",
       "      <th>longitude</th>\n",
       "      <th>elevation</th>\n",
       "      <th>prcp</th>\n",
       "      <th>tavg</th>\n",
       "      <th>tmax</th>\n",
       "      <th>tmin</th>\n",
       "    </tr>\n",
       "    <tr>\n",
       "      <th>DATE</th>\n",
       "      <th></th>\n",
       "      <th></th>\n",
       "      <th></th>\n",
       "      <th></th>\n",
       "      <th></th>\n",
       "      <th></th>\n",
       "      <th></th>\n",
       "      <th></th>\n",
       "      <th></th>\n",
       "    </tr>\n",
       "  </thead>\n",
       "  <tbody>\n",
       "    <tr>\n",
       "      <th>1975-04-05</th>\n",
       "      <td>COM00080094</td>\n",
       "      <td>PALONEGRO, CO</td>\n",
       "      <td>7.127</td>\n",
       "      <td>-73.185</td>\n",
       "      <td>1187.8</td>\n",
       "      <td>NaN</td>\n",
       "      <td>72.0</td>\n",
       "      <td>NaN</td>\n",
       "      <td>64.0</td>\n",
       "    </tr>\n",
       "    <tr>\n",
       "      <th>1975-04-10</th>\n",
       "      <td>COM00080094</td>\n",
       "      <td>PALONEGRO, CO</td>\n",
       "      <td>7.127</td>\n",
       "      <td>-73.185</td>\n",
       "      <td>1187.8</td>\n",
       "      <td>NaN</td>\n",
       "      <td>73.0</td>\n",
       "      <td>77.0</td>\n",
       "      <td>66.0</td>\n",
       "    </tr>\n",
       "    <tr>\n",
       "      <th>1975-04-13</th>\n",
       "      <td>COM00080094</td>\n",
       "      <td>PALONEGRO, CO</td>\n",
       "      <td>7.127</td>\n",
       "      <td>-73.185</td>\n",
       "      <td>1187.8</td>\n",
       "      <td>NaN</td>\n",
       "      <td>72.0</td>\n",
       "      <td>79.0</td>\n",
       "      <td>64.0</td>\n",
       "    </tr>\n",
       "    <tr>\n",
       "      <th>1975-04-15</th>\n",
       "      <td>COM00080094</td>\n",
       "      <td>PALONEGRO, CO</td>\n",
       "      <td>7.127</td>\n",
       "      <td>-73.185</td>\n",
       "      <td>1187.8</td>\n",
       "      <td>NaN</td>\n",
       "      <td>73.0</td>\n",
       "      <td>79.0</td>\n",
       "      <td>66.0</td>\n",
       "    </tr>\n",
       "    <tr>\n",
       "      <th>1975-04-30</th>\n",
       "      <td>COM00080094</td>\n",
       "      <td>PALONEGRO, CO</td>\n",
       "      <td>7.127</td>\n",
       "      <td>-73.185</td>\n",
       "      <td>1187.8</td>\n",
       "      <td>NaN</td>\n",
       "      <td>68.0</td>\n",
       "      <td>73.0</td>\n",
       "      <td>NaN</td>\n",
       "    </tr>\n",
       "    <tr>\n",
       "      <th>...</th>\n",
       "      <td>...</td>\n",
       "      <td>...</td>\n",
       "      <td>...</td>\n",
       "      <td>...</td>\n",
       "      <td>...</td>\n",
       "      <td>...</td>\n",
       "      <td>...</td>\n",
       "      <td>...</td>\n",
       "      <td>...</td>\n",
       "    </tr>\n",
       "    <tr>\n",
       "      <th>2020-01-03</th>\n",
       "      <td>COM00080091</td>\n",
       "      <td>YARIGUIES, CO</td>\n",
       "      <td>7.024</td>\n",
       "      <td>-73.807</td>\n",
       "      <td>125.6</td>\n",
       "      <td>0.00</td>\n",
       "      <td>85.0</td>\n",
       "      <td>NaN</td>\n",
       "      <td>75.0</td>\n",
       "    </tr>\n",
       "    <tr>\n",
       "      <th>2020-01-04</th>\n",
       "      <td>COM00080091</td>\n",
       "      <td>YARIGUIES, CO</td>\n",
       "      <td>7.024</td>\n",
       "      <td>-73.807</td>\n",
       "      <td>125.6</td>\n",
       "      <td>0.00</td>\n",
       "      <td>85.0</td>\n",
       "      <td>NaN</td>\n",
       "      <td>75.0</td>\n",
       "    </tr>\n",
       "    <tr>\n",
       "      <th>2020-01-05</th>\n",
       "      <td>COM00080091</td>\n",
       "      <td>YARIGUIES, CO</td>\n",
       "      <td>7.024</td>\n",
       "      <td>-73.807</td>\n",
       "      <td>125.6</td>\n",
       "      <td>0.12</td>\n",
       "      <td>84.0</td>\n",
       "      <td>91.0</td>\n",
       "      <td>75.0</td>\n",
       "    </tr>\n",
       "    <tr>\n",
       "      <th>2020-01-06</th>\n",
       "      <td>COM00080091</td>\n",
       "      <td>YARIGUIES, CO</td>\n",
       "      <td>7.024</td>\n",
       "      <td>-73.807</td>\n",
       "      <td>125.6</td>\n",
       "      <td>0.00</td>\n",
       "      <td>83.0</td>\n",
       "      <td>NaN</td>\n",
       "      <td>74.0</td>\n",
       "    </tr>\n",
       "    <tr>\n",
       "      <th>2020-01-07</th>\n",
       "      <td>COM00080091</td>\n",
       "      <td>YARIGUIES, CO</td>\n",
       "      <td>7.024</td>\n",
       "      <td>-73.807</td>\n",
       "      <td>125.6</td>\n",
       "      <td>0.12</td>\n",
       "      <td>84.0</td>\n",
       "      <td>NaN</td>\n",
       "      <td>74.0</td>\n",
       "    </tr>\n",
       "  </tbody>\n",
       "</table>\n",
       "<p>359753 rows × 9 columns</p>\n",
       "</div>"
      ],
      "text/plain": [
       "                station           name  latitude  longitude  elevation  prcp  \\\n",
       "DATE                                                                           \n",
       "1975-04-05  COM00080094  PALONEGRO, CO     7.127    -73.185     1187.8   NaN   \n",
       "1975-04-10  COM00080094  PALONEGRO, CO     7.127    -73.185     1187.8   NaN   \n",
       "1975-04-13  COM00080094  PALONEGRO, CO     7.127    -73.185     1187.8   NaN   \n",
       "1975-04-15  COM00080094  PALONEGRO, CO     7.127    -73.185     1187.8   NaN   \n",
       "1975-04-30  COM00080094  PALONEGRO, CO     7.127    -73.185     1187.8   NaN   \n",
       "...                 ...            ...       ...        ...        ...   ...   \n",
       "2020-01-03  COM00080091  YARIGUIES, CO     7.024    -73.807      125.6  0.00   \n",
       "2020-01-04  COM00080091  YARIGUIES, CO     7.024    -73.807      125.6  0.00   \n",
       "2020-01-05  COM00080091  YARIGUIES, CO     7.024    -73.807      125.6  0.12   \n",
       "2020-01-06  COM00080091  YARIGUIES, CO     7.024    -73.807      125.6  0.00   \n",
       "2020-01-07  COM00080091  YARIGUIES, CO     7.024    -73.807      125.6  0.12   \n",
       "\n",
       "            tavg  tmax  tmin  \n",
       "DATE                          \n",
       "1975-04-05  72.0   NaN  64.0  \n",
       "1975-04-10  73.0  77.0  66.0  \n",
       "1975-04-13  72.0  79.0  64.0  \n",
       "1975-04-15  73.0  79.0  66.0  \n",
       "1975-04-30  68.0  73.0   NaN  \n",
       "...          ...   ...   ...  \n",
       "2020-01-03  85.0   NaN  75.0  \n",
       "2020-01-04  85.0   NaN  75.0  \n",
       "2020-01-05  84.0  91.0  75.0  \n",
       "2020-01-06  83.0   NaN  74.0  \n",
       "2020-01-07  84.0   NaN  74.0  \n",
       "\n",
       "[359753 rows x 9 columns]"
      ]
     },
     "execution_count": 164,
     "metadata": {},
     "output_type": "execute_result"
    }
   ],
   "source": [
    "df"
   ]
  },
  {
   "cell_type": "code",
   "execution_count": 2,
   "metadata": {},
   "outputs": [],
   "source": [
    "df = prepare.get_data()"
   ]
  },
  {
   "cell_type": "code",
   "execution_count": 22,
   "metadata": {},
   "outputs": [],
   "source": [
    "df = df.sort_values(by='region').sort_index()"
   ]
  },
  {
   "cell_type": "code",
   "execution_count": 28,
   "metadata": {},
   "outputs": [
    {
     "data": {
      "text/html": [
       "<div>\n",
       "<style scoped>\n",
       "    .dataframe tbody tr th:only-of-type {\n",
       "        vertical-align: middle;\n",
       "    }\n",
       "\n",
       "    .dataframe tbody tr th {\n",
       "        vertical-align: top;\n",
       "    }\n",
       "\n",
       "    .dataframe thead th {\n",
       "        text-align: right;\n",
       "    }\n",
       "</style>\n",
       "<table border=\"1\" class=\"dataframe\">\n",
       "  <thead>\n",
       "    <tr style=\"text-align: right;\">\n",
       "      <th></th>\n",
       "      <th>region</th>\n",
       "      <th>mean_precip</th>\n",
       "      <th>mean_temp</th>\n",
       "      <th>min_temp</th>\n",
       "      <th>max_temp</th>\n",
       "      <th>price</th>\n",
       "      <th>quantity</th>\n",
       "      <th>inflated</th>\n",
       "    </tr>\n",
       "    <tr>\n",
       "      <th>date</th>\n",
       "      <th></th>\n",
       "      <th></th>\n",
       "      <th></th>\n",
       "      <th></th>\n",
       "      <th></th>\n",
       "      <th></th>\n",
       "      <th></th>\n",
       "      <th></th>\n",
       "    </tr>\n",
       "  </thead>\n",
       "  <tbody>\n",
       "    <tr>\n",
       "      <th>2018-10-01</th>\n",
       "      <td>Risaralda</td>\n",
       "      <td>0.340000</td>\n",
       "      <td>70.645161</td>\n",
       "      <td>59.0</td>\n",
       "      <td>81.0</td>\n",
       "      <td>138.804516</td>\n",
       "      <td>1086.0</td>\n",
       "      <td>138.804516</td>\n",
       "    </tr>\n",
       "    <tr>\n",
       "      <th>2018-10-01</th>\n",
       "      <td>Cesar</td>\n",
       "      <td>0.146667</td>\n",
       "      <td>83.225806</td>\n",
       "      <td>71.0</td>\n",
       "      <td>95.0</td>\n",
       "      <td>138.804516</td>\n",
       "      <td>1086.0</td>\n",
       "      <td>138.804516</td>\n",
       "    </tr>\n",
       "    <tr>\n",
       "      <th>2018-10-01</th>\n",
       "      <td>Quindio</td>\n",
       "      <td>0.270000</td>\n",
       "      <td>71.870968</td>\n",
       "      <td>58.0</td>\n",
       "      <td>81.0</td>\n",
       "      <td>138.804516</td>\n",
       "      <td>1086.0</td>\n",
       "      <td>138.804516</td>\n",
       "    </tr>\n",
       "    <tr>\n",
       "      <th>2018-10-01</th>\n",
       "      <td>Valle</td>\n",
       "      <td>0.441852</td>\n",
       "      <td>82.548387</td>\n",
       "      <td>71.0</td>\n",
       "      <td>92.0</td>\n",
       "      <td>138.804516</td>\n",
       "      <td>1086.0</td>\n",
       "      <td>138.804516</td>\n",
       "    </tr>\n",
       "    <tr>\n",
       "      <th>2018-11-01</th>\n",
       "      <td>Cundinamarca</td>\n",
       "      <td>0.194348</td>\n",
       "      <td>57.708333</td>\n",
       "      <td>46.0</td>\n",
       "      <td>74.0</td>\n",
       "      <td>140.750333</td>\n",
       "      <td>1300.0</td>\n",
       "      <td>140.750333</td>\n",
       "    </tr>\n",
       "    <tr>\n",
       "      <th>2018-11-01</th>\n",
       "      <td>Cesar</td>\n",
       "      <td>0.059130</td>\n",
       "      <td>85.291667</td>\n",
       "      <td>72.0</td>\n",
       "      <td>96.0</td>\n",
       "      <td>140.750333</td>\n",
       "      <td>1300.0</td>\n",
       "      <td>140.750333</td>\n",
       "    </tr>\n",
       "    <tr>\n",
       "      <th>2018-11-01</th>\n",
       "      <td>Narino</td>\n",
       "      <td>0.403333</td>\n",
       "      <td>66.375000</td>\n",
       "      <td>55.0</td>\n",
       "      <td>NaN</td>\n",
       "      <td>140.750333</td>\n",
       "      <td>1300.0</td>\n",
       "      <td>140.750333</td>\n",
       "    </tr>\n",
       "    <tr>\n",
       "      <th>2018-11-01</th>\n",
       "      <td>Quindio</td>\n",
       "      <td>0.432500</td>\n",
       "      <td>71.750000</td>\n",
       "      <td>63.0</td>\n",
       "      <td>84.0</td>\n",
       "      <td>140.750333</td>\n",
       "      <td>1300.0</td>\n",
       "      <td>140.750333</td>\n",
       "    </tr>\n",
       "    <tr>\n",
       "      <th>2018-11-01</th>\n",
       "      <td>Antioquia</td>\n",
       "      <td>0.197500</td>\n",
       "      <td>55.708333</td>\n",
       "      <td>35.0</td>\n",
       "      <td>60.0</td>\n",
       "      <td>140.750333</td>\n",
       "      <td>1300.0</td>\n",
       "      <td>140.750333</td>\n",
       "    </tr>\n",
       "    <tr>\n",
       "      <th>2018-11-01</th>\n",
       "      <td>Risaralda</td>\n",
       "      <td>0.435652</td>\n",
       "      <td>70.458333</td>\n",
       "      <td>63.0</td>\n",
       "      <td>83.0</td>\n",
       "      <td>140.750333</td>\n",
       "      <td>1300.0</td>\n",
       "      <td>140.750333</td>\n",
       "    </tr>\n",
       "    <tr>\n",
       "      <th>2018-11-01</th>\n",
       "      <td>Huila</td>\n",
       "      <td>0.199565</td>\n",
       "      <td>83.291667</td>\n",
       "      <td>71.0</td>\n",
       "      <td>93.0</td>\n",
       "      <td>140.750333</td>\n",
       "      <td>1300.0</td>\n",
       "      <td>140.750333</td>\n",
       "    </tr>\n",
       "    <tr>\n",
       "      <th>2018-11-01</th>\n",
       "      <td>Tolima</td>\n",
       "      <td>0.146667</td>\n",
       "      <td>83.375000</td>\n",
       "      <td>58.0</td>\n",
       "      <td>93.0</td>\n",
       "      <td>140.750333</td>\n",
       "      <td>1300.0</td>\n",
       "      <td>140.750333</td>\n",
       "    </tr>\n",
       "    <tr>\n",
       "      <th>2018-11-01</th>\n",
       "      <td>Cauca</td>\n",
       "      <td>0.902083</td>\n",
       "      <td>79.583333</td>\n",
       "      <td>73.0</td>\n",
       "      <td>89.0</td>\n",
       "      <td>140.750333</td>\n",
       "      <td>1300.0</td>\n",
       "      <td>140.750333</td>\n",
       "    </tr>\n",
       "    <tr>\n",
       "      <th>2018-11-01</th>\n",
       "      <td>Magdalena</td>\n",
       "      <td>0.017143</td>\n",
       "      <td>84.500000</td>\n",
       "      <td>73.0</td>\n",
       "      <td>92.0</td>\n",
       "      <td>140.750333</td>\n",
       "      <td>1300.0</td>\n",
       "      <td>140.750333</td>\n",
       "    </tr>\n",
       "    <tr>\n",
       "      <th>2018-11-01</th>\n",
       "      <td>Valle</td>\n",
       "      <td>0.524286</td>\n",
       "      <td>82.708333</td>\n",
       "      <td>72.0</td>\n",
       "      <td>NaN</td>\n",
       "      <td>140.750333</td>\n",
       "      <td>1300.0</td>\n",
       "      <td>140.750333</td>\n",
       "    </tr>\n",
       "    <tr>\n",
       "      <th>2018-11-01</th>\n",
       "      <td>Santander</td>\n",
       "      <td>0.054348</td>\n",
       "      <td>71.166667</td>\n",
       "      <td>63.0</td>\n",
       "      <td>82.0</td>\n",
       "      <td>140.750333</td>\n",
       "      <td>1300.0</td>\n",
       "      <td>140.750333</td>\n",
       "    </tr>\n",
       "    <tr>\n",
       "      <th>2018-11-01</th>\n",
       "      <td>Caldas</td>\n",
       "      <td>0.236250</td>\n",
       "      <td>72.333333</td>\n",
       "      <td>62.0</td>\n",
       "      <td>NaN</td>\n",
       "      <td>140.750333</td>\n",
       "      <td>1300.0</td>\n",
       "      <td>140.750333</td>\n",
       "    </tr>\n",
       "    <tr>\n",
       "      <th>2018-12-01</th>\n",
       "      <td>Cesar</td>\n",
       "      <td>0.000000</td>\n",
       "      <td>86.548387</td>\n",
       "      <td>70.0</td>\n",
       "      <td>100.0</td>\n",
       "      <td>129.622903</td>\n",
       "      <td>1283.0</td>\n",
       "      <td>129.622903</td>\n",
       "    </tr>\n",
       "    <tr>\n",
       "      <th>2018-12-01</th>\n",
       "      <td>Huila</td>\n",
       "      <td>0.022000</td>\n",
       "      <td>84.290323</td>\n",
       "      <td>69.0</td>\n",
       "      <td>97.0</td>\n",
       "      <td>129.622903</td>\n",
       "      <td>1283.0</td>\n",
       "      <td>129.622903</td>\n",
       "    </tr>\n",
       "    <tr>\n",
       "      <th>2018-12-01</th>\n",
       "      <td>Valle</td>\n",
       "      <td>0.004167</td>\n",
       "      <td>85.258065</td>\n",
       "      <td>73.0</td>\n",
       "      <td>92.0</td>\n",
       "      <td>129.622903</td>\n",
       "      <td>1283.0</td>\n",
       "      <td>129.622903</td>\n",
       "    </tr>\n",
       "    <tr>\n",
       "      <th>2018-12-01</th>\n",
       "      <td>Santander</td>\n",
       "      <td>0.020345</td>\n",
       "      <td>72.419355</td>\n",
       "      <td>63.0</td>\n",
       "      <td>86.0</td>\n",
       "      <td>129.622903</td>\n",
       "      <td>1283.0</td>\n",
       "      <td>129.622903</td>\n",
       "    </tr>\n",
       "    <tr>\n",
       "      <th>2018-12-01</th>\n",
       "      <td>Quindio</td>\n",
       "      <td>0.079032</td>\n",
       "      <td>73.548387</td>\n",
       "      <td>60.0</td>\n",
       "      <td>85.0</td>\n",
       "      <td>129.622903</td>\n",
       "      <td>1283.0</td>\n",
       "      <td>129.622903</td>\n",
       "    </tr>\n",
       "    <tr>\n",
       "      <th>2018-12-01</th>\n",
       "      <td>Caldas</td>\n",
       "      <td>0.020714</td>\n",
       "      <td>74.774194</td>\n",
       "      <td>60.0</td>\n",
       "      <td>NaN</td>\n",
       "      <td>129.622903</td>\n",
       "      <td>1283.0</td>\n",
       "      <td>129.622903</td>\n",
       "    </tr>\n",
       "    <tr>\n",
       "      <th>2018-12-01</th>\n",
       "      <td>Narino</td>\n",
       "      <td>0.032903</td>\n",
       "      <td>68.806452</td>\n",
       "      <td>55.0</td>\n",
       "      <td>81.0</td>\n",
       "      <td>129.622903</td>\n",
       "      <td>1283.0</td>\n",
       "      <td>129.622903</td>\n",
       "    </tr>\n",
       "    <tr>\n",
       "      <th>2018-12-01</th>\n",
       "      <td>Antioquia</td>\n",
       "      <td>0.061613</td>\n",
       "      <td>53.193548</td>\n",
       "      <td>35.0</td>\n",
       "      <td>NaN</td>\n",
       "      <td>129.622903</td>\n",
       "      <td>1283.0</td>\n",
       "      <td>129.622903</td>\n",
       "    </tr>\n",
       "    <tr>\n",
       "      <th>2018-12-01</th>\n",
       "      <td>Magdalena</td>\n",
       "      <td>0.000000</td>\n",
       "      <td>84.000000</td>\n",
       "      <td>71.0</td>\n",
       "      <td>96.0</td>\n",
       "      <td>129.622903</td>\n",
       "      <td>1283.0</td>\n",
       "      <td>129.622903</td>\n",
       "    </tr>\n",
       "    <tr>\n",
       "      <th>2018-12-01</th>\n",
       "      <td>Cauca</td>\n",
       "      <td>0.946129</td>\n",
       "      <td>81.032258</td>\n",
       "      <td>73.0</td>\n",
       "      <td>90.0</td>\n",
       "      <td>129.622903</td>\n",
       "      <td>1283.0</td>\n",
       "      <td>129.622903</td>\n",
       "    </tr>\n",
       "    <tr>\n",
       "      <th>2018-12-01</th>\n",
       "      <td>Tolima</td>\n",
       "      <td>0.032500</td>\n",
       "      <td>83.387097</td>\n",
       "      <td>69.0</td>\n",
       "      <td>94.0</td>\n",
       "      <td>129.622903</td>\n",
       "      <td>1283.0</td>\n",
       "      <td>129.622903</td>\n",
       "    </tr>\n",
       "    <tr>\n",
       "      <th>2018-12-01</th>\n",
       "      <td>Cundinamarca</td>\n",
       "      <td>0.010000</td>\n",
       "      <td>55.870968</td>\n",
       "      <td>36.0</td>\n",
       "      <td>73.0</td>\n",
       "      <td>129.622903</td>\n",
       "      <td>1283.0</td>\n",
       "      <td>129.622903</td>\n",
       "    </tr>\n",
       "    <tr>\n",
       "      <th>2018-12-01</th>\n",
       "      <td>Risaralda</td>\n",
       "      <td>0.156538</td>\n",
       "      <td>72.387097</td>\n",
       "      <td>62.0</td>\n",
       "      <td>84.0</td>\n",
       "      <td>129.622903</td>\n",
       "      <td>1283.0</td>\n",
       "      <td>129.622903</td>\n",
       "    </tr>\n",
       "  </tbody>\n",
       "</table>\n",
       "</div>"
      ],
      "text/plain": [
       "                  region  mean_precip  mean_temp  min_temp  max_temp  \\\n",
       "date                                                                   \n",
       "2018-10-01     Risaralda     0.340000  70.645161      59.0      81.0   \n",
       "2018-10-01         Cesar     0.146667  83.225806      71.0      95.0   \n",
       "2018-10-01       Quindio     0.270000  71.870968      58.0      81.0   \n",
       "2018-10-01         Valle     0.441852  82.548387      71.0      92.0   \n",
       "2018-11-01  Cundinamarca     0.194348  57.708333      46.0      74.0   \n",
       "2018-11-01         Cesar     0.059130  85.291667      72.0      96.0   \n",
       "2018-11-01        Narino     0.403333  66.375000      55.0       NaN   \n",
       "2018-11-01       Quindio     0.432500  71.750000      63.0      84.0   \n",
       "2018-11-01     Antioquia     0.197500  55.708333      35.0      60.0   \n",
       "2018-11-01     Risaralda     0.435652  70.458333      63.0      83.0   \n",
       "2018-11-01         Huila     0.199565  83.291667      71.0      93.0   \n",
       "2018-11-01        Tolima     0.146667  83.375000      58.0      93.0   \n",
       "2018-11-01         Cauca     0.902083  79.583333      73.0      89.0   \n",
       "2018-11-01     Magdalena     0.017143  84.500000      73.0      92.0   \n",
       "2018-11-01         Valle     0.524286  82.708333      72.0       NaN   \n",
       "2018-11-01     Santander     0.054348  71.166667      63.0      82.0   \n",
       "2018-11-01        Caldas     0.236250  72.333333      62.0       NaN   \n",
       "2018-12-01         Cesar     0.000000  86.548387      70.0     100.0   \n",
       "2018-12-01         Huila     0.022000  84.290323      69.0      97.0   \n",
       "2018-12-01         Valle     0.004167  85.258065      73.0      92.0   \n",
       "2018-12-01     Santander     0.020345  72.419355      63.0      86.0   \n",
       "2018-12-01       Quindio     0.079032  73.548387      60.0      85.0   \n",
       "2018-12-01        Caldas     0.020714  74.774194      60.0       NaN   \n",
       "2018-12-01        Narino     0.032903  68.806452      55.0      81.0   \n",
       "2018-12-01     Antioquia     0.061613  53.193548      35.0       NaN   \n",
       "2018-12-01     Magdalena     0.000000  84.000000      71.0      96.0   \n",
       "2018-12-01         Cauca     0.946129  81.032258      73.0      90.0   \n",
       "2018-12-01        Tolima     0.032500  83.387097      69.0      94.0   \n",
       "2018-12-01  Cundinamarca     0.010000  55.870968      36.0      73.0   \n",
       "2018-12-01     Risaralda     0.156538  72.387097      62.0      84.0   \n",
       "\n",
       "                 price  quantity    inflated  \n",
       "date                                          \n",
       "2018-10-01  138.804516    1086.0  138.804516  \n",
       "2018-10-01  138.804516    1086.0  138.804516  \n",
       "2018-10-01  138.804516    1086.0  138.804516  \n",
       "2018-10-01  138.804516    1086.0  138.804516  \n",
       "2018-11-01  140.750333    1300.0  140.750333  \n",
       "2018-11-01  140.750333    1300.0  140.750333  \n",
       "2018-11-01  140.750333    1300.0  140.750333  \n",
       "2018-11-01  140.750333    1300.0  140.750333  \n",
       "2018-11-01  140.750333    1300.0  140.750333  \n",
       "2018-11-01  140.750333    1300.0  140.750333  \n",
       "2018-11-01  140.750333    1300.0  140.750333  \n",
       "2018-11-01  140.750333    1300.0  140.750333  \n",
       "2018-11-01  140.750333    1300.0  140.750333  \n",
       "2018-11-01  140.750333    1300.0  140.750333  \n",
       "2018-11-01  140.750333    1300.0  140.750333  \n",
       "2018-11-01  140.750333    1300.0  140.750333  \n",
       "2018-11-01  140.750333    1300.0  140.750333  \n",
       "2018-12-01  129.622903    1283.0  129.622903  \n",
       "2018-12-01  129.622903    1283.0  129.622903  \n",
       "2018-12-01  129.622903    1283.0  129.622903  \n",
       "2018-12-01  129.622903    1283.0  129.622903  \n",
       "2018-12-01  129.622903    1283.0  129.622903  \n",
       "2018-12-01  129.622903    1283.0  129.622903  \n",
       "2018-12-01  129.622903    1283.0  129.622903  \n",
       "2018-12-01  129.622903    1283.0  129.622903  \n",
       "2018-12-01  129.622903    1283.0  129.622903  \n",
       "2018-12-01  129.622903    1283.0  129.622903  \n",
       "2018-12-01  129.622903    1283.0  129.622903  \n",
       "2018-12-01  129.622903    1283.0  129.622903  \n",
       "2018-12-01  129.622903    1283.0  129.622903  "
      ]
     },
     "execution_count": 28,
     "metadata": {},
     "output_type": "execute_result"
    }
   ],
   "source": [
    "df.tail(30)"
   ]
  },
  {
   "cell_type": "code",
   "execution_count": 10,
   "metadata": {},
   "outputs": [
    {
     "data": {
      "text/plain": [
       "(225, 8)"
      ]
     },
     "execution_count": 10,
     "metadata": {},
     "output_type": "execute_result"
    }
   ],
   "source": [
    "df[df.mean_temp.isna()].shape"
   ]
  },
  {
   "cell_type": "code",
   "execution_count": 34,
   "metadata": {},
   "outputs": [],
   "source": [
    "mean_temp = df[['region','mean_temp']]"
   ]
  },
  {
   "cell_type": "code",
   "execution_count": 35,
   "metadata": {},
   "outputs": [
    {
     "data": {
      "text/html": [
       "<div>\n",
       "<style scoped>\n",
       "    .dataframe tbody tr th:only-of-type {\n",
       "        vertical-align: middle;\n",
       "    }\n",
       "\n",
       "    .dataframe tbody tr th {\n",
       "        vertical-align: top;\n",
       "    }\n",
       "\n",
       "    .dataframe thead th {\n",
       "        text-align: right;\n",
       "    }\n",
       "</style>\n",
       "<table border=\"1\" class=\"dataframe\">\n",
       "  <thead>\n",
       "    <tr style=\"text-align: right;\">\n",
       "      <th></th>\n",
       "      <th>region</th>\n",
       "      <th>mean_temp</th>\n",
       "    </tr>\n",
       "    <tr>\n",
       "      <th>date</th>\n",
       "      <th></th>\n",
       "      <th></th>\n",
       "    </tr>\n",
       "  </thead>\n",
       "  <tbody>\n",
       "    <tr>\n",
       "      <th>1960-01-01</th>\n",
       "      <td>Cundinamarca</td>\n",
       "      <td>58.250000</td>\n",
       "    </tr>\n",
       "    <tr>\n",
       "      <th>1960-01-01</th>\n",
       "      <td>Caldas</td>\n",
       "      <td>72.500000</td>\n",
       "    </tr>\n",
       "    <tr>\n",
       "      <th>1960-02-01</th>\n",
       "      <td>Cundinamarca</td>\n",
       "      <td>58.894737</td>\n",
       "    </tr>\n",
       "    <tr>\n",
       "      <th>1960-02-01</th>\n",
       "      <td>Caldas</td>\n",
       "      <td>72.210526</td>\n",
       "    </tr>\n",
       "    <tr>\n",
       "      <th>1960-02-01</th>\n",
       "      <td>Narino</td>\n",
       "      <td>NaN</td>\n",
       "    </tr>\n",
       "    <tr>\n",
       "      <th>1960-03-01</th>\n",
       "      <td>Cundinamarca</td>\n",
       "      <td>58.347826</td>\n",
       "    </tr>\n",
       "    <tr>\n",
       "      <th>1960-03-01</th>\n",
       "      <td>Caldas</td>\n",
       "      <td>71.875000</td>\n",
       "    </tr>\n",
       "    <tr>\n",
       "      <th>1960-03-01</th>\n",
       "      <td>Narino</td>\n",
       "      <td>NaN</td>\n",
       "    </tr>\n",
       "    <tr>\n",
       "      <th>1960-04-01</th>\n",
       "      <td>Caldas</td>\n",
       "      <td>72.687500</td>\n",
       "    </tr>\n",
       "    <tr>\n",
       "      <th>1960-04-01</th>\n",
       "      <td>Cundinamarca</td>\n",
       "      <td>59.687500</td>\n",
       "    </tr>\n",
       "    <tr>\n",
       "      <th>1960-04-01</th>\n",
       "      <td>Narino</td>\n",
       "      <td>NaN</td>\n",
       "    </tr>\n",
       "    <tr>\n",
       "      <th>1960-05-01</th>\n",
       "      <td>Caldas</td>\n",
       "      <td>72.181818</td>\n",
       "    </tr>\n",
       "    <tr>\n",
       "      <th>1960-05-01</th>\n",
       "      <td>Narino</td>\n",
       "      <td>NaN</td>\n",
       "    </tr>\n",
       "    <tr>\n",
       "      <th>1960-05-01</th>\n",
       "      <td>Cundinamarca</td>\n",
       "      <td>59.458333</td>\n",
       "    </tr>\n",
       "    <tr>\n",
       "      <th>1960-06-01</th>\n",
       "      <td>Caldas</td>\n",
       "      <td>72.565217</td>\n",
       "    </tr>\n",
       "    <tr>\n",
       "      <th>1960-06-01</th>\n",
       "      <td>Narino</td>\n",
       "      <td>NaN</td>\n",
       "    </tr>\n",
       "    <tr>\n",
       "      <th>1960-06-01</th>\n",
       "      <td>Cundinamarca</td>\n",
       "      <td>59.071429</td>\n",
       "    </tr>\n",
       "    <tr>\n",
       "      <th>1960-07-01</th>\n",
       "      <td>Narino</td>\n",
       "      <td>NaN</td>\n",
       "    </tr>\n",
       "    <tr>\n",
       "      <th>1960-07-01</th>\n",
       "      <td>Caldas</td>\n",
       "      <td>73.750000</td>\n",
       "    </tr>\n",
       "    <tr>\n",
       "      <th>1960-07-01</th>\n",
       "      <td>Cundinamarca</td>\n",
       "      <td>58.000000</td>\n",
       "    </tr>\n",
       "  </tbody>\n",
       "</table>\n",
       "</div>"
      ],
      "text/plain": [
       "                  region  mean_temp\n",
       "date                               \n",
       "1960-01-01  Cundinamarca  58.250000\n",
       "1960-01-01        Caldas  72.500000\n",
       "1960-02-01  Cundinamarca  58.894737\n",
       "1960-02-01        Caldas  72.210526\n",
       "1960-02-01        Narino        NaN\n",
       "1960-03-01  Cundinamarca  58.347826\n",
       "1960-03-01        Caldas  71.875000\n",
       "1960-03-01        Narino        NaN\n",
       "1960-04-01        Caldas  72.687500\n",
       "1960-04-01  Cundinamarca  59.687500\n",
       "1960-04-01        Narino        NaN\n",
       "1960-05-01        Caldas  72.181818\n",
       "1960-05-01        Narino        NaN\n",
       "1960-05-01  Cundinamarca  59.458333\n",
       "1960-06-01        Caldas  72.565217\n",
       "1960-06-01        Narino        NaN\n",
       "1960-06-01  Cundinamarca  59.071429\n",
       "1960-07-01        Narino        NaN\n",
       "1960-07-01        Caldas  73.750000\n",
       "1960-07-01  Cundinamarca  58.000000"
      ]
     },
     "execution_count": 35,
     "metadata": {},
     "output_type": "execute_result"
    }
   ],
   "source": [
    "mean_temp.head(20)"
   ]
  },
  {
   "cell_type": "code",
   "execution_count": 41,
   "metadata": {},
   "outputs": [
    {
     "name": "stderr",
     "output_type": "stream",
     "text": [
      "/usr/local/anaconda3/lib/python3.7/site-packages/ipykernel_launcher.py:1: SettingWithCopyWarning: \n",
      "A value is trying to be set on a copy of a slice from a DataFrame.\n",
      "Try using .loc[row_indexer,col_indexer] = value instead\n",
      "\n",
      "See the caveats in the documentation: http://pandas.pydata.org/pandas-docs/stable/user_guide/indexing.html#returning-a-view-versus-a-copy\n",
      "  \"\"\"Entry point for launching an IPython kernel.\n"
     ]
    }
   ],
   "source": [
    "mean_temp['prior_year_mean_temp'] = mean_temp.mean_temp.diff(periods=12)"
   ]
  },
  {
   "cell_type": "code",
   "execution_count": 42,
   "metadata": {},
   "outputs": [
    {
     "data": {
      "text/html": [
       "<div>\n",
       "<style scoped>\n",
       "    .dataframe tbody tr th:only-of-type {\n",
       "        vertical-align: middle;\n",
       "    }\n",
       "\n",
       "    .dataframe tbody tr th {\n",
       "        vertical-align: top;\n",
       "    }\n",
       "\n",
       "    .dataframe thead th {\n",
       "        text-align: right;\n",
       "    }\n",
       "</style>\n",
       "<table border=\"1\" class=\"dataframe\">\n",
       "  <thead>\n",
       "    <tr style=\"text-align: right;\">\n",
       "      <th></th>\n",
       "      <th>region</th>\n",
       "      <th>mean_temp</th>\n",
       "      <th>prior_year_mean_temp</th>\n",
       "    </tr>\n",
       "    <tr>\n",
       "      <th>date</th>\n",
       "      <th></th>\n",
       "      <th></th>\n",
       "      <th></th>\n",
       "    </tr>\n",
       "  </thead>\n",
       "  <tbody>\n",
       "    <tr>\n",
       "      <th>1960-01-01</th>\n",
       "      <td>Cundinamarca</td>\n",
       "      <td>58.250000</td>\n",
       "      <td>NaN</td>\n",
       "    </tr>\n",
       "    <tr>\n",
       "      <th>1960-01-01</th>\n",
       "      <td>Caldas</td>\n",
       "      <td>72.500000</td>\n",
       "      <td>NaN</td>\n",
       "    </tr>\n",
       "    <tr>\n",
       "      <th>1960-02-01</th>\n",
       "      <td>Cundinamarca</td>\n",
       "      <td>58.894737</td>\n",
       "      <td>NaN</td>\n",
       "    </tr>\n",
       "    <tr>\n",
       "      <th>1960-02-01</th>\n",
       "      <td>Caldas</td>\n",
       "      <td>72.210526</td>\n",
       "      <td>NaN</td>\n",
       "    </tr>\n",
       "    <tr>\n",
       "      <th>1960-02-01</th>\n",
       "      <td>Narino</td>\n",
       "      <td>NaN</td>\n",
       "      <td>NaN</td>\n",
       "    </tr>\n",
       "    <tr>\n",
       "      <th>...</th>\n",
       "      <td>...</td>\n",
       "      <td>...</td>\n",
       "      <td>...</td>\n",
       "    </tr>\n",
       "    <tr>\n",
       "      <th>2018-12-01</th>\n",
       "      <td>Magdalena</td>\n",
       "      <td>84.000000</td>\n",
       "      <td>-0.500000</td>\n",
       "    </tr>\n",
       "    <tr>\n",
       "      <th>2018-12-01</th>\n",
       "      <td>Cauca</td>\n",
       "      <td>81.032258</td>\n",
       "      <td>-1.676075</td>\n",
       "    </tr>\n",
       "    <tr>\n",
       "      <th>2018-12-01</th>\n",
       "      <td>Tolima</td>\n",
       "      <td>83.387097</td>\n",
       "      <td>12.220430</td>\n",
       "    </tr>\n",
       "    <tr>\n",
       "      <th>2018-12-01</th>\n",
       "      <td>Cundinamarca</td>\n",
       "      <td>55.870968</td>\n",
       "      <td>-16.462366</td>\n",
       "    </tr>\n",
       "    <tr>\n",
       "      <th>2018-12-01</th>\n",
       "      <td>Risaralda</td>\n",
       "      <td>72.387097</td>\n",
       "      <td>-14.161290</td>\n",
       "    </tr>\n",
       "  </tbody>\n",
       "</table>\n",
       "<p>7199 rows × 3 columns</p>\n",
       "</div>"
      ],
      "text/plain": [
       "                  region  mean_temp  prior_year_mean_temp\n",
       "date                                                     \n",
       "1960-01-01  Cundinamarca  58.250000                   NaN\n",
       "1960-01-01        Caldas  72.500000                   NaN\n",
       "1960-02-01  Cundinamarca  58.894737                   NaN\n",
       "1960-02-01        Caldas  72.210526                   NaN\n",
       "1960-02-01        Narino        NaN                   NaN\n",
       "...                  ...        ...                   ...\n",
       "2018-12-01     Magdalena  84.000000             -0.500000\n",
       "2018-12-01         Cauca  81.032258             -1.676075\n",
       "2018-12-01        Tolima  83.387097             12.220430\n",
       "2018-12-01  Cundinamarca  55.870968            -16.462366\n",
       "2018-12-01     Risaralda  72.387097            -14.161290\n",
       "\n",
       "[7199 rows x 3 columns]"
      ]
     },
     "execution_count": 42,
     "metadata": {},
     "output_type": "execute_result"
    }
   ],
   "source": [
    "mean_temp.head(30)"
   ]
  },
  {
   "cell_type": "code",
   "execution_count": 44,
   "metadata": {},
   "outputs": [
    {
     "data": {
      "text/plain": [
       "708"
      ]
     },
     "execution_count": 44,
     "metadata": {},
     "output_type": "execute_result"
    }
   ],
   "source": [
    "df.index.nunique()"
   ]
  },
  {
   "cell_type": "code",
   "execution_count": 46,
   "metadata": {},
   "outputs": [],
   "source": [
    "mean_temp.reset_index(inplace=True)"
   ]
  },
  {
   "cell_type": "code",
   "execution_count": 48,
   "metadata": {},
   "outputs": [
    {
     "name": "stderr",
     "output_type": "stream",
     "text": [
      "/usr/local/anaconda3/lib/python3.7/site-packages/ipykernel_launcher.py:1: SettingWithCopyWarning: \n",
      "A value is trying to be set on a copy of a slice from a DataFrame.\n",
      "Try using .loc[row_indexer,col_indexer] = value instead\n",
      "\n",
      "See the caveats in the documentation: http://pandas.pydata.org/pandas-docs/stable/user_guide/indexing.html#returning-a-view-versus-a-copy\n",
      "  \"\"\"Entry point for launching an IPython kernel.\n"
     ]
    }
   ],
   "source": [
    "mean_temp['unique'] = mean_temp.date.map(str) + mean_temp.region"
   ]
  },
  {
   "cell_type": "code",
   "execution_count": 50,
   "metadata": {},
   "outputs": [
    {
     "data": {
      "text/plain": [
       "date                    datetime64[ns]\n",
       "region                          object\n",
       "mean_temp                      float64\n",
       "prior_year_mean_temp           float64\n",
       "unique                          object\n",
       "dtype: object"
      ]
     },
     "execution_count": 50,
     "metadata": {},
     "output_type": "execute_result"
    }
   ],
   "source": [
    "mean_temp.dtypes"
   ]
  },
  {
   "cell_type": "code",
   "execution_count": 64,
   "metadata": {},
   "outputs": [
    {
     "data": {
      "text/plain": [
       "156"
      ]
     },
     "execution_count": 64,
     "metadata": {},
     "output_type": "execute_result"
    }
   ],
   "source": []
  },
  {
   "cell_type": "code",
   "execution_count": null,
   "metadata": {},
   "outputs": [],
   "source": []
  },
  {
   "cell_type": "code",
   "execution_count": null,
   "metadata": {},
   "outputs": [],
   "source": []
  },
  {
   "cell_type": "code",
   "execution_count": 72,
   "metadata": {},
   "outputs": [],
   "source": [
    "df.sort_index(inplace=True)"
   ]
  },
  {
   "cell_type": "code",
   "execution_count": 70,
   "metadata": {},
   "outputs": [
    {
     "data": {
      "text/plain": [
       "array(['Cundinamarca', 'Caldas', 'Narino', 'Cauca', 'Risaralda',\n",
       "       'Antioquia', 'Huila', 'Tolima', 'Magdalena', 'Valle', 'Quindio',\n",
       "       'Cesar', nan, 'Santander'], dtype=object)"
      ]
     },
     "execution_count": 70,
     "metadata": {},
     "output_type": "execute_result"
    }
   ],
   "source": [
    "df.region.unique()"
   ]
  },
  {
   "cell_type": "code",
   "execution_count": 76,
   "metadata": {},
   "outputs": [
    {
     "data": {
      "text/plain": [
       "<matplotlib.axes._subplots.AxesSubplot at 0x129eb7f98>"
      ]
     },
     "execution_count": 76,
     "metadata": {},
     "output_type": "execute_result"
    },
    {
     "data": {
      "image/png": "[encoded data removed]",
      "text/plain": [
       "<Figure size 432x288 with 1 Axes>"
      ]
     },
     "metadata": {
      "needs_background": "light"
     },
     "output_type": "display_data"
    }
   ],
   "source": [
    "#for r in df.region.unique():\n",
    "df[df.region == \"Narino\"].quantity.plot()"
   ]
  },
  {
   "cell_type": "code",
   "execution_count": 122,
   "metadata": {},
   "outputs": [],
   "source": [
    "grouper = df[df.index >= '01-01-1980'].groupby([pd.Grouper(freq='1Y'),'region'])"
   ]
  },
  {
   "cell_type": "code",
   "execution_count": 123,
   "metadata": {},
   "outputs": [],
   "source": [
    "region_quantity = grouper.mean()"
   ]
  },
  {
   "cell_type": "code",
   "execution_count": 125,
   "metadata": {},
   "outputs": [
    {
     "data": {
      "text/plain": [
       "Index(['mean_precip', 'mean_temp', 'min_temp', 'max_temp', 'price', 'quantity',\n",
       "       'inflated'],\n",
       "      dtype='object')"
      ]
     },
     "execution_count": 125,
     "metadata": {},
     "output_type": "execute_result"
    }
   ],
   "source": [
    "region_quantity.columns"
   ]
  },
  {
   "cell_type": "code",
   "execution_count": 116,
   "metadata": {},
   "outputs": [],
   "source": [
    "region_quantity = region_quantity.reset_index()"
   ]
  },
  {
   "cell_type": "code",
   "execution_count": null,
   "metadata": {},
   "outputs": [],
   "source": []
  },
  {
   "cell_type": "code",
   "execution_count": 117,
   "metadata": {},
   "outputs": [],
   "source": [
    "region_quantity.set_index('date',inplace=True)"
   ]
  },
  {
   "cell_type": "code",
   "execution_count": 118,
   "metadata": {},
   "outputs": [
    {
     "data": {
      "text/html": [
       "<div>\n",
       "<style scoped>\n",
       "    .dataframe tbody tr th:only-of-type {\n",
       "        vertical-align: middle;\n",
       "    }\n",
       "\n",
       "    .dataframe tbody tr th {\n",
       "        vertical-align: top;\n",
       "    }\n",
       "\n",
       "    .dataframe thead th {\n",
       "        text-align: right;\n",
       "    }\n",
       "</style>\n",
       "<table border=\"1\" class=\"dataframe\">\n",
       "  <thead>\n",
       "    <tr style=\"text-align: right;\">\n",
       "      <th></th>\n",
       "      <th>region</th>\n",
       "      <th>quantity</th>\n",
       "    </tr>\n",
       "    <tr>\n",
       "      <th>date</th>\n",
       "      <th></th>\n",
       "      <th></th>\n",
       "    </tr>\n",
       "  </thead>\n",
       "  <tbody>\n",
       "    <tr>\n",
       "      <th>1980-12-31</th>\n",
       "      <td>Antioquia</td>\n",
       "      <td>1006.083333</td>\n",
       "    </tr>\n",
       "    <tr>\n",
       "      <th>1980-12-31</th>\n",
       "      <td>Caldas</td>\n",
       "      <td>1006.083333</td>\n",
       "    </tr>\n",
       "    <tr>\n",
       "      <th>1980-12-31</th>\n",
       "      <td>Cauca</td>\n",
       "      <td>1006.083333</td>\n",
       "    </tr>\n",
       "    <tr>\n",
       "      <th>1980-12-31</th>\n",
       "      <td>Cesar</td>\n",
       "      <td>977.727273</td>\n",
       "    </tr>\n",
       "    <tr>\n",
       "      <th>1980-12-31</th>\n",
       "      <td>Cundinamarca</td>\n",
       "      <td>1006.083333</td>\n",
       "    </tr>\n",
       "    <tr>\n",
       "      <th>...</th>\n",
       "      <td>...</td>\n",
       "      <td>...</td>\n",
       "    </tr>\n",
       "    <tr>\n",
       "      <th>2018-12-31</th>\n",
       "      <td>Quindio</td>\n",
       "      <td>1129.750000</td>\n",
       "    </tr>\n",
       "    <tr>\n",
       "      <th>2018-12-31</th>\n",
       "      <td>Risaralda</td>\n",
       "      <td>1129.750000</td>\n",
       "    </tr>\n",
       "    <tr>\n",
       "      <th>2018-12-31</th>\n",
       "      <td>Santander</td>\n",
       "      <td>1129.750000</td>\n",
       "    </tr>\n",
       "    <tr>\n",
       "      <th>2018-12-31</th>\n",
       "      <td>Tolima</td>\n",
       "      <td>1129.750000</td>\n",
       "    </tr>\n",
       "    <tr>\n",
       "      <th>2018-12-31</th>\n",
       "      <td>Valle</td>\n",
       "      <td>1129.750000</td>\n",
       "    </tr>\n",
       "  </tbody>\n",
       "</table>\n",
       "<p>471 rows × 2 columns</p>\n",
       "</div>"
      ],
      "text/plain": [
       "                  region     quantity\n",
       "date                                 \n",
       "1980-12-31     Antioquia  1006.083333\n",
       "1980-12-31        Caldas  1006.083333\n",
       "1980-12-31         Cauca  1006.083333\n",
       "1980-12-31         Cesar   977.727273\n",
       "1980-12-31  Cundinamarca  1006.083333\n",
       "...                  ...          ...\n",
       "2018-12-31       Quindio  1129.750000\n",
       "2018-12-31     Risaralda  1129.750000\n",
       "2018-12-31     Santander  1129.750000\n",
       "2018-12-31        Tolima  1129.750000\n",
       "2018-12-31         Valle  1129.750000\n",
       "\n",
       "[471 rows x 2 columns]"
      ]
     },
     "execution_count": 118,
     "metadata": {},
     "output_type": "execute_result"
    }
   ],
   "source": [
    "region_quantity"
   ]
  },
  {
   "cell_type": "code",
   "execution_count": 129,
   "metadata": {
    "scrolled": false
   },
   "outputs": [],
   "source": [
    "def production_by_region(df):\n",
    "    grouper = df[df.index >= '01-01-1980'].groupby([pd.Grouper(freq='1Y'),'region'])\n",
    "    region_quantity = grouper.mean()\n",
    "    for c in region_quantity.columns:\n",
    "        region_quantity = group.c.mean()\n",
    "        region_quantity = region_quantity.reset_index()\n",
    "        region_quantity.set_index('date',inplace=True)\n",
    "\n",
    "        print(\"Top Coffee Producing Regions of Colombia\")\n",
    "        for r in region_quantity.region.unique():\n",
    "            region_quantity[region_quantity.region == r].quantity.plot()\n",
    "            plt.title(\"Thousands of 60kg bags produced by \" + r)\n",
    "            plt.ylabel(\"Thousands of 60kg bags\")\n",
    "            plt.xlabel(\"Year\")\n",
    "            plt.show()"
   ]
  },
  {
   "cell_type": "code",
   "execution_count": null,
   "metadata": {},
   "outputs": [],
   "source": []
  },
  {
   "cell_type": "code",
   "execution_count": 130,
   "metadata": {},
   "outputs": [
    {
     "ename": "AttributeError",
     "evalue": "'DataFrameGroupBy' object has no attribute 'c'",
     "output_type": "error",
     "traceback": [
      "\u001b[0;31m---------------------------------------------------------------------------\u001b[0m",
      "\u001b[0;31mAttributeError\u001b[0m                            Traceback (most recent call last)",
      "\u001b[0;32m<ipython-input-130-cfbd07a100d0>\u001b[0m in \u001b[0;36m<module>\u001b[0;34m\u001b[0m\n\u001b[0;32m----> 1\u001b[0;31m \u001b[0mproduction_by_region\u001b[0m\u001b[0;34m(\u001b[0m\u001b[0mdf\u001b[0m\u001b[0;34m)\u001b[0m\u001b[0;34m\u001b[0m\u001b[0;34m\u001b[0m\u001b[0m\n\u001b[0m",
      "\u001b[0;32m<ipython-input-129-40e5e8da0ae9>\u001b[0m in \u001b[0;36mproduction_by_region\u001b[0;34m(df)\u001b[0m\n\u001b[1;32m      3\u001b[0m     \u001b[0mregion_quantity\u001b[0m \u001b[0;34m=\u001b[0m \u001b[0mgrouper\u001b[0m\u001b[0;34m.\u001b[0m\u001b[0mmean\u001b[0m\u001b[0;34m(\u001b[0m\u001b[0;34m)\u001b[0m\u001b[0;34m\u001b[0m\u001b[0;34m\u001b[0m\u001b[0m\n\u001b[1;32m      4\u001b[0m     \u001b[0;32mfor\u001b[0m \u001b[0mc\u001b[0m \u001b[0;32min\u001b[0m \u001b[0mregion_quantity\u001b[0m\u001b[0;34m.\u001b[0m\u001b[0mcolumns\u001b[0m\u001b[0;34m:\u001b[0m\u001b[0;34m\u001b[0m\u001b[0;34m\u001b[0m\u001b[0m\n\u001b[0;32m----> 5\u001b[0;31m         \u001b[0mregion_quantity\u001b[0m \u001b[0;34m=\u001b[0m \u001b[0mgrouper\u001b[0m\u001b[0;34m.\u001b[0m\u001b[0mc\u001b[0m\u001b[0;34m.\u001b[0m\u001b[0mmean\u001b[0m\u001b[0;34m(\u001b[0m\u001b[0;34m)\u001b[0m\u001b[0;34m\u001b[0m\u001b[0;34m\u001b[0m\u001b[0m\n\u001b[0m\u001b[1;32m      6\u001b[0m         \u001b[0mregion_quantity\u001b[0m \u001b[0;34m=\u001b[0m \u001b[0mregion_quantity\u001b[0m\u001b[0;34m.\u001b[0m\u001b[0mreset_index\u001b[0m\u001b[0;34m(\u001b[0m\u001b[0;34m)\u001b[0m\u001b[0;34m\u001b[0m\u001b[0;34m\u001b[0m\u001b[0m\n\u001b[1;32m      7\u001b[0m         \u001b[0mregion_quantity\u001b[0m\u001b[0;34m.\u001b[0m\u001b[0mset_index\u001b[0m\u001b[0;34m(\u001b[0m\u001b[0;34m'date'\u001b[0m\u001b[0;34m,\u001b[0m\u001b[0minplace\u001b[0m\u001b[0;34m=\u001b[0m\u001b[0;32mTrue\u001b[0m\u001b[0;34m)\u001b[0m\u001b[0;34m\u001b[0m\u001b[0;34m\u001b[0m\u001b[0m\n",
      "\u001b[0;32m/usr/local/anaconda3/lib/python3.7/site-packages/pandas/core/groupby/groupby.py\u001b[0m in \u001b[0;36m__getattr__\u001b[0;34m(self, attr)\u001b[0m\n\u001b[1;32m    564\u001b[0m \u001b[0;34m\u001b[0m\u001b[0m\n\u001b[1;32m    565\u001b[0m         raise AttributeError(\n\u001b[0;32m--> 566\u001b[0;31m             \u001b[0;34m\"%r object has no attribute %r\"\u001b[0m \u001b[0;34m%\u001b[0m \u001b[0;34m(\u001b[0m\u001b[0mtype\u001b[0m\u001b[0;34m(\u001b[0m\u001b[0mself\u001b[0m\u001b[0;34m)\u001b[0m\u001b[0;34m.\u001b[0m\u001b[0m__name__\u001b[0m\u001b[0;34m,\u001b[0m \u001b[0mattr\u001b[0m\u001b[0;34m)\u001b[0m\u001b[0;34m\u001b[0m\u001b[0;34m\u001b[0m\u001b[0m\n\u001b[0m\u001b[1;32m    567\u001b[0m         )\n\u001b[1;32m    568\u001b[0m \u001b[0;34m\u001b[0m\u001b[0m\n",
      "\u001b[0;31mAttributeError\u001b[0m: 'DataFrameGroupBy' object has no attribute 'c'"
     ]
    }
   ],
   "source": [
    "production_by_region(df)"
   ]
  },
  {
   "cell_type": "code",
   "execution_count": 133,
   "metadata": {},
   "outputs": [],
   "source": [
    "def production_by_region(df):\n",
    "    \n",
    "    grouper = df[df.index >= '01-01-1980'].groupby([pd.Grouper(freq='1Y'),'region'])\n",
    "    region_quantity = grouper.quantity.sum()\n",
    "    region_quantity = region_quantity.reset_index()\n",
    "    region_quantity.set_index('date',inplace=True)\n",
    "\n",
    "    print(\"Top Coffee Producing Regions of Colombia\")\n",
    "    for r in region_quantity.region.unique():\n",
    "        region_quantity[region_quantity.region == r].quantity.plot()\n",
    "        plt.title(\"Thousands of 60kg bags produced by \" + r)\n",
    "        plt.ylabel(\"Thousands of 60kg bags\")\n",
    "        plt.xlabel(\"Year\")\n",
    "        plt.show()"
   ]
  },
  {
   "cell_type": "code",
   "execution_count": 134,
   "metadata": {},
   "outputs": [
    {
     "name": "stdout",
     "output_type": "stream",
     "text": [
      "Top Coffee Producing Regions of Colombia\n"
     ]
    },
    {
     "data": {
      "image/png": "[encoded data removed]",
      "text/plain": [
       "<Figure size 432x288 with 1 Axes>"
      ]
     },
     "metadata": {
      "needs_background": "light"
     },
     "output_type": "display_data"
    },
    {
     "data": {
      "image/png": "[encoded data removed]",
      "text/plain": [
       "<Figure size 432x288 with 1 Axes>"
      ]
     },
     "metadata": {
      "needs_background": "light"
     },
     "output_type": "display_data"
    },
    {
     "data": {
      "image/png": "[encoded data removed]",
      "text/plain": [
       "<Figure size 432x288 with 1 Axes>"
      ]
     },
     "metadata": {
      "needs_background": "light"
     },
     "output_type": "display_data"
    },
    {
     "data": {
      "image/png": "[encoded data removed]",
      "text/plain": [
       "<Figure size 432x288 with 1 Axes>"
      ]
     },
     "metadata": {
      "needs_background": "light"
     },
     "output_type": "display_data"
    },
    {
     "data": {
      "image/png": "[encoded data removed]",
      "text/plain": [
       "<Figure size 432x288 with 1 Axes>"
      ]
     },
     "metadata": {
      "needs_background": "light"
     },
     "output_type": "display_data"
    },
    {
     "data": {
      "image/png": "[encoded data removed]",
      "text/plain": [
       "<Figure size 432x288 with 1 Axes>"
      ]
     },
     "metadata": {
      "needs_background": "light"
     },
     "output_type": "display_data"
    },
    {
     "data": {
      "image/png": "[encoded data removed]",
      "text/plain": [
       "<Figure size 432x288 with 1 Axes>"
      ]
     },
     "metadata": {
      "needs_background": "light"
     },
     "output_type": "display_data"
    },
    {
     "data": {
      "image/png": "[encoded data removed]",
      "text/plain": [
       "<Figure size 432x288 with 1 Axes>"
      ]
     },
     "metadata": {
      "needs_background": "light"
     },
     "output_type": "display_data"
    },
    {
     "data": {
      "image/png": "[encoded data removed]",
      "text/plain": [
       "<Figure size 432x288 with 1 Axes>"
      ]
     },
     "metadata": {
      "needs_background": "light"
     },
     "output_type": "display_data"
    },
    {
     "data": {
      "image/png": "[encoded data removed]",
      "text/plain": [
       "<Figure size 432x288 with 1 Axes>"
      ]
     },
     "metadata": {
      "needs_background": "light"
     },
     "output_type": "display_data"
    },
    {
     "data": {
      "image/png": "[encoded data removed]",
      "text/plain": [
       "<Figure size 432x288 with 1 Axes>"
      ]
     },
     "metadata": {
      "needs_background": "light"
     },
     "output_type": "display_data"
    },
    {
     "data": {
      "image/png": "[encoded data removed]",
      "text/plain": [
       "<Figure size 432x288 with 1 Axes>"
      ]
     },
     "metadata": {
      "needs_background": "light"
     },
     "output_type": "display_data"
    },
    {
     "data": {
      "image/png": "[encoded data removed]",
      "text/plain": [
       "<Figure size 432x288 with 1 Axes>"
      ]
     },
     "metadata": {
      "needs_background": "light"
     },
     "output_type": "display_data"
    }
   ],
   "source": [
    "production_by_region(df)"
   ]
  },
  {
   "cell_type": "code",
   "execution_count": null,
   "metadata": {},
   "outputs": [],
   "source": [
    "def _by_region(df):\n",
    "    \n",
    "    grouper = df[df.index >= '01-01-1980'].groupby([pd.Grouper(freq='1Y'),'region'])\n",
    "    region_quantity = grouper.quantity.sum()\n",
    "    region_quantity = region_quantity.reset_index()\n",
    "    region_quantity.set_index('date',inplace=True)\n",
    "\n",
    "    print(\"Top Coffee Producing Regions of Colombia\")\n",
    "    for r in region_quantity.region.unique():\n",
    "        region_quantity[region_quantity.region == r].quantity.plot()\n",
    "        plt.title(\"Thousands of 60kg bags produced by \" + r)\n",
    "        plt.ylabel(\"Thousands of 60kg bags\")\n",
    "        plt.xlabel(\"Year\")\n",
    "        plt.show()"
   ]
  }
 ],
 "metadata": {
  "kernelspec": {
   "display_name": "Python 3",
   "language": "python",
   "name": "python3"
  },
  "language_info": {
   "codemirror_mode": {
    "name": "ipython",
    "version": 3
   },
   "file_extension": ".py",
   "mimetype": "text/x-python",
   "name": "python",
   "nbconvert_exporter": "python",
   "pygments_lexer": "ipython3",
   "version": "3.7.3"
  }
 },
 "nbformat": 4,
 "nbformat_minor": 2
}
