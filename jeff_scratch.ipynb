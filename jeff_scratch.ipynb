{
 "cells": [
  {
   "cell_type": "code",
   "execution_count": 38,
   "metadata": {},
   "outputs": [],
   "source": [
    "import pandas as pd\n",
    "import matplotlib.pyplot as plt\n",
    "%matplotlib inline\n",
    "import colombia_weather"
   ]
  },
  {
   "cell_type": "code",
   "execution_count": null,
   "metadata": {},
   "outputs": [],
   "source": [
    "df = pd.read_csv(\"psd_coffee.csv\")"
   ]
  },
  {
   "cell_type": "code",
   "execution_count": null,
   "metadata": {},
   "outputs": [],
   "source": [
    "df = df[df.Country_Name == \"Colombia\"]"
   ]
  },
  {
   "cell_type": "code",
   "execution_count": null,
   "metadata": {},
   "outputs": [],
   "source": [
    "df.dtypes"
   ]
  },
  {
   "cell_type": "code",
   "execution_count": null,
   "metadata": {},
   "outputs": [],
   "source": [
    "df[df.Market_Year == 2015]"
   ]
  },
  {
   "cell_type": "code",
   "execution_count": null,
   "metadata": {},
   "outputs": [],
   "source": [
    "import colombia_weather"
   ]
  },
  {
   "cell_type": "code",
   "execution_count": null,
   "metadata": {},
   "outputs": [],
   "source": [
    "pd.DataFrame.from_dict(colombia_weather.stations,orient=\"index\")"
   ]
  },
  {
   "cell_type": "code",
   "execution_count": null,
   "metadata": {},
   "outputs": [],
   "source": [
    "from colombia_weather import weather_stations"
   ]
  },
  {
   "cell_type": "code",
   "execution_count": null,
   "metadata": {
    "scrolled": false
   },
   "outputs": [],
   "source": [
    "colombia_weather.weather_stations"
   ]
  },
  {
   "cell_type": "code",
   "execution_count": null,
   "metadata": {
    "scrolled": true
   },
   "outputs": [],
   "source": [
    "colombia_weather.get_weather()"
   ]
  },
  {
   "cell_type": "code",
   "execution_count": null,
   "metadata": {},
   "outputs": [],
   "source": [
    "df = pd.read_csv(\"coffee_data/coffee.csv\")"
   ]
  },
  {
   "cell_type": "code",
   "execution_count": null,
   "metadata": {},
   "outputs": [],
   "source": [
    "df.price_adjusted_inflation.plot()"
   ]
  },
  {
   "cell_type": "code",
   "execution_count": null,
   "metadata": {},
   "outputs": [],
   "source": [
    "df"
   ]
  },
  {
   "cell_type": "code",
   "execution_count": null,
   "metadata": {},
   "outputs": [],
   "source": [
    "df.date = df.date.apply(pd.to_datetime)"
   ]
  },
  {
   "cell_type": "code",
   "execution_count": null,
   "metadata": {},
   "outputs": [],
   "source": [
    "df.set_index('date',inplace=True)"
   ]
  },
  {
   "cell_type": "code",
   "execution_count": null,
   "metadata": {},
   "outputs": [],
   "source": [
    "df.price_adjusted_inflation.plot()\n",
    "plt.title(\"Price of coffee 1958-\")"
   ]
  },
  {
   "cell_type": "code",
   "execution_count": null,
   "metadata": {},
   "outputs": [],
   "source": []
  },
  {
   "cell_type": "code",
   "execution_count": null,
   "metadata": {},
   "outputs": [],
   "source": [
    "import plotly\n",
    "import pandas as pd\n",
    "import plotly.graph_objects as go"
   ]
  },
  {
   "cell_type": "code",
   "execution_count": null,
   "metadata": {},
   "outputs": [],
   "source": [
    "url = \"https://raw.githubusercontent.com/plotly/datasets/master/gapminderDataFiveYear.csv\"\n",
    "dataset = pd.read_csv(url)"
   ]
  },
  {
   "cell_type": "code",
   "execution_count": null,
   "metadata": {},
   "outputs": [],
   "source": [
    "years = [\"1952\", \"1962\", \"1967\", \"1972\", \"1977\", \"1982\", \"1987\", \"1992\", \"1997\", \"2002\",\"2007\"]"
   ]
  },
  {
   "cell_type": "code",
   "execution_count": null,
   "metadata": {},
   "outputs": [],
   "source": [
    "continents = list(dataset['continent'].unique())"
   ]
  },
  {
   "cell_type": "code",
   "execution_count": null,
   "metadata": {},
   "outputs": [],
   "source": [
    "fig_dict = {\n",
    "    \"data\": [],\n",
    "    \"layout\":{},\n",
    "    \"frames\": []\n",
    "    }"
   ]
  },
  {
   "cell_type": "code",
   "execution_count": null,
   "metadata": {},
   "outputs": [],
   "source": []
  },
  {
   "cell_type": "code",
   "execution_count": null,
   "metadata": {},
   "outputs": [],
   "source": [
    "fig_dict['layout']['xaxis'] = {\"range\": [30,85],'title':'Life Expactancy'}"
   ]
  },
  {
   "cell_type": "code",
   "execution_count": null,
   "metadata": {},
   "outputs": [],
   "source": [
    "# Libraries\n",
    "import numpy as np\n",
    "import matplotlib.pyplot as plt\n",
    "from matplotlib.sankey import Sankey\n",
    " \n",
    "# basic sankey chart\n",
    "Sankey(flows=[1, -0.20, -0.15, -0.05, -0.50, -0.10], labels=['Colombia', 'First', 'Second', 'Third', 'Fourth', 'Fifth'], orientations=[0, 1, -1, -1, 0,1]).finish()\n",
    "plt.title(\"Sankey diagram with default settings\")\n"
   ]
  },
  {
   "cell_type": "code",
   "execution_count": null,
   "metadata": {},
   "outputs": [],
   "source": [
    "import plotly.graph_objects as go\n",
    "\n",
    "fig = go.Figure(go.Sankey(\n",
    "    arrangement = \"snap\",\n",
    "    node = {\n",
    "        \"label\": [\"A\", \"B\", \"C\", \"D\", \"E\", \"F\"],\n",
    "        \"x\": [0.5, 0.1, 0.5, 0.7, 0.3, 0.5],\n",
    "        \"y\": [0.7, 0.5, 0.2, 0.4, 0.2, 0.3],\n",
    "        'pad':10},  # 10 Pixels \n",
    "    link = {\n",
    "        \"source\": [0, 0, 1, 2, 5, 4, 3, 5],\n",
    "        \"target\": [5, 3, 4, 3, 0, 2, 2, 3],\n",
    "        \"value\": [1, 2, 1, 1, 1, 1, 1, 2]}))\n",
    "\n",
    "fig.show()"
   ]
  },
  {
   "cell_type": "code",
   "execution_count": null,
   "metadata": {},
   "outputs": [],
   "source": [
    "import plotly.graph_objects as go\n",
    "import urllib, json\n",
    "\n",
    "url = 'https://raw.githubusercontent.com/plotly/plotly.js/master/test/image/mocks/sankey_energy.json'\n",
    "response = urllib.request.urlopen(url)\n",
    "data = json.loads(response.read())\n",
    "\n",
    "fig = go.Figure(data=[go.Sankey(\n",
    "    valueformat = \".0f\",\n",
    "    valuesuffix = \"TWh\",\n",
    "    node = dict(\n",
    "      pad = 15,\n",
    "      thickness = 15,\n",
    "      line = dict(color = \"black\", width = 0.5),\n",
    "      label =  data['data'][0]['node']['label'],\n",
    "      color =  data['data'][0]['node']['color']\n",
    "    ),\n",
    "    link = dict(\n",
    "      source =  data['data'][0]['link']['source'],\n",
    "      target =  data['data'][0]['link']['target'],\n",
    "      value =  data['data'][0]['link']['value'],\n",
    "      label =  data['data'][0]['link']['label']\n",
    "  ))])\n",
    "\n",
    "fig.update_layout(\n",
    "    hovermode = 'x',\n",
    "    title=\"Energy forecast for 2050<br>Source: Department of Energy & Climate Change, Tom Counsell via <a href='https://bost.ocks.org/mike/sankey/'>Mike Bostock</a>\",\n",
    "    font=dict(size = 10, color = 'white'),\n",
    "    plot_bgcolor='black',\n",
    "    paper_bgcolor='black'\n",
    ")\n",
    "\n",
    "fig.show()"
   ]
  },
  {
   "cell_type": "code",
   "execution_count": 28,
   "metadata": {},
   "outputs": [],
   "source": [
    "country_code = pd.read_json('coffee_data/country_codes.json')"
   ]
  },
  {
   "cell_type": "code",
   "execution_count": 29,
   "metadata": {},
   "outputs": [],
   "source": [
    "country_code.columns = ['country','dest']"
   ]
  },
  {
   "cell_type": "code",
   "execution_count": 15,
   "metadata": {},
   "outputs": [
    {
     "data": {
      "text/html": [
       "<div>\n",
       "<style scoped>\n",
       "    .dataframe tbody tr th:only-of-type {\n",
       "        vertical-align: middle;\n",
       "    }\n",
       "\n",
       "    .dataframe tbody tr th {\n",
       "        vertical-align: top;\n",
       "    }\n",
       "\n",
       "    .dataframe thead th {\n",
       "        text-align: right;\n",
       "    }\n",
       "</style>\n",
       "<table border=\"1\" class=\"dataframe\">\n",
       "  <thead>\n",
       "    <tr style=\"text-align: right;\">\n",
       "      <th></th>\n",
       "      <th>country</th>\n",
       "      <th>dest</th>\n",
       "    </tr>\n",
       "  </thead>\n",
       "  <tbody>\n",
       "    <tr>\n",
       "      <th>0</th>\n",
       "      <td>Angola</td>\n",
       "      <td>ago</td>\n",
       "    </tr>\n",
       "    <tr>\n",
       "      <th>1</th>\n",
       "      <td>Burundi</td>\n",
       "      <td>bdi</td>\n",
       "    </tr>\n",
       "    <tr>\n",
       "      <th>2</th>\n",
       "      <td>Benin</td>\n",
       "      <td>ben</td>\n",
       "    </tr>\n",
       "    <tr>\n",
       "      <th>3</th>\n",
       "      <td>Burkina Faso</td>\n",
       "      <td>bfa</td>\n",
       "    </tr>\n",
       "    <tr>\n",
       "      <th>4</th>\n",
       "      <td>Botswana</td>\n",
       "      <td>bwa</td>\n",
       "    </tr>\n",
       "    <tr>\n",
       "      <th>5</th>\n",
       "      <td>Central African Republic</td>\n",
       "      <td>caf</td>\n",
       "    </tr>\n",
       "    <tr>\n",
       "      <th>6</th>\n",
       "      <td>Cote d'Ivoire</td>\n",
       "      <td>civ</td>\n",
       "    </tr>\n",
       "    <tr>\n",
       "      <th>7</th>\n",
       "      <td>Cameroon</td>\n",
       "      <td>cmr</td>\n",
       "    </tr>\n",
       "    <tr>\n",
       "      <th>8</th>\n",
       "      <td>Democratic Republic of the Congo</td>\n",
       "      <td>cod</td>\n",
       "    </tr>\n",
       "    <tr>\n",
       "      <th>9</th>\n",
       "      <td>Republic of the Congo</td>\n",
       "      <td>cog</td>\n",
       "    </tr>\n",
       "    <tr>\n",
       "      <th>10</th>\n",
       "      <td>Comoros</td>\n",
       "      <td>com</td>\n",
       "    </tr>\n",
       "    <tr>\n",
       "      <th>11</th>\n",
       "      <td>Cape Verde</td>\n",
       "      <td>cpv</td>\n",
       "    </tr>\n",
       "    <tr>\n",
       "      <th>12</th>\n",
       "      <td>Djibouti</td>\n",
       "      <td>dji</td>\n",
       "    </tr>\n",
       "    <tr>\n",
       "      <th>13</th>\n",
       "      <td>Algeria</td>\n",
       "      <td>dza</td>\n",
       "    </tr>\n",
       "    <tr>\n",
       "      <th>14</th>\n",
       "      <td>Egypt</td>\n",
       "      <td>egy</td>\n",
       "    </tr>\n",
       "    <tr>\n",
       "      <th>15</th>\n",
       "      <td>Eritrea</td>\n",
       "      <td>eri</td>\n",
       "    </tr>\n",
       "    <tr>\n",
       "      <th>16</th>\n",
       "      <td>Western Sahara</td>\n",
       "      <td>esh</td>\n",
       "    </tr>\n",
       "    <tr>\n",
       "      <th>17</th>\n",
       "      <td>Ethiopia</td>\n",
       "      <td>eth</td>\n",
       "    </tr>\n",
       "    <tr>\n",
       "      <th>18</th>\n",
       "      <td>Gabon</td>\n",
       "      <td>gab</td>\n",
       "    </tr>\n",
       "    <tr>\n",
       "      <th>19</th>\n",
       "      <td>Ghana</td>\n",
       "      <td>gha</td>\n",
       "    </tr>\n",
       "    <tr>\n",
       "      <th>20</th>\n",
       "      <td>Guinea</td>\n",
       "      <td>gin</td>\n",
       "    </tr>\n",
       "    <tr>\n",
       "      <th>21</th>\n",
       "      <td>Gambia</td>\n",
       "      <td>gmb</td>\n",
       "    </tr>\n",
       "    <tr>\n",
       "      <th>22</th>\n",
       "      <td>Guinea-Bissau</td>\n",
       "      <td>gnb</td>\n",
       "    </tr>\n",
       "    <tr>\n",
       "      <th>23</th>\n",
       "      <td>Equatorial Guinea</td>\n",
       "      <td>gnq</td>\n",
       "    </tr>\n",
       "    <tr>\n",
       "      <th>24</th>\n",
       "      <td>Kenya</td>\n",
       "      <td>ken</td>\n",
       "    </tr>\n",
       "    <tr>\n",
       "      <th>25</th>\n",
       "      <td>Liberia</td>\n",
       "      <td>lbr</td>\n",
       "    </tr>\n",
       "    <tr>\n",
       "      <th>26</th>\n",
       "      <td>Libya</td>\n",
       "      <td>lby</td>\n",
       "    </tr>\n",
       "    <tr>\n",
       "      <th>27</th>\n",
       "      <td>Lesotho</td>\n",
       "      <td>lso</td>\n",
       "    </tr>\n",
       "    <tr>\n",
       "      <th>28</th>\n",
       "      <td>Morocco</td>\n",
       "      <td>mar</td>\n",
       "    </tr>\n",
       "    <tr>\n",
       "      <th>29</th>\n",
       "      <td>Madagascar</td>\n",
       "      <td>mdg</td>\n",
       "    </tr>\n",
       "    <tr>\n",
       "      <th>...</th>\n",
       "      <td>...</td>\n",
       "      <td>...</td>\n",
       "    </tr>\n",
       "    <tr>\n",
       "      <th>232</th>\n",
       "      <td>Niue</td>\n",
       "      <td>niu</td>\n",
       "    </tr>\n",
       "    <tr>\n",
       "      <th>233</th>\n",
       "      <td>Nauru</td>\n",
       "      <td>nru</td>\n",
       "    </tr>\n",
       "    <tr>\n",
       "      <th>234</th>\n",
       "      <td>New Zealand</td>\n",
       "      <td>nzl</td>\n",
       "    </tr>\n",
       "    <tr>\n",
       "      <th>235</th>\n",
       "      <td>Pitcairn Islands</td>\n",
       "      <td>pcn</td>\n",
       "    </tr>\n",
       "    <tr>\n",
       "      <th>236</th>\n",
       "      <td>Palau</td>\n",
       "      <td>plw</td>\n",
       "    </tr>\n",
       "    <tr>\n",
       "      <th>237</th>\n",
       "      <td>Papua New Guinea</td>\n",
       "      <td>png</td>\n",
       "    </tr>\n",
       "    <tr>\n",
       "      <th>238</th>\n",
       "      <td>French Polynesia</td>\n",
       "      <td>pyf</td>\n",
       "    </tr>\n",
       "    <tr>\n",
       "      <th>239</th>\n",
       "      <td>Solomon Islands</td>\n",
       "      <td>slb</td>\n",
       "    </tr>\n",
       "    <tr>\n",
       "      <th>240</th>\n",
       "      <td>Tokelau</td>\n",
       "      <td>tkl</td>\n",
       "    </tr>\n",
       "    <tr>\n",
       "      <th>241</th>\n",
       "      <td>Tonga</td>\n",
       "      <td>ton</td>\n",
       "    </tr>\n",
       "    <tr>\n",
       "      <th>242</th>\n",
       "      <td>Tuvalu</td>\n",
       "      <td>tuv</td>\n",
       "    </tr>\n",
       "    <tr>\n",
       "      <th>243</th>\n",
       "      <td>Vanuatu</td>\n",
       "      <td>vut</td>\n",
       "    </tr>\n",
       "    <tr>\n",
       "      <th>244</th>\n",
       "      <td>Wallis and Futuna</td>\n",
       "      <td>wlf</td>\n",
       "    </tr>\n",
       "    <tr>\n",
       "      <th>245</th>\n",
       "      <td>Samoa</td>\n",
       "      <td>wsm</td>\n",
       "    </tr>\n",
       "    <tr>\n",
       "      <th>246</th>\n",
       "      <td>Argentina</td>\n",
       "      <td>arg</td>\n",
       "    </tr>\n",
       "    <tr>\n",
       "      <th>247</th>\n",
       "      <td>Bolivia</td>\n",
       "      <td>bol</td>\n",
       "    </tr>\n",
       "    <tr>\n",
       "      <th>248</th>\n",
       "      <td>Brazil</td>\n",
       "      <td>bra</td>\n",
       "    </tr>\n",
       "    <tr>\n",
       "      <th>249</th>\n",
       "      <td>Chile</td>\n",
       "      <td>chl</td>\n",
       "    </tr>\n",
       "    <tr>\n",
       "      <th>250</th>\n",
       "      <td>Colombia</td>\n",
       "      <td>col</td>\n",
       "    </tr>\n",
       "    <tr>\n",
       "      <th>251</th>\n",
       "      <td>Ecuador</td>\n",
       "      <td>ecu</td>\n",
       "    </tr>\n",
       "    <tr>\n",
       "      <th>252</th>\n",
       "      <td>Falkland Islands</td>\n",
       "      <td>flk</td>\n",
       "    </tr>\n",
       "    <tr>\n",
       "      <th>253</th>\n",
       "      <td>French Guiana</td>\n",
       "      <td>guf</td>\n",
       "    </tr>\n",
       "    <tr>\n",
       "      <th>254</th>\n",
       "      <td>Guyana</td>\n",
       "      <td>guy</td>\n",
       "    </tr>\n",
       "    <tr>\n",
       "      <th>255</th>\n",
       "      <td>Peru</td>\n",
       "      <td>per</td>\n",
       "    </tr>\n",
       "    <tr>\n",
       "      <th>256</th>\n",
       "      <td>Paraguay</td>\n",
       "      <td>pry</td>\n",
       "    </tr>\n",
       "    <tr>\n",
       "      <th>257</th>\n",
       "      <td>Suriname</td>\n",
       "      <td>sur</td>\n",
       "    </tr>\n",
       "    <tr>\n",
       "      <th>258</th>\n",
       "      <td>Uruguay</td>\n",
       "      <td>ury</td>\n",
       "    </tr>\n",
       "    <tr>\n",
       "      <th>259</th>\n",
       "      <td>Venezuela</td>\n",
       "      <td>ven</td>\n",
       "    </tr>\n",
       "    <tr>\n",
       "      <th>260</th>\n",
       "      <td>World</td>\n",
       "      <td>wld</td>\n",
       "    </tr>\n",
       "    <tr>\n",
       "      <th>261</th>\n",
       "      <td>Areas</td>\n",
       "      <td>xxa</td>\n",
       "    </tr>\n",
       "  </tbody>\n",
       "</table>\n",
       "<p>262 rows × 2 columns</p>\n",
       "</div>"
      ],
      "text/plain": [
       "                              country dest\n",
       "0                              Angola  ago\n",
       "1                             Burundi  bdi\n",
       "2                               Benin  ben\n",
       "3                        Burkina Faso  bfa\n",
       "4                            Botswana  bwa\n",
       "5            Central African Republic  caf\n",
       "6                       Cote d'Ivoire  civ\n",
       "7                            Cameroon  cmr\n",
       "8    Democratic Republic of the Congo  cod\n",
       "9               Republic of the Congo  cog\n",
       "10                            Comoros  com\n",
       "11                         Cape Verde  cpv\n",
       "12                           Djibouti  dji\n",
       "13                            Algeria  dza\n",
       "14                              Egypt  egy\n",
       "15                            Eritrea  eri\n",
       "16                     Western Sahara  esh\n",
       "17                           Ethiopia  eth\n",
       "18                              Gabon  gab\n",
       "19                              Ghana  gha\n",
       "20                             Guinea  gin\n",
       "21                             Gambia  gmb\n",
       "22                      Guinea-Bissau  gnb\n",
       "23                  Equatorial Guinea  gnq\n",
       "24                              Kenya  ken\n",
       "25                            Liberia  lbr\n",
       "26                              Libya  lby\n",
       "27                            Lesotho  lso\n",
       "28                            Morocco  mar\n",
       "29                         Madagascar  mdg\n",
       "..                                ...  ...\n",
       "232                              Niue  niu\n",
       "233                             Nauru  nru\n",
       "234                       New Zealand  nzl\n",
       "235                  Pitcairn Islands  pcn\n",
       "236                             Palau  plw\n",
       "237                  Papua New Guinea  png\n",
       "238                  French Polynesia  pyf\n",
       "239                   Solomon Islands  slb\n",
       "240                           Tokelau  tkl\n",
       "241                             Tonga  ton\n",
       "242                            Tuvalu  tuv\n",
       "243                           Vanuatu  vut\n",
       "244                 Wallis and Futuna  wlf\n",
       "245                             Samoa  wsm\n",
       "246                         Argentina  arg\n",
       "247                           Bolivia  bol\n",
       "248                            Brazil  bra\n",
       "249                             Chile  chl\n",
       "250                          Colombia  col\n",
       "251                           Ecuador  ecu\n",
       "252                  Falkland Islands  flk\n",
       "253                     French Guiana  guf\n",
       "254                            Guyana  guy\n",
       "255                              Peru  per\n",
       "256                          Paraguay  pry\n",
       "257                          Suriname  sur\n",
       "258                           Uruguay  ury\n",
       "259                         Venezuela  ven\n",
       "260                             World  wld\n",
       "261                             Areas  xxa\n",
       "\n",
       "[262 rows x 2 columns]"
      ]
     },
     "execution_count": 15,
     "metadata": {},
     "output_type": "execute_result"
    }
   ],
   "source": [
    "country_code"
   ]
  },
  {
   "cell_type": "code",
   "execution_count": 30,
   "metadata": {},
   "outputs": [],
   "source": [
    "coffee_export_by_country = pd.read_csv(\"coffee_data/coffee_export_numbers.csv\")"
   ]
  },
  {
   "cell_type": "code",
   "execution_count": 31,
   "metadata": {},
   "outputs": [
    {
     "data": {
      "text/plain": [
       "(3177, 6)"
      ]
     },
     "execution_count": 31,
     "metadata": {},
     "output_type": "execute_result"
    }
   ],
   "source": [
    "coffee_export_by_country.shape"
   ]
  },
  {
   "cell_type": "code",
   "execution_count": 32,
   "metadata": {},
   "outputs": [],
   "source": [
    "coffee_export_by_country = pd.merge(coffee_export_by_country,country_code,on=\"dest\",how=\"outer\")"
   ]
  },
  {
   "cell_type": "code",
   "execution_count": 33,
   "metadata": {},
   "outputs": [],
   "source": [
    "coffee_export_by_country.to_csv(\"coffee_data/coffee_export_by_country.csv\")"
   ]
  },
  {
   "cell_type": "code",
   "execution_count": 187,
   "metadata": {},
   "outputs": [],
   "source": [
    "df = pd.read_csv('coffee_data/coffee_export_by_country.csv')"
   ]
  },
  {
   "cell_type": "code",
   "execution_count": 188,
   "metadata": {},
   "outputs": [
    {
     "data": {
      "text/plain": [
       "(3280, 8)"
      ]
     },
     "execution_count": 188,
     "metadata": {},
     "output_type": "execute_result"
    }
   ],
   "source": [
    "df.shape"
   ]
  },
  {
   "cell_type": "code",
   "execution_count": 199,
   "metadata": {},
   "outputs": [],
   "source": [
    "df = colombia_weather.get_weather()"
   ]
  },
  {
   "cell_type": "code",
   "execution_count": 200,
   "metadata": {},
   "outputs": [
    {
     "data": {
      "text/plain": [
       "0.6217877265790696"
      ]
     },
     "execution_count": 200,
     "metadata": {},
     "output_type": "execute_result"
    }
   ],
   "source": [
    "df[df.PRCP >=0].shape[0]/df.shape[0]"
   ]
  },
  {
   "cell_type": "code",
   "execution_count": 201,
   "metadata": {},
   "outputs": [
    {
     "data": {
      "text/html": [
       "<div>\n",
       "<style scoped>\n",
       "    .dataframe tbody tr th:only-of-type {\n",
       "        vertical-align: middle;\n",
       "    }\n",
       "\n",
       "    .dataframe tbody tr th {\n",
       "        vertical-align: top;\n",
       "    }\n",
       "\n",
       "    .dataframe thead th {\n",
       "        text-align: right;\n",
       "    }\n",
       "</style>\n",
       "<table border=\"1\" class=\"dataframe\">\n",
       "  <thead>\n",
       "    <tr style=\"text-align: right;\">\n",
       "      <th></th>\n",
       "      <th>STATION</th>\n",
       "      <th>NAME</th>\n",
       "      <th>LATITUDE</th>\n",
       "      <th>LONGITUDE</th>\n",
       "      <th>ELEVATION</th>\n",
       "      <th>DATE</th>\n",
       "      <th>PRCP</th>\n",
       "      <th>TAVG</th>\n",
       "      <th>TMAX</th>\n",
       "      <th>TMIN</th>\n",
       "    </tr>\n",
       "  </thead>\n",
       "  <tbody>\n",
       "    <tr>\n",
       "      <th>0</th>\n",
       "      <td>COM00080094</td>\n",
       "      <td>PALONEGRO, CO</td>\n",
       "      <td>7.127</td>\n",
       "      <td>-73.185</td>\n",
       "      <td>1187.8</td>\n",
       "      <td>1990-01-06</td>\n",
       "      <td>NaN</td>\n",
       "      <td>72.0</td>\n",
       "      <td>NaN</td>\n",
       "      <td>NaN</td>\n",
       "    </tr>\n",
       "    <tr>\n",
       "      <th>1</th>\n",
       "      <td>COM00080094</td>\n",
       "      <td>PALONEGRO, CO</td>\n",
       "      <td>7.127</td>\n",
       "      <td>-73.185</td>\n",
       "      <td>1187.8</td>\n",
       "      <td>1990-01-08</td>\n",
       "      <td>NaN</td>\n",
       "      <td>69.0</td>\n",
       "      <td>NaN</td>\n",
       "      <td>NaN</td>\n",
       "    </tr>\n",
       "    <tr>\n",
       "      <th>2</th>\n",
       "      <td>COM00080094</td>\n",
       "      <td>PALONEGRO, CO</td>\n",
       "      <td>7.127</td>\n",
       "      <td>-73.185</td>\n",
       "      <td>1187.8</td>\n",
       "      <td>1990-01-09</td>\n",
       "      <td>NaN</td>\n",
       "      <td>71.0</td>\n",
       "      <td>NaN</td>\n",
       "      <td>NaN</td>\n",
       "    </tr>\n",
       "    <tr>\n",
       "      <th>3</th>\n",
       "      <td>COM00080094</td>\n",
       "      <td>PALONEGRO, CO</td>\n",
       "      <td>7.127</td>\n",
       "      <td>-73.185</td>\n",
       "      <td>1187.8</td>\n",
       "      <td>1990-01-10</td>\n",
       "      <td>0.04</td>\n",
       "      <td>70.0</td>\n",
       "      <td>NaN</td>\n",
       "      <td>64.0</td>\n",
       "    </tr>\n",
       "    <tr>\n",
       "      <th>4</th>\n",
       "      <td>COM00080094</td>\n",
       "      <td>PALONEGRO, CO</td>\n",
       "      <td>7.127</td>\n",
       "      <td>-73.185</td>\n",
       "      <td>1187.8</td>\n",
       "      <td>1990-01-11</td>\n",
       "      <td>0.00</td>\n",
       "      <td>69.0</td>\n",
       "      <td>75.0</td>\n",
       "      <td>64.0</td>\n",
       "    </tr>\n",
       "  </tbody>\n",
       "</table>\n",
       "</div>"
      ],
      "text/plain": [
       "       STATION           NAME  LATITUDE  LONGITUDE  ELEVATION        DATE  \\\n",
       "0  COM00080094  PALONEGRO, CO     7.127    -73.185     1187.8  1990-01-06   \n",
       "1  COM00080094  PALONEGRO, CO     7.127    -73.185     1187.8  1990-01-08   \n",
       "2  COM00080094  PALONEGRO, CO     7.127    -73.185     1187.8  1990-01-09   \n",
       "3  COM00080094  PALONEGRO, CO     7.127    -73.185     1187.8  1990-01-10   \n",
       "4  COM00080094  PALONEGRO, CO     7.127    -73.185     1187.8  1990-01-11   \n",
       "\n",
       "   PRCP  TAVG  TMAX  TMIN  \n",
       "0   NaN  72.0   NaN   NaN  \n",
       "1   NaN  69.0   NaN   NaN  \n",
       "2   NaN  71.0   NaN   NaN  \n",
       "3  0.04  70.0   NaN  64.0  \n",
       "4  0.00  69.0  75.0  64.0  "
      ]
     },
     "execution_count": 201,
     "metadata": {},
     "output_type": "execute_result"
    }
   ],
   "source": [
    "df[df.DATE > '1990-01-01'].head(5)"
   ]
  },
  {
   "cell_type": "code",
   "execution_count": 202,
   "metadata": {},
   "outputs": [],
   "source": [
    "df.DATE = pd.to_datetime(df.DATE)\n",
    "df[\"DATE2\"] = df.DATE"
   ]
  },
  {
   "cell_type": "code",
   "execution_count": null,
   "metadata": {},
   "outputs": [],
   "source": []
  },
  {
   "cell_type": "code",
   "execution_count": 203,
   "metadata": {},
   "outputs": [
    {
     "data": {
      "text/plain": [
       "STATION              object\n",
       "NAME                 object\n",
       "LATITUDE            float64\n",
       "LONGITUDE           float64\n",
       "ELEVATION           float64\n",
       "DATE         datetime64[ns]\n",
       "PRCP                float64\n",
       "TAVG                float64\n",
       "TMAX                float64\n",
       "TMIN                float64\n",
       "DATE2        datetime64[ns]\n",
       "dtype: object"
      ]
     },
     "execution_count": 203,
     "metadata": {},
     "output_type": "execute_result"
    }
   ],
   "source": [
    "df.dtypes"
   ]
  },
  {
   "cell_type": "code",
   "execution_count": 204,
   "metadata": {},
   "outputs": [],
   "source": [
    "df.set_index('DATE',inplace=True)"
   ]
  },
  {
   "cell_type": "code",
   "execution_count": 210,
   "metadata": {},
   "outputs": [],
   "source": [
    "stations = df.NAME.unique()"
   ]
  },
  {
   "cell_type": "code",
   "execution_count": 211,
   "metadata": {},
   "outputs": [
    {
     "data": {
      "text/plain": [
       "array(['PALONEGRO, CO', 'SAN LUIS, CO', 'SANTIAGO PEREZ, CO',\n",
       "       'OLAYA HERRERA, CO', 'CAMILO DAZA, CO', 'LAS GAVIOTAS, CO',\n",
       "       'ALFONSO LOPEZ PUMAREJO, CO', 'VANGUARDIA, CO',\n",
       "       'SAN ANDRES ISLA S, CO', 'PASTO ANTONIO NARIN, CO', 'MATECANA, CO',\n",
       "       'ALMIRANTE PADILLA, CO', 'JOSE MARIA CORDOVA, CO', 'EL EDEN, CO',\n",
       "       'ALFREDO VASQUEZ COBO, CO', 'BENITO SALAS, CO',\n",
       "       'BOGOTA ELDORADO, CO', 'PERALES, CO', 'SANTA ROSA AMANADONA, VE',\n",
       "       'PUERTO CARRENO A.GU, VE', 'ANTONIO ROLDAN BETANCOURT, CO',\n",
       "       'RAFAEL NUNEZ, CO', 'LOS GARZONES, CO', 'EL CARANO, CO',\n",
       "       'EL EMBRUJO, CO', 'ERNESTO CORTISSOZ, CO',\n",
       "       'CALI ALFONSO BONILL, CO', 'SIMON BOLIVAR, CO', 'YARIGUIES, CO'],\n",
       "      dtype=object)"
      ]
     },
     "execution_count": 211,
     "metadata": {},
     "output_type": "execute_result"
    }
   ],
   "source": []
  },
  {
   "cell_type": "code",
   "execution_count": 230,
   "metadata": {},
   "outputs": [],
   "source": [
    "station_activity = pd.DataFrame(df.NAME.unique(),columns=['station_name'])"
   ]
  },
  {
   "cell_type": "code",
   "execution_count": 232,
   "metadata": {},
   "outputs": [
    {
     "data": {
      "text/html": [
       "<div>\n",
       "<style scoped>\n",
       "    .dataframe tbody tr th:only-of-type {\n",
       "        vertical-align: middle;\n",
       "    }\n",
       "\n",
       "    .dataframe tbody tr th {\n",
       "        vertical-align: top;\n",
       "    }\n",
       "\n",
       "    .dataframe thead th {\n",
       "        text-align: right;\n",
       "    }\n",
       "</style>\n",
       "<table border=\"1\" class=\"dataframe\">\n",
       "  <thead>\n",
       "    <tr style=\"text-align: right;\">\n",
       "      <th></th>\n",
       "      <th>station_name</th>\n",
       "    </tr>\n",
       "  </thead>\n",
       "  <tbody>\n",
       "    <tr>\n",
       "      <th>0</th>\n",
       "      <td>PALONEGRO, CO</td>\n",
       "    </tr>\n",
       "    <tr>\n",
       "      <th>1</th>\n",
       "      <td>SAN LUIS, CO</td>\n",
       "    </tr>\n",
       "  </tbody>\n",
       "</table>\n",
       "</div>"
      ],
      "text/plain": [
       "    station_name\n",
       "0  PALONEGRO, CO\n",
       "1   SAN LUIS, CO"
      ]
     },
     "execution_count": 232,
     "metadata": {},
     "output_type": "execute_result"
    }
   ],
   "source": [
    "station_activity.head(2)"
   ]
  },
  {
   "cell_type": "code",
   "execution_count": 233,
   "metadata": {},
   "outputs": [],
   "source": [
    "station_activity = station_activity.sort_values(by='station_name').set_index('station_name')"
   ]
  },
  {
   "cell_type": "code",
   "execution_count": 234,
   "metadata": {},
   "outputs": [
    {
     "data": {
      "text/html": [
       "<div>\n",
       "<style scoped>\n",
       "    .dataframe tbody tr th:only-of-type {\n",
       "        vertical-align: middle;\n",
       "    }\n",
       "\n",
       "    .dataframe tbody tr th {\n",
       "        vertical-align: top;\n",
       "    }\n",
       "\n",
       "    .dataframe thead th {\n",
       "        text-align: right;\n",
       "    }\n",
       "</style>\n",
       "<table border=\"1\" class=\"dataframe\">\n",
       "  <thead>\n",
       "    <tr style=\"text-align: right;\">\n",
       "      <th></th>\n",
       "    </tr>\n",
       "    <tr>\n",
       "      <th>station_name</th>\n",
       "    </tr>\n",
       "  </thead>\n",
       "  <tbody>\n",
       "    <tr>\n",
       "      <th>ALFONSO LOPEZ PUMAREJO, CO</th>\n",
       "    </tr>\n",
       "    <tr>\n",
       "      <th>ALFREDO VASQUEZ COBO, CO</th>\n",
       "    </tr>\n",
       "    <tr>\n",
       "      <th>ALMIRANTE PADILLA, CO</th>\n",
       "    </tr>\n",
       "    <tr>\n",
       "      <th>ANTONIO ROLDAN BETANCOURT, CO</th>\n",
       "    </tr>\n",
       "    <tr>\n",
       "      <th>BENITO SALAS, CO</th>\n",
       "    </tr>\n",
       "  </tbody>\n",
       "</table>\n",
       "</div>"
      ],
      "text/plain": [
       "Empty DataFrame\n",
       "Columns: []\n",
       "Index: [ALFONSO LOPEZ PUMAREJO, CO, ALFREDO VASQUEZ COBO, CO, ALMIRANTE PADILLA, CO, ANTONIO ROLDAN BETANCOURT, CO, BENITO SALAS, CO]"
      ]
     },
     "execution_count": 234,
     "metadata": {},
     "output_type": "execute_result"
    }
   ],
   "source": [
    "station_activity.head()"
   ]
  },
  {
   "cell_type": "code",
   "execution_count": null,
   "metadata": {},
   "outputs": [],
   "source": [
    "station_activity = pd.concat([station_activity,df.sort_values(by='NAME').groupby(\"NAME\")['DATE2'].min()],axis=1).rename(columns={\"DATE2\":\"first_date_record\"})\n",
    "station_activity = pd.concat([station_activity,df.sort_values(by='NAME').groupby(\"NAME\")['DATE2'].max()],axis=1).rename(columns={\"DATE2\":\"last_date_record\"})"
   ]
  },
  {
   "cell_type": "code",
   "execution_count": 154,
   "metadata": {},
   "outputs": [],
   "source": [
    "grouper = df.groupby([pd.Grouper(freq='1M'),'NAME'])"
   ]
  },
  {
   "cell_type": "code",
   "execution_count": 155,
   "metadata": {},
   "outputs": [],
   "source": [
    "grouper = grouper.mean().reset_index(level='NAME')"
   ]
  },
  {
   "cell_type": "code",
   "execution_count": 158,
   "metadata": {},
   "outputs": [
    {
     "data": {
      "text/plain": [
       "<pandas.core.groupby.generic.DataFrameGroupBy object at 0x12062a6d8>"
      ]
     },
     "execution_count": 158,
     "metadata": {},
     "output_type": "execute_result"
    }
   ],
   "source": [
    "grouper.groupby([pd.Grouper(freq='Y')])"
   ]
  },
  {
   "cell_type": "code",
   "execution_count": 162,
   "metadata": {},
   "outputs": [],
   "source": [
    "year_1960 = grouper[grouper.index < '1961-01-01']"
   ]
  },
  {
   "cell_type": "code",
   "execution_count": 165,
   "metadata": {},
   "outputs": [
    {
     "data": {
      "text/plain": [
       "4"
      ]
     },
     "execution_count": 165,
     "metadata": {},
     "output_type": "execute_result"
    }
   ],
   "source": [
    "year_1960.NAME.nunique()"
   ]
  },
  {
   "cell_type": "code",
   "execution_count": 167,
   "metadata": {},
   "outputs": [
    {
     "data": {
      "text/plain": [
       "DATE\n",
       "1960-12-31     4\n",
       "1961-12-31     5\n",
       "1962-12-31     6\n",
       "1963-12-31     9\n",
       "1964-12-31    18\n",
       "1965-12-31    18\n",
       "1966-12-31    18\n",
       "1967-12-31    20\n",
       "1968-12-31    21\n",
       "1969-12-31    23\n",
       "1970-12-31    23\n",
       "1971-12-31    23\n",
       "1972-12-31     6\n",
       "1973-12-31    25\n",
       "1974-12-31    25\n",
       "1975-12-31    26\n",
       "1976-12-31    26\n",
       "1977-12-31    26\n",
       "1978-12-31    26\n",
       "1979-12-31    27\n",
       "1980-12-31    27\n",
       "1981-12-31    26\n",
       "1982-12-31    26\n",
       "1983-12-31    26\n",
       "1984-12-31    23\n",
       "1985-12-31    24\n",
       "1986-12-31    24\n",
       "1987-12-31    24\n",
       "1988-12-31    23\n",
       "1989-12-31    16\n",
       "              ..\n",
       "1991-12-31    24\n",
       "1992-12-31    26\n",
       "1993-12-31    25\n",
       "1994-12-31    24\n",
       "1995-12-31    24\n",
       "1996-12-31    25\n",
       "1997-12-31    24\n",
       "1998-12-31    25\n",
       "1999-12-31    26\n",
       "2000-12-31    26\n",
       "2001-12-31    28\n",
       "2002-12-31    28\n",
       "2003-12-31    27\n",
       "2004-12-31    26\n",
       "2005-12-31    27\n",
       "2006-12-31    26\n",
       "2007-12-31    23\n",
       "2008-12-31    24\n",
       "2009-12-31    27\n",
       "2010-12-31    27\n",
       "2011-12-31    27\n",
       "2012-12-31    27\n",
       "2013-12-31    24\n",
       "2014-12-31    22\n",
       "2015-12-31    27\n",
       "2016-12-31    27\n",
       "2017-12-31    27\n",
       "2018-12-31    27\n",
       "2019-12-31    27\n",
       "2020-12-31    27\n",
       "Freq: A-DEC, Name: NAME, Length: 61, dtype: int64"
      ]
     },
     "execution_count": 167,
     "metadata": {},
     "output_type": "execute_result"
    }
   ],
   "source": [
    "grouper.groupby([pd.Grouper(freq='Y')])['NAME'].nunique()"
   ]
  },
  {
   "cell_type": "code",
   "execution_count": 184,
   "metadata": {},
   "outputs": [],
   "source": [
    "def weather_stations_by_year():\n",
    "    df = colombia_weather.get_weather()\n",
    "    df.DATE = pd.to_datetime(df.DATE)\n",
    "    df.set_index('DATE',inplace=True)\n",
    "    return df.groupby([pd.Grouper(freq='Y')])['NAME'].nunique()"
   ]
  },
  {
   "cell_type": "code",
   "execution_count": 185,
   "metadata": {},
   "outputs": [],
   "source": [
    "df = weather_stations_by_year()"
   ]
  },
  {
   "cell_type": "code",
   "execution_count": 186,
   "metadata": {},
   "outputs": [
    {
     "data": {
      "text/plain": [
       "DATE\n",
       "1960-12-31     4\n",
       "1961-12-31     5\n",
       "1962-12-31     6\n",
       "1963-12-31     9\n",
       "1964-12-31    18\n",
       "1965-12-31    18\n",
       "1966-12-31    18\n",
       "1967-12-31    20\n",
       "1968-12-31    21\n",
       "1969-12-31    23\n",
       "1970-12-31    23\n",
       "1971-12-31    23\n",
       "1972-12-31     6\n",
       "1973-12-31    25\n",
       "1974-12-31    25\n",
       "1975-12-31    26\n",
       "1976-12-31    26\n",
       "1977-12-31    26\n",
       "1978-12-31    26\n",
       "1979-12-31    27\n",
       "1980-12-31    27\n",
       "1981-12-31    26\n",
       "1982-12-31    26\n",
       "1983-12-31    26\n",
       "1984-12-31    23\n",
       "1985-12-31    24\n",
       "1986-12-31    24\n",
       "1987-12-31    24\n",
       "1988-12-31    23\n",
       "1989-12-31    16\n",
       "              ..\n",
       "1991-12-31    24\n",
       "1992-12-31    26\n",
       "1993-12-31    25\n",
       "1994-12-31    24\n",
       "1995-12-31    24\n",
       "1996-12-31    25\n",
       "1997-12-31    24\n",
       "1998-12-31    25\n",
       "1999-12-31    26\n",
       "2000-12-31    26\n",
       "2001-12-31    28\n",
       "2002-12-31    28\n",
       "2003-12-31    27\n",
       "2004-12-31    26\n",
       "2005-12-31    27\n",
       "2006-12-31    26\n",
       "2007-12-31    23\n",
       "2008-12-31    24\n",
       "2009-12-31    27\n",
       "2010-12-31    27\n",
       "2011-12-31    27\n",
       "2012-12-31    27\n",
       "2013-12-31    24\n",
       "2014-12-31    22\n",
       "2015-12-31    27\n",
       "2016-12-31    27\n",
       "2017-12-31    27\n",
       "2018-12-31    27\n",
       "2019-12-31    27\n",
       "2020-12-31    27\n",
       "Freq: A-DEC, Name: NAME, Length: 61, dtype: int64"
      ]
     },
     "execution_count": 186,
     "metadata": {},
     "output_type": "execute_result"
    }
   ],
   "source": []
  },
  {
   "cell_type": "code",
   "execution_count": null,
   "metadata": {},
   "outputs": [],
   "source": []
  }
 ],
 "metadata": {
  "kernelspec": {
   "display_name": "Python 3",
   "language": "python",
   "name": "python3"
  },
  "language_info": {
   "codemirror_mode": {
    "name": "ipython",
    "version": 3
   },
   "file_extension": ".py",
   "mimetype": "text/x-python",
   "name": "python",
   "nbconvert_exporter": "python",
   "pygments_lexer": "ipython3",
   "version": "3.7.3"
  }
 },
 "nbformat": 4,
 "nbformat_minor": 2
}
