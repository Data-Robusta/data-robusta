{
 "cells": [
  {
   "cell_type": "code",
   "execution_count": 17,
   "metadata": {},
   "outputs": [],
   "source": [
    "import pandas as pd\n",
    "import numpy as np\n",
    "import matplotlib.pyplot as plt\n",
    "%matplotlib inline\n",
    "import colombia_weather\n",
    "import prepare"
   ]
  },
  {
   "cell_type": "code",
   "execution_count": 2,
   "metadata": {},
   "outputs": [],
   "source": [
    "df = prepare.get_data()"
   ]
  },
  {
   "cell_type": "code",
   "execution_count": 3,
   "metadata": {},
   "outputs": [
    {
     "data": {
      "text/html": [
       "<div>\n",
       "<style scoped>\n",
       "    .dataframe tbody tr th:only-of-type {\n",
       "        vertical-align: middle;\n",
       "    }\n",
       "\n",
       "    .dataframe tbody tr th {\n",
       "        vertical-align: top;\n",
       "    }\n",
       "\n",
       "    .dataframe thead th {\n",
       "        text-align: right;\n",
       "    }\n",
       "</style>\n",
       "<table border=\"1\" class=\"dataframe\">\n",
       "  <thead>\n",
       "    <tr style=\"text-align: right;\">\n",
       "      <th></th>\n",
       "      <th>region</th>\n",
       "      <th>mean_precip</th>\n",
       "      <th>mean_temp</th>\n",
       "      <th>min_temp</th>\n",
       "      <th>max_temp</th>\n",
       "      <th>price</th>\n",
       "      <th>quantity</th>\n",
       "      <th>inflated</th>\n",
       "    </tr>\n",
       "    <tr>\n",
       "      <th>date</th>\n",
       "      <th></th>\n",
       "      <th></th>\n",
       "      <th></th>\n",
       "      <th></th>\n",
       "      <th></th>\n",
       "      <th></th>\n",
       "      <th></th>\n",
       "      <th></th>\n",
       "    </tr>\n",
       "  </thead>\n",
       "  <tbody>\n",
       "    <tr>\n",
       "      <th>1960-01-01</th>\n",
       "      <td>Caldas</td>\n",
       "      <td>0.040000</td>\n",
       "      <td>72.500000</td>\n",
       "      <td>NaN</td>\n",
       "      <td>NaN</td>\n",
       "      <td>45.680000</td>\n",
       "      <td>782.0</td>\n",
       "      <td>387.519181</td>\n",
       "    </tr>\n",
       "    <tr>\n",
       "      <th>1960-01-01</th>\n",
       "      <td>Cundinamarca</td>\n",
       "      <td>0.280000</td>\n",
       "      <td>58.250000</td>\n",
       "      <td>NaN</td>\n",
       "      <td>NaN</td>\n",
       "      <td>45.680000</td>\n",
       "      <td>782.0</td>\n",
       "      <td>387.519181</td>\n",
       "    </tr>\n",
       "    <tr>\n",
       "      <th>1960-02-01</th>\n",
       "      <td>Caldas</td>\n",
       "      <td>0.040000</td>\n",
       "      <td>72.210526</td>\n",
       "      <td>NaN</td>\n",
       "      <td>NaN</td>\n",
       "      <td>45.950000</td>\n",
       "      <td>449.0</td>\n",
       "      <td>389.809684</td>\n",
       "    </tr>\n",
       "    <tr>\n",
       "      <th>1960-02-01</th>\n",
       "      <td>Cundinamarca</td>\n",
       "      <td>0.082857</td>\n",
       "      <td>58.894737</td>\n",
       "      <td>NaN</td>\n",
       "      <td>NaN</td>\n",
       "      <td>45.950000</td>\n",
       "      <td>449.0</td>\n",
       "      <td>389.809684</td>\n",
       "    </tr>\n",
       "    <tr>\n",
       "      <th>1960-02-01</th>\n",
       "      <td>Narino</td>\n",
       "      <td>0.015172</td>\n",
       "      <td>NaN</td>\n",
       "      <td>NaN</td>\n",
       "      <td>NaN</td>\n",
       "      <td>45.950000</td>\n",
       "      <td>449.0</td>\n",
       "      <td>389.809684</td>\n",
       "    </tr>\n",
       "    <tr>\n",
       "      <th>...</th>\n",
       "      <td>...</td>\n",
       "      <td>...</td>\n",
       "      <td>...</td>\n",
       "      <td>...</td>\n",
       "      <td>...</td>\n",
       "      <td>...</td>\n",
       "      <td>...</td>\n",
       "      <td>...</td>\n",
       "    </tr>\n",
       "    <tr>\n",
       "      <th>2018-12-01</th>\n",
       "      <td>Quindio</td>\n",
       "      <td>0.079032</td>\n",
       "      <td>73.548387</td>\n",
       "      <td>60.0</td>\n",
       "      <td>85.0</td>\n",
       "      <td>129.622903</td>\n",
       "      <td>1283.0</td>\n",
       "      <td>129.622903</td>\n",
       "    </tr>\n",
       "    <tr>\n",
       "      <th>2018-12-01</th>\n",
       "      <td>Risaralda</td>\n",
       "      <td>0.156538</td>\n",
       "      <td>72.387097</td>\n",
       "      <td>62.0</td>\n",
       "      <td>84.0</td>\n",
       "      <td>129.622903</td>\n",
       "      <td>1283.0</td>\n",
       "      <td>129.622903</td>\n",
       "    </tr>\n",
       "    <tr>\n",
       "      <th>2018-12-01</th>\n",
       "      <td>Santander</td>\n",
       "      <td>0.020345</td>\n",
       "      <td>72.419355</td>\n",
       "      <td>63.0</td>\n",
       "      <td>86.0</td>\n",
       "      <td>129.622903</td>\n",
       "      <td>1283.0</td>\n",
       "      <td>129.622903</td>\n",
       "    </tr>\n",
       "    <tr>\n",
       "      <th>2018-12-01</th>\n",
       "      <td>Tolima</td>\n",
       "      <td>0.032500</td>\n",
       "      <td>83.387097</td>\n",
       "      <td>69.0</td>\n",
       "      <td>94.0</td>\n",
       "      <td>129.622903</td>\n",
       "      <td>1283.0</td>\n",
       "      <td>129.622903</td>\n",
       "    </tr>\n",
       "    <tr>\n",
       "      <th>2018-12-01</th>\n",
       "      <td>Valle</td>\n",
       "      <td>0.004167</td>\n",
       "      <td>85.258065</td>\n",
       "      <td>73.0</td>\n",
       "      <td>92.0</td>\n",
       "      <td>129.622903</td>\n",
       "      <td>1283.0</td>\n",
       "      <td>129.622903</td>\n",
       "    </tr>\n",
       "  </tbody>\n",
       "</table>\n",
       "<p>7199 rows × 8 columns</p>\n",
       "</div>"
      ],
      "text/plain": [
       "                  region  mean_precip  mean_temp  min_temp  max_temp  \\\n",
       "date                                                                   \n",
       "1960-01-01        Caldas     0.040000  72.500000       NaN       NaN   \n",
       "1960-01-01  Cundinamarca     0.280000  58.250000       NaN       NaN   \n",
       "1960-02-01        Caldas     0.040000  72.210526       NaN       NaN   \n",
       "1960-02-01  Cundinamarca     0.082857  58.894737       NaN       NaN   \n",
       "1960-02-01        Narino     0.015172        NaN       NaN       NaN   \n",
       "...                  ...          ...        ...       ...       ...   \n",
       "2018-12-01       Quindio     0.079032  73.548387      60.0      85.0   \n",
       "2018-12-01     Risaralda     0.156538  72.387097      62.0      84.0   \n",
       "2018-12-01     Santander     0.020345  72.419355      63.0      86.0   \n",
       "2018-12-01        Tolima     0.032500  83.387097      69.0      94.0   \n",
       "2018-12-01         Valle     0.004167  85.258065      73.0      92.0   \n",
       "\n",
       "                 price  quantity    inflated  \n",
       "date                                          \n",
       "1960-01-01   45.680000     782.0  387.519181  \n",
       "1960-01-01   45.680000     782.0  387.519181  \n",
       "1960-02-01   45.950000     449.0  389.809684  \n",
       "1960-02-01   45.950000     449.0  389.809684  \n",
       "1960-02-01   45.950000     449.0  389.809684  \n",
       "...                ...       ...         ...  \n",
       "2018-12-01  129.622903    1283.0  129.622903  \n",
       "2018-12-01  129.622903    1283.0  129.622903  \n",
       "2018-12-01  129.622903    1283.0  129.622903  \n",
       "2018-12-01  129.622903    1283.0  129.622903  \n",
       "2018-12-01  129.622903    1283.0  129.622903  \n",
       "\n",
       "[7199 rows x 8 columns]"
      ]
     },
     "execution_count": 3,
     "metadata": {},
     "output_type": "execute_result"
    }
   ],
   "source": [
    "df"
   ]
  },
  {
   "cell_type": "code",
   "execution_count": 8,
   "metadata": {},
   "outputs": [
    {
     "data": {
      "text/plain": [
       "(7199, 8)"
      ]
     },
     "execution_count": 8,
     "metadata": {},
     "output_type": "execute_result"
    }
   ],
   "source": [
    "df.shape"
   ]
  },
  {
   "cell_type": "code",
   "execution_count": 9,
   "metadata": {},
   "outputs": [
    {
     "data": {
      "text/html": [
       "<div>\n",
       "<style scoped>\n",
       "    .dataframe tbody tr th:only-of-type {\n",
       "        vertical-align: middle;\n",
       "    }\n",
       "\n",
       "    .dataframe tbody tr th {\n",
       "        vertical-align: top;\n",
       "    }\n",
       "\n",
       "    .dataframe thead th {\n",
       "        text-align: right;\n",
       "    }\n",
       "</style>\n",
       "<table border=\"1\" class=\"dataframe\">\n",
       "  <thead>\n",
       "    <tr style=\"text-align: right;\">\n",
       "      <th></th>\n",
       "      <th>mean_precip</th>\n",
       "      <th>mean_temp</th>\n",
       "      <th>min_temp</th>\n",
       "      <th>max_temp</th>\n",
       "      <th>price</th>\n",
       "      <th>quantity</th>\n",
       "      <th>inflated</th>\n",
       "    </tr>\n",
       "  </thead>\n",
       "  <tbody>\n",
       "    <tr>\n",
       "      <th>count</th>\n",
       "      <td>5594.000000</td>\n",
       "      <td>6974.000000</td>\n",
       "      <td>6715.000000</td>\n",
       "      <td>4778.000000</td>\n",
       "      <td>7199.000000</td>\n",
       "      <td>7199.000000</td>\n",
       "      <td>7199.000000</td>\n",
       "    </tr>\n",
       "    <tr>\n",
       "      <th>mean</th>\n",
       "      <td>0.232269</td>\n",
       "      <td>73.824772</td>\n",
       "      <td>59.647655</td>\n",
       "      <td>86.786731</td>\n",
       "      <td>124.844434</td>\n",
       "      <td>908.786012</td>\n",
       "      <td>285.931798</td>\n",
       "    </tr>\n",
       "    <tr>\n",
       "      <th>std</th>\n",
       "      <td>0.359864</td>\n",
       "      <td>10.446067</td>\n",
       "      <td>13.129839</td>\n",
       "      <td>9.129883</td>\n",
       "      <td>60.170478</td>\n",
       "      <td>380.207469</td>\n",
       "      <td>175.068943</td>\n",
       "    </tr>\n",
       "    <tr>\n",
       "      <th>min</th>\n",
       "      <td>0.000000</td>\n",
       "      <td>49.000000</td>\n",
       "      <td>20.000000</td>\n",
       "      <td>32.000000</td>\n",
       "      <td>37.270000</td>\n",
       "      <td>127.000000</td>\n",
       "      <td>79.446600</td>\n",
       "    </tr>\n",
       "    <tr>\n",
       "      <th>25%</th>\n",
       "      <td>0.052186</td>\n",
       "      <td>69.917500</td>\n",
       "      <td>54.000000</td>\n",
       "      <td>81.000000</td>\n",
       "      <td>70.160000</td>\n",
       "      <td>647.000000</td>\n",
       "      <td>159.021831</td>\n",
       "    </tr>\n",
       "    <tr>\n",
       "      <th>50%</th>\n",
       "      <td>0.134661</td>\n",
       "      <td>74.150376</td>\n",
       "      <td>63.000000</td>\n",
       "      <td>88.000000</td>\n",
       "      <td>128.020000</td>\n",
       "      <td>857.000000</td>\n",
       "      <td>266.159736</td>\n",
       "    </tr>\n",
       "    <tr>\n",
       "      <th>75%</th>\n",
       "      <td>0.279215</td>\n",
       "      <td>82.632895</td>\n",
       "      <td>71.000000</td>\n",
       "      <td>94.000000</td>\n",
       "      <td>157.330000</td>\n",
       "      <td>1114.000000</td>\n",
       "      <td>356.103554</td>\n",
       "    </tr>\n",
       "    <tr>\n",
       "      <th>max</th>\n",
       "      <td>10.040000</td>\n",
       "      <td>91.000000</td>\n",
       "      <td>80.000000</td>\n",
       "      <td>117.000000</td>\n",
       "      <td>319.670000</td>\n",
       "      <td>2755.000000</td>\n",
       "      <td>1324.610143</td>\n",
       "    </tr>\n",
       "  </tbody>\n",
       "</table>\n",
       "</div>"
      ],
      "text/plain": [
       "       mean_precip    mean_temp     min_temp     max_temp        price  \\\n",
       "count  5594.000000  6974.000000  6715.000000  4778.000000  7199.000000   \n",
       "mean      0.232269    73.824772    59.647655    86.786731   124.844434   \n",
       "std       0.359864    10.446067    13.129839     9.129883    60.170478   \n",
       "min       0.000000    49.000000    20.000000    32.000000    37.270000   \n",
       "25%       0.052186    69.917500    54.000000    81.000000    70.160000   \n",
       "50%       0.134661    74.150376    63.000000    88.000000   128.020000   \n",
       "75%       0.279215    82.632895    71.000000    94.000000   157.330000   \n",
       "max      10.040000    91.000000    80.000000   117.000000   319.670000   \n",
       "\n",
       "          quantity     inflated  \n",
       "count  7199.000000  7199.000000  \n",
       "mean    908.786012   285.931798  \n",
       "std     380.207469   175.068943  \n",
       "min     127.000000    79.446600  \n",
       "25%     647.000000   159.021831  \n",
       "50%     857.000000   266.159736  \n",
       "75%    1114.000000   356.103554  \n",
       "max    2755.000000  1324.610143  "
      ]
     },
     "execution_count": 9,
     "metadata": {},
     "output_type": "execute_result"
    }
   ],
   "source": [
    "df.describe()"
   ]
  },
  {
   "cell_type": "code",
   "execution_count": 10,
   "metadata": {},
   "outputs": [
    {
     "name": "stdout",
     "output_type": "stream",
     "text": [
      "<class 'pandas.core.frame.DataFrame'>\n",
      "DatetimeIndex: 7199 entries, 1960-01-01 to 2018-12-01\n",
      "Data columns (total 8 columns):\n",
      "region         7198 non-null object\n",
      "mean_precip    5594 non-null float64\n",
      "mean_temp      6974 non-null float64\n",
      "min_temp       6715 non-null float64\n",
      "max_temp       4778 non-null float64\n",
      "price          7199 non-null float64\n",
      "quantity       7199 non-null float64\n",
      "inflated       7199 non-null float64\n",
      "dtypes: float64(7), object(1)\n",
      "memory usage: 506.2+ KB\n"
     ]
    }
   ],
   "source": [
    "df.info()"
   ]
  },
  {
   "cell_type": "code",
   "execution_count": 7,
   "metadata": {},
   "outputs": [
    {
     "data": {
      "text/plain": [
       "1"
      ]
     },
     "execution_count": 7,
     "metadata": {},
     "output_type": "execute_result"
    }
   ],
   "source": [
    "df.region.isnull().sum()"
   ]
  },
  {
   "cell_type": "code",
   "execution_count": 20,
   "metadata": {},
   "outputs": [
    {
     "data": {
      "text/plain": [
       "Cundinamarca    698\n",
       "Narino          691\n",
       "Risaralda       646\n",
       "Magdalena       614\n",
       "Caldas          583\n",
       "Huila           569\n",
       "Valle           557\n",
       "Antioquia       538\n",
       "Santander       518\n",
       "Cauca           516\n",
       "Tolima          462\n",
       "Cesar           433\n",
       "Quindio         373\n",
       "Name: region, dtype: int64"
      ]
     },
     "execution_count": 20,
     "metadata": {},
     "output_type": "execute_result"
    }
   ],
   "source": [
    "# look where the missing value is\n",
    "df.region.value_counts()"
   ]
  },
  {
   "cell_type": "code",
   "execution_count": null,
   "metadata": {},
   "outputs": [],
   "source": []
  },
  {
   "cell_type": "code",
   "execution_count": 11,
   "metadata": {},
   "outputs": [
    {
     "data": {
      "text/plain": [
       "1605"
      ]
     },
     "execution_count": 11,
     "metadata": {},
     "output_type": "execute_result"
    }
   ],
   "source": [
    "df.mean_precip.isnull().sum()"
   ]
  },
  {
   "cell_type": "code",
   "execution_count": 18,
   "metadata": {},
   "outputs": [
    {
     "data": {
      "text/html": [
       "<div>\n",
       "<style scoped>\n",
       "    .dataframe tbody tr th:only-of-type {\n",
       "        vertical-align: middle;\n",
       "    }\n",
       "\n",
       "    .dataframe tbody tr th {\n",
       "        vertical-align: top;\n",
       "    }\n",
       "\n",
       "    .dataframe thead th {\n",
       "        text-align: right;\n",
       "    }\n",
       "</style>\n",
       "<table border=\"1\" class=\"dataframe\">\n",
       "  <thead>\n",
       "    <tr style=\"text-align: right;\">\n",
       "      <th></th>\n",
       "      <th>region</th>\n",
       "      <th>mean_precip</th>\n",
       "      <th>mean_temp</th>\n",
       "      <th>min_temp</th>\n",
       "      <th>max_temp</th>\n",
       "      <th>price</th>\n",
       "      <th>quantity</th>\n",
       "      <th>inflated</th>\n",
       "    </tr>\n",
       "    <tr>\n",
       "      <th>date</th>\n",
       "      <th></th>\n",
       "      <th></th>\n",
       "      <th></th>\n",
       "      <th></th>\n",
       "      <th></th>\n",
       "      <th></th>\n",
       "      <th></th>\n",
       "      <th></th>\n",
       "    </tr>\n",
       "  </thead>\n",
       "  <tbody>\n",
       "  </tbody>\n",
       "</table>\n",
       "</div>"
      ],
      "text/plain": [
       "Empty DataFrame\n",
       "Columns: [region, mean_precip, mean_temp, min_temp, max_temp, price, quantity, inflated]\n",
       "Index: []"
      ]
     },
     "execution_count": 18,
     "metadata": {},
     "output_type": "execute_result"
    }
   ],
   "source": [
    "df[df.region == np.nan]"
   ]
  },
  {
   "cell_type": "code",
   "execution_count": null,
   "metadata": {},
   "outputs": [],
   "source": []
  }
 ],
 "metadata": {
  "kernelspec": {
   "display_name": "Python 3",
   "language": "python",
   "name": "python3"
  },
  "language_info": {
   "codemirror_mode": {
    "name": "ipython",
    "version": 3
   },
   "file_extension": ".py",
   "mimetype": "text/x-python",
   "name": "python",
   "nbconvert_exporter": "python",
   "pygments_lexer": "ipython3",
   "version": "3.7.3"
  }
 },
 "nbformat": 4,
 "nbformat_minor": 2
}
